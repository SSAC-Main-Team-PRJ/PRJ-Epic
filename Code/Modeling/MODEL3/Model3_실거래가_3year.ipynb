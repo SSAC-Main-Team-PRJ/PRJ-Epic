{
 "cells": [
  {
   "cell_type": "code",
   "execution_count": 1,
   "metadata": {
    "ExecuteTime": {
     "end_time": "2021-12-06T03:13:28.620916Z",
     "start_time": "2021-12-06T03:13:28.611891Z"
    },
    "id": "NlhBvyZY-Bvm"
   },
   "outputs": [],
   "source": [
    "import os\n",
    "os.chdir(r\"C:\\Users\\user\\Desktop\\SSAC\\price_project\\data\")"
   ]
  },
  {
   "cell_type": "markdown",
   "metadata": {
    "id": "qmPKgNGd-Bvn"
   },
   "source": [
    "## train.csv 탐색 및 전처리"
   ]
  },
  {
   "cell_type": "code",
   "execution_count": 2,
   "metadata": {
    "ExecuteTime": {
     "end_time": "2021-12-06T03:13:32.381430Z",
     "start_time": "2021-12-06T03:13:30.260446Z"
    },
    "executionInfo": {
     "elapsed": 1547,
     "status": "ok",
     "timestamp": 1638432267149,
     "user": {
      "displayName": "이구미",
      "photoUrl": "https://lh3.googleusercontent.com/a/default-user=s64",
      "userId": "08177866432571939523"
     },
     "user_tz": -540
    },
    "id": "z4sCURLx-Bvp"
   },
   "outputs": [],
   "source": [
    "import pandas as pd\n",
    "df = pd.read_csv(\"train/transaction_2018~2020.csv\", engine = \"python\", encoding = \"utf8\")"
   ]
  },
  {
   "cell_type": "code",
   "execution_count": 3,
   "metadata": {
    "ExecuteTime": {
     "end_time": "2021-12-06T03:13:33.229880Z",
     "start_time": "2021-12-06T03:13:33.194935Z"
    },
    "colab": {
     "base_uri": "https://localhost:8080/",
     "height": 317
    },
    "executionInfo": {
     "elapsed": 498,
     "status": "ok",
     "timestamp": 1638431664238,
     "user": {
      "displayName": "이구미",
      "photoUrl": "https://lh3.googleusercontent.com/a/default-user=s64",
      "userId": "08177866432571939523"
     },
     "user_tz": -540
    },
    "id": "KOjRw-0S-Bvp",
    "outputId": "edede3fb-12f3-48fb-d981-72acfe3a5faf",
    "scrolled": true
   },
   "outputs": [
    {
     "data": {
      "text/html": [
       "<div>\n",
       "<style scoped>\n",
       "    .dataframe tbody tr th:only-of-type {\n",
       "        vertical-align: middle;\n",
       "    }\n",
       "\n",
       "    .dataframe tbody tr th {\n",
       "        vertical-align: top;\n",
       "    }\n",
       "\n",
       "    .dataframe thead th {\n",
       "        text-align: right;\n",
       "    }\n",
       "</style>\n",
       "<table border=\"1\" class=\"dataframe\">\n",
       "  <thead>\n",
       "    <tr style=\"text-align: right;\">\n",
       "      <th></th>\n",
       "      <th>Unnamed: 0</th>\n",
       "      <th>city</th>\n",
       "      <th>apt</th>\n",
       "      <th>exclusive_use_area</th>\n",
       "      <th>transaction_year_month</th>\n",
       "      <th>transaction_date</th>\n",
       "      <th>transaction_real_price</th>\n",
       "      <th>floor</th>\n",
       "      <th>year_of_completion</th>\n",
       "      <th>addr</th>\n",
       "    </tr>\n",
       "  </thead>\n",
       "  <tbody>\n",
       "    <tr>\n",
       "      <th>0</th>\n",
       "      <td>0</td>\n",
       "      <td>서울특별시 강남구 개포동</td>\n",
       "      <td>개포6차우성아파트1동~8동</td>\n",
       "      <td>79.97</td>\n",
       "      <td>201801.0</td>\n",
       "      <td>3.0</td>\n",
       "      <td>130000.0</td>\n",
       "      <td>4.0</td>\n",
       "      <td>1987.0</td>\n",
       "      <td>언주로 3</td>\n",
       "    </tr>\n",
       "    <tr>\n",
       "      <th>1</th>\n",
       "      <td>1</td>\n",
       "      <td>서울특별시 강남구 개포동</td>\n",
       "      <td>개포6차우성아파트1동~8동</td>\n",
       "      <td>79.97</td>\n",
       "      <td>201801.0</td>\n",
       "      <td>8.0</td>\n",
       "      <td>117000.0</td>\n",
       "      <td>2.0</td>\n",
       "      <td>1987.0</td>\n",
       "      <td>언주로 3</td>\n",
       "    </tr>\n",
       "    <tr>\n",
       "      <th>2</th>\n",
       "      <td>2</td>\n",
       "      <td>서울특별시 강남구 개포동</td>\n",
       "      <td>개포6차우성아파트1동~8동</td>\n",
       "      <td>79.97</td>\n",
       "      <td>201801.0</td>\n",
       "      <td>11.0</td>\n",
       "      <td>130000.0</td>\n",
       "      <td>1.0</td>\n",
       "      <td>1987.0</td>\n",
       "      <td>언주로 3</td>\n",
       "    </tr>\n",
       "  </tbody>\n",
       "</table>\n",
       "</div>"
      ],
      "text/plain": [
       "   Unnamed: 0           city             apt  exclusive_use_area  \\\n",
       "0           0  서울특별시 강남구 개포동  개포6차우성아파트1동~8동               79.97   \n",
       "1           1  서울특별시 강남구 개포동  개포6차우성아파트1동~8동               79.97   \n",
       "2           2  서울특별시 강남구 개포동  개포6차우성아파트1동~8동               79.97   \n",
       "\n",
       "   transaction_year_month  transaction_date  transaction_real_price  floor  \\\n",
       "0                201801.0               3.0                130000.0    4.0   \n",
       "1                201801.0               8.0                117000.0    2.0   \n",
       "2                201801.0              11.0                130000.0    1.0   \n",
       "\n",
       "   year_of_completion   addr  \n",
       "0              1987.0  언주로 3  \n",
       "1              1987.0  언주로 3  \n",
       "2              1987.0  언주로 3  "
      ]
     },
     "execution_count": 3,
     "metadata": {},
     "output_type": "execute_result"
    }
   ],
   "source": [
    "df.head(3)"
   ]
  },
  {
   "cell_type": "markdown",
   "metadata": {
    "id": "G2hoWjQS-Bvr"
   },
   "source": [
    "#### `Unnamed: 0` 제거하기"
   ]
  },
  {
   "cell_type": "code",
   "execution_count": 4,
   "metadata": {
    "ExecuteTime": {
     "end_time": "2021-12-06T03:13:34.711123Z",
     "start_time": "2021-12-06T03:13:34.690062Z"
    },
    "executionInfo": {
     "elapsed": 362,
     "status": "ok",
     "timestamp": 1638432271612,
     "user": {
      "displayName": "이구미",
      "photoUrl": "https://lh3.googleusercontent.com/a/default-user=s64",
      "userId": "08177866432571939523"
     },
     "user_tz": -540
    },
    "id": "0Vnei9yR-Bvr"
   },
   "outputs": [],
   "source": [
    "del df['Unnamed: 0']"
   ]
  },
  {
   "cell_type": "code",
   "execution_count": 5,
   "metadata": {
    "ExecuteTime": {
     "end_time": "2021-12-06T03:13:35.585709Z",
     "start_time": "2021-12-06T03:13:35.536431Z"
    },
    "id": "0AC6LOSG-Bvr",
    "outputId": "aada2bef-6be4-47d5-b846-190a96e117b3"
   },
   "outputs": [
    {
     "name": "stdout",
     "output_type": "stream",
     "text": [
      "<class 'pandas.core.frame.DataFrame'>\n",
      "RangeIndex: 240960 entries, 0 to 240959\n",
      "Data columns (total 9 columns):\n",
      " #   Column                  Non-Null Count   Dtype  \n",
      "---  ------                  --------------   -----  \n",
      " 0   city                    240915 non-null  object \n",
      " 1   apt                     240915 non-null  object \n",
      " 2   exclusive_use_area      240915 non-null  float64\n",
      " 3   transaction_year_month  240915 non-null  float64\n",
      " 4   transaction_date        240915 non-null  float64\n",
      " 5   transaction_real_price  240915 non-null  float64\n",
      " 6   floor                   240915 non-null  float64\n",
      " 7   year_of_completion      240915 non-null  float64\n",
      " 8   addr                    240915 non-null  object \n",
      "dtypes: float64(6), object(3)\n",
      "memory usage: 16.5+ MB\n"
     ]
    }
   ],
   "source": [
    "df.info()"
   ]
  },
  {
   "cell_type": "markdown",
   "metadata": {
    "id": "lruVAUZe-Bvs"
   },
   "source": [
    "#### 결측치 처리"
   ]
  },
  {
   "cell_type": "code",
   "execution_count": 6,
   "metadata": {
    "ExecuteTime": {
     "end_time": "2021-12-06T03:13:37.451332Z",
     "start_time": "2021-12-06T03:13:37.413358Z"
    },
    "colab": {
     "base_uri": "https://localhost:8080/"
    },
    "executionInfo": {
     "elapsed": 484,
     "status": "ok",
     "timestamp": 1638432277617,
     "user": {
      "displayName": "이구미",
      "photoUrl": "https://lh3.googleusercontent.com/a/default-user=s64",
      "userId": "08177866432571939523"
     },
     "user_tz": -540
    },
    "id": "wS-Pe7ky-Bvs",
    "outputId": "ce35b8a7-eb6c-4ad7-aed4-d1a67b67f0c6"
   },
   "outputs": [
    {
     "data": {
      "text/plain": [
       "(45,)"
      ]
     },
     "execution_count": 6,
     "metadata": {},
     "output_type": "execute_result"
    }
   ],
   "source": [
    "df[df.isnull().any(axis=1)].index.shape"
   ]
  },
  {
   "cell_type": "code",
   "execution_count": 7,
   "metadata": {
    "ExecuteTime": {
     "end_time": "2021-12-06T03:13:38.884370Z",
     "start_time": "2021-12-06T03:13:38.818918Z"
    },
    "executionInfo": {
     "elapsed": 504,
     "status": "ok",
     "timestamp": 1638432279981,
     "user": {
      "displayName": "이구미",
      "photoUrl": "https://lh3.googleusercontent.com/a/default-user=s64",
      "userId": "08177866432571939523"
     },
     "user_tz": -540
    },
    "id": "smQFwCby-Bvs"
   },
   "outputs": [],
   "source": [
    "df.drop(df[df.isnull().any(axis=1)].index, axis=0 , inplace=True)"
   ]
  },
  {
   "cell_type": "code",
   "execution_count": 8,
   "metadata": {
    "ExecuteTime": {
     "end_time": "2021-12-06T03:13:39.729195Z",
     "start_time": "2021-12-06T03:13:39.724211Z"
    },
    "executionInfo": {
     "elapsed": 5,
     "status": "ok",
     "timestamp": 1638432281423,
     "user": {
      "displayName": "이구미",
      "photoUrl": "https://lh3.googleusercontent.com/a/default-user=s64",
      "userId": "08177866432571939523"
     },
     "user_tz": -540
    },
    "id": "H5P7Kn5k-Bvt"
   },
   "outputs": [],
   "source": [
    "df.reset_index(drop=True, inplace=True)"
   ]
  },
  {
   "cell_type": "code",
   "execution_count": 9,
   "metadata": {
    "ExecuteTime": {
     "end_time": "2021-12-06T03:13:40.852107Z",
     "start_time": "2021-12-06T03:13:40.803229Z"
    },
    "colab": {
     "base_uri": "https://localhost:8080/"
    },
    "executionInfo": {
     "elapsed": 9,
     "status": "ok",
     "timestamp": 1638431322501,
     "user": {
      "displayName": "이구미",
      "photoUrl": "https://lh3.googleusercontent.com/a/default-user=s64",
      "userId": "08177866432571939523"
     },
     "user_tz": -540
    },
    "id": "3pepLXz_-Bvt",
    "outputId": "2d9a8a67-7bb5-41cc-b8b8-bf73eb7b7a5f"
   },
   "outputs": [
    {
     "name": "stdout",
     "output_type": "stream",
     "text": [
      "<class 'pandas.core.frame.DataFrame'>\n",
      "RangeIndex: 240915 entries, 0 to 240914\n",
      "Data columns (total 9 columns):\n",
      " #   Column                  Non-Null Count   Dtype  \n",
      "---  ------                  --------------   -----  \n",
      " 0   city                    240915 non-null  object \n",
      " 1   apt                     240915 non-null  object \n",
      " 2   exclusive_use_area      240915 non-null  float64\n",
      " 3   transaction_year_month  240915 non-null  float64\n",
      " 4   transaction_date        240915 non-null  float64\n",
      " 5   transaction_real_price  240915 non-null  float64\n",
      " 6   floor                   240915 non-null  float64\n",
      " 7   year_of_completion      240915 non-null  float64\n",
      " 8   addr                    240915 non-null  object \n",
      "dtypes: float64(6), object(3)\n",
      "memory usage: 16.5+ MB\n"
     ]
    }
   ],
   "source": [
    "df.info()"
   ]
  },
  {
   "cell_type": "markdown",
   "metadata": {
    "ExecuteTime": {
     "end_time": "2021-12-02T05:16:31.851678Z",
     "start_time": "2021-12-02T05:16:31.849642Z"
    },
    "id": "iLs13R1s-Bvt"
   },
   "source": [
    "#### 아파트 top10브랜드인지(1) 아닌지(0):  `top10_apt` 변수 생성"
   ]
  },
  {
   "cell_type": "code",
   "execution_count": 10,
   "metadata": {
    "ExecuteTime": {
     "end_time": "2021-12-06T03:13:42.746446Z",
     "start_time": "2021-12-06T03:13:42.664341Z"
    },
    "executionInfo": {
     "elapsed": 5,
     "status": "ok",
     "timestamp": 1638432285919,
     "user": {
      "displayName": "이구미",
      "photoUrl": "https://lh3.googleusercontent.com/a/default-user=s64",
      "userId": "08177866432571939523"
     },
     "user_tz": -540
    },
    "id": "ltewlvCz-Bvt"
   },
   "outputs": [],
   "source": [
    "import re\n",
    "from tqdm.notebook import tqdm "
   ]
  },
  {
   "cell_type": "code",
   "execution_count": 11,
   "metadata": {
    "ExecuteTime": {
     "end_time": "2021-12-06T03:13:47.313553Z",
     "start_time": "2021-12-06T03:13:43.681205Z"
    },
    "colab": {
     "base_uri": "https://localhost:8080/",
     "height": 498,
     "referenced_widgets": [
      "00cb6772efe54f8794abe3988cd14655",
      "0f7cb442b89d4931a37990d7f9288b2c",
      "10a882f5e5fe46038bb43665e87962cf",
      "7d048edf0e64408dabf891d7c4af5723",
      "875ce7d26c0a4ecaa4e13148774996fc",
      "89c48dc26d4d4e79a0cab6bb6be34be4",
      "026d615faf464764804ef95548873243",
      "c4d04ac1aef148cea3010f2fc6c44dc8",
      "047cbdf346d04f8598928024282bcb59",
      "62052d4515e04392887be3126de3fbe0",
      "ffa77cc7e792405d91b61e5a93e0f579"
     ]
    },
    "executionInfo": {
     "elapsed": 2584,
     "status": "ok",
     "timestamp": 1638432290151,
     "user": {
      "displayName": "이구미",
      "photoUrl": "https://lh3.googleusercontent.com/a/default-user=s64",
      "userId": "08177866432571939523"
     },
     "user_tz": -540
    },
    "id": "nmIluU0t-Bvu",
    "outputId": "48031874-6846-47a7-e5c1-5f30b8ba1222"
   },
   "outputs": [
    {
     "data": {
      "application/vnd.jupyter.widget-view+json": {
       "model_id": "d70abbd2741345809d83bca7c1ffd760",
       "version_major": 2,
       "version_minor": 0
      },
      "text/plain": [
       "  0%|          | 0/240915 [00:00<?, ?it/s]"
      ]
     },
     "metadata": {},
     "output_type": "display_data"
    },
    {
     "data": {
      "text/html": [
       "<div>\n",
       "<style scoped>\n",
       "    .dataframe tbody tr th:only-of-type {\n",
       "        vertical-align: middle;\n",
       "    }\n",
       "\n",
       "    .dataframe tbody tr th {\n",
       "        vertical-align: top;\n",
       "    }\n",
       "\n",
       "    .dataframe thead th {\n",
       "        text-align: right;\n",
       "    }\n",
       "</style>\n",
       "<table border=\"1\" class=\"dataframe\">\n",
       "  <thead>\n",
       "    <tr style=\"text-align: right;\">\n",
       "      <th></th>\n",
       "      <th>city</th>\n",
       "      <th>apt</th>\n",
       "      <th>exclusive_use_area</th>\n",
       "      <th>transaction_year_month</th>\n",
       "      <th>transaction_date</th>\n",
       "      <th>transaction_real_price</th>\n",
       "      <th>floor</th>\n",
       "      <th>year_of_completion</th>\n",
       "      <th>addr</th>\n",
       "      <th>apt_nm</th>\n",
       "    </tr>\n",
       "  </thead>\n",
       "  <tbody>\n",
       "    <tr>\n",
       "      <th>0</th>\n",
       "      <td>서울특별시 강남구 개포동</td>\n",
       "      <td>개포6차우성아파트1동~8동</td>\n",
       "      <td>79.97</td>\n",
       "      <td>201801.0</td>\n",
       "      <td>3.0</td>\n",
       "      <td>130000.0</td>\n",
       "      <td>4.0</td>\n",
       "      <td>1987.0</td>\n",
       "      <td>언주로 3</td>\n",
       "      <td>개포6차우성아파트1동~8동</td>\n",
       "    </tr>\n",
       "    <tr>\n",
       "      <th>1</th>\n",
       "      <td>서울특별시 강남구 개포동</td>\n",
       "      <td>개포6차우성아파트1동~8동</td>\n",
       "      <td>79.97</td>\n",
       "      <td>201801.0</td>\n",
       "      <td>8.0</td>\n",
       "      <td>117000.0</td>\n",
       "      <td>2.0</td>\n",
       "      <td>1987.0</td>\n",
       "      <td>언주로 3</td>\n",
       "      <td>개포6차우성아파트1동~8동</td>\n",
       "    </tr>\n",
       "    <tr>\n",
       "      <th>2</th>\n",
       "      <td>서울특별시 강남구 개포동</td>\n",
       "      <td>개포6차우성아파트1동~8동</td>\n",
       "      <td>79.97</td>\n",
       "      <td>201801.0</td>\n",
       "      <td>11.0</td>\n",
       "      <td>130000.0</td>\n",
       "      <td>1.0</td>\n",
       "      <td>1987.0</td>\n",
       "      <td>언주로 3</td>\n",
       "      <td>개포6차우성아파트1동~8동</td>\n",
       "    </tr>\n",
       "    <tr>\n",
       "      <th>3</th>\n",
       "      <td>서울특별시 강남구 개포동</td>\n",
       "      <td>개포6차우성아파트1동~8동</td>\n",
       "      <td>79.97</td>\n",
       "      <td>201803.0</td>\n",
       "      <td>19.0</td>\n",
       "      <td>139500.0</td>\n",
       "      <td>2.0</td>\n",
       "      <td>1987.0</td>\n",
       "      <td>언주로 3</td>\n",
       "      <td>개포6차우성아파트1동~8동</td>\n",
       "    </tr>\n",
       "    <tr>\n",
       "      <th>4</th>\n",
       "      <td>서울특별시 강남구 개포동</td>\n",
       "      <td>개포6차우성아파트1동~8동</td>\n",
       "      <td>54.98</td>\n",
       "      <td>201804.0</td>\n",
       "      <td>5.0</td>\n",
       "      <td>107500.0</td>\n",
       "      <td>5.0</td>\n",
       "      <td>1987.0</td>\n",
       "      <td>언주로 3</td>\n",
       "      <td>개포6차우성아파트1동~8동</td>\n",
       "    </tr>\n",
       "  </tbody>\n",
       "</table>\n",
       "</div>"
      ],
      "text/plain": [
       "            city             apt  exclusive_use_area  transaction_year_month  \\\n",
       "0  서울특별시 강남구 개포동  개포6차우성아파트1동~8동               79.97                201801.0   \n",
       "1  서울특별시 강남구 개포동  개포6차우성아파트1동~8동               79.97                201801.0   \n",
       "2  서울특별시 강남구 개포동  개포6차우성아파트1동~8동               79.97                201801.0   \n",
       "3  서울특별시 강남구 개포동  개포6차우성아파트1동~8동               79.97                201803.0   \n",
       "4  서울특별시 강남구 개포동  개포6차우성아파트1동~8동               54.98                201804.0   \n",
       "\n",
       "   transaction_date  transaction_real_price  floor  year_of_completion   addr  \\\n",
       "0               3.0                130000.0    4.0              1987.0  언주로 3   \n",
       "1               8.0                117000.0    2.0              1987.0  언주로 3   \n",
       "2              11.0                130000.0    1.0              1987.0  언주로 3   \n",
       "3              19.0                139500.0    2.0              1987.0  언주로 3   \n",
       "4               5.0                107500.0    5.0              1987.0  언주로 3   \n",
       "\n",
       "           apt_nm  \n",
       "0  개포6차우성아파트1동~8동  \n",
       "1  개포6차우성아파트1동~8동  \n",
       "2  개포6차우성아파트1동~8동  \n",
       "3  개포6차우성아파트1동~8동  \n",
       "4  개포6차우성아파트1동~8동  "
      ]
     },
     "execution_count": 11,
     "metadata": {},
     "output_type": "execute_result"
    }
   ],
   "source": [
    "df['apt_nm'] = 'apt_name'\n",
    "for i in tqdm(range(len(df))):\n",
    "   df.at[i, 'apt_nm'] = re.sub('\\(.*\\)|\\s-\\s.*', '', df.at[i,'apt'])\n",
    "df.head()"
   ]
  },
  {
   "cell_type": "code",
   "execution_count": 12,
   "metadata": {
    "ExecuteTime": {
     "end_time": "2021-12-06T03:13:52.810092Z",
     "start_time": "2021-12-06T03:13:52.792142Z"
    },
    "executionInfo": {
     "elapsed": 5,
     "status": "ok",
     "timestamp": 1638432293289,
     "user": {
      "displayName": "이구미",
      "photoUrl": "https://lh3.googleusercontent.com/a/default-user=s64",
      "userId": "08177866432571939523"
     },
     "user_tz": -540
    },
    "id": "rIAraxbj-Bvu"
   },
   "outputs": [],
   "source": [
    "top10 = ['자이', '푸르지오', '더샵', '롯데캐슬', '이편한|e편한|e-편한',\n",
    "         '힐스테이트', '아이파크|I\\'PARK|I-Park|IPARK|I-PARK', '래미안', 'sk|SK|Sk|sK|에스케이', '플래티넘']"
   ]
  },
  {
   "cell_type": "code",
   "execution_count": 13,
   "metadata": {
    "ExecuteTime": {
     "end_time": "2021-12-06T03:13:54.765268Z",
     "start_time": "2021-12-06T03:13:53.663644Z"
    },
    "colab": {
     "base_uri": "https://localhost:8080/",
     "height": 758,
     "referenced_widgets": [
      "1398f50ded11470ab5beed56198e5728",
      "664bbb642f8c4b189321464141f42e4d",
      "642f9d02c9b24ddda6b326ee79624c00",
      "7f4cc27fdff14d7aacdd80e7396601a0",
      "1c97b18cf69442ddaf97f07fb9e96575",
      "e9df6e742d0d49a0b8ce19d89cc048a1",
      "7a51d317fca44181bf86b6f6a8b6daa3",
      "7417221a905b460e926cfa077d453c92",
      "e550df2b2f24488f94c6464633a018e6",
      "7b1bed1f6cc44c9fb102fd4ca53ddf6f",
      "ebd8fb75adda4a85be855290c40438d0"
     ]
    },
    "executionInfo": {
     "elapsed": 1066,
     "status": "ok",
     "timestamp": 1638432295927,
     "user": {
      "displayName": "이구미",
      "photoUrl": "https://lh3.googleusercontent.com/a/default-user=s64",
      "userId": "08177866432571939523"
     },
     "user_tz": -540
    },
    "id": "La08TNYM-Bvu",
    "outputId": "cd984650-6a18-4e1b-d9cc-670fce368f8c"
   },
   "outputs": [
    {
     "data": {
      "application/vnd.jupyter.widget-view+json": {
       "model_id": "606af9d3932e46928f67167d71cd6c48",
       "version_major": 2,
       "version_minor": 0
      },
      "text/plain": [
       "  0%|          | 0/10 [00:00<?, ?it/s]"
      ]
     },
     "metadata": {},
     "output_type": "display_data"
    },
    {
     "data": {
      "text/html": [
       "<div>\n",
       "<style scoped>\n",
       "    .dataframe tbody tr th:only-of-type {\n",
       "        vertical-align: middle;\n",
       "    }\n",
       "\n",
       "    .dataframe tbody tr th {\n",
       "        vertical-align: top;\n",
       "    }\n",
       "\n",
       "    .dataframe thead th {\n",
       "        text-align: right;\n",
       "    }\n",
       "</style>\n",
       "<table border=\"1\" class=\"dataframe\">\n",
       "  <thead>\n",
       "    <tr style=\"text-align: right;\">\n",
       "      <th></th>\n",
       "      <th>city</th>\n",
       "      <th>apt</th>\n",
       "      <th>exclusive_use_area</th>\n",
       "      <th>transaction_year_month</th>\n",
       "      <th>transaction_date</th>\n",
       "      <th>transaction_real_price</th>\n",
       "      <th>floor</th>\n",
       "      <th>year_of_completion</th>\n",
       "      <th>addr</th>\n",
       "      <th>apt_nm</th>\n",
       "      <th>top10_apt</th>\n",
       "    </tr>\n",
       "  </thead>\n",
       "  <tbody>\n",
       "    <tr>\n",
       "      <th>0</th>\n",
       "      <td>서울특별시 강남구 개포동</td>\n",
       "      <td>개포6차우성아파트1동~8동</td>\n",
       "      <td>79.97</td>\n",
       "      <td>201801.0</td>\n",
       "      <td>3.0</td>\n",
       "      <td>130000.0</td>\n",
       "      <td>4.0</td>\n",
       "      <td>1987.0</td>\n",
       "      <td>언주로 3</td>\n",
       "      <td>개포6차우성아파트1동~8동</td>\n",
       "      <td>0</td>\n",
       "    </tr>\n",
       "    <tr>\n",
       "      <th>1</th>\n",
       "      <td>서울특별시 강남구 개포동</td>\n",
       "      <td>개포6차우성아파트1동~8동</td>\n",
       "      <td>79.97</td>\n",
       "      <td>201801.0</td>\n",
       "      <td>8.0</td>\n",
       "      <td>117000.0</td>\n",
       "      <td>2.0</td>\n",
       "      <td>1987.0</td>\n",
       "      <td>언주로 3</td>\n",
       "      <td>개포6차우성아파트1동~8동</td>\n",
       "      <td>0</td>\n",
       "    </tr>\n",
       "    <tr>\n",
       "      <th>2</th>\n",
       "      <td>서울특별시 강남구 개포동</td>\n",
       "      <td>개포6차우성아파트1동~8동</td>\n",
       "      <td>79.97</td>\n",
       "      <td>201801.0</td>\n",
       "      <td>11.0</td>\n",
       "      <td>130000.0</td>\n",
       "      <td>1.0</td>\n",
       "      <td>1987.0</td>\n",
       "      <td>언주로 3</td>\n",
       "      <td>개포6차우성아파트1동~8동</td>\n",
       "      <td>0</td>\n",
       "    </tr>\n",
       "    <tr>\n",
       "      <th>3</th>\n",
       "      <td>서울특별시 강남구 개포동</td>\n",
       "      <td>개포6차우성아파트1동~8동</td>\n",
       "      <td>79.97</td>\n",
       "      <td>201803.0</td>\n",
       "      <td>19.0</td>\n",
       "      <td>139500.0</td>\n",
       "      <td>2.0</td>\n",
       "      <td>1987.0</td>\n",
       "      <td>언주로 3</td>\n",
       "      <td>개포6차우성아파트1동~8동</td>\n",
       "      <td>0</td>\n",
       "    </tr>\n",
       "    <tr>\n",
       "      <th>4</th>\n",
       "      <td>서울특별시 강남구 개포동</td>\n",
       "      <td>개포6차우성아파트1동~8동</td>\n",
       "      <td>54.98</td>\n",
       "      <td>201804.0</td>\n",
       "      <td>5.0</td>\n",
       "      <td>107500.0</td>\n",
       "      <td>5.0</td>\n",
       "      <td>1987.0</td>\n",
       "      <td>언주로 3</td>\n",
       "      <td>개포6차우성아파트1동~8동</td>\n",
       "      <td>0</td>\n",
       "    </tr>\n",
       "  </tbody>\n",
       "</table>\n",
       "</div>"
      ],
      "text/plain": [
       "            city             apt  exclusive_use_area  transaction_year_month  \\\n",
       "0  서울특별시 강남구 개포동  개포6차우성아파트1동~8동               79.97                201801.0   \n",
       "1  서울특별시 강남구 개포동  개포6차우성아파트1동~8동               79.97                201801.0   \n",
       "2  서울특별시 강남구 개포동  개포6차우성아파트1동~8동               79.97                201801.0   \n",
       "3  서울특별시 강남구 개포동  개포6차우성아파트1동~8동               79.97                201803.0   \n",
       "4  서울특별시 강남구 개포동  개포6차우성아파트1동~8동               54.98                201804.0   \n",
       "\n",
       "   transaction_date  transaction_real_price  floor  year_of_completion   addr  \\\n",
       "0               3.0                130000.0    4.0              1987.0  언주로 3   \n",
       "1               8.0                117000.0    2.0              1987.0  언주로 3   \n",
       "2              11.0                130000.0    1.0              1987.0  언주로 3   \n",
       "3              19.0                139500.0    2.0              1987.0  언주로 3   \n",
       "4               5.0                107500.0    5.0              1987.0  언주로 3   \n",
       "\n",
       "           apt_nm  top10_apt  \n",
       "0  개포6차우성아파트1동~8동          0  \n",
       "1  개포6차우성아파트1동~8동          0  \n",
       "2  개포6차우성아파트1동~8동          0  \n",
       "3  개포6차우성아파트1동~8동          0  \n",
       "4  개포6차우성아파트1동~8동          0  "
      ]
     },
     "execution_count": 13,
     "metadata": {},
     "output_type": "execute_result"
    }
   ],
   "source": [
    "df['top10_apt'] = 0\n",
    "for brand in tqdm(top10):\n",
    "    df.loc[df['apt_nm'].str.contains(brand),'top10_apt'] = 1\n",
    "df.head()"
   ]
  },
  {
   "cell_type": "markdown",
   "metadata": {
    "id": "6mq04yUQ-Bvv"
   },
   "source": [
    "#### 시-구-동 나누기"
   ]
  },
  {
   "cell_type": "code",
   "execution_count": 14,
   "metadata": {
    "ExecuteTime": {
     "end_time": "2021-12-06T03:13:57.152001Z",
     "start_time": "2021-12-06T03:13:56.612120Z"
    },
    "colab": {
     "base_uri": "https://localhost:8080/",
     "height": 206
    },
    "executionInfo": {
     "elapsed": 987,
     "status": "ok",
     "timestamp": 1638432303501,
     "user": {
      "displayName": "이구미",
      "photoUrl": "https://lh3.googleusercontent.com/a/default-user=s64",
      "userId": "08177866432571939523"
     },
     "user_tz": -540
    },
    "id": "lUY2q0JU-Bvv",
    "outputId": "49b775da-55d4-407b-864a-307b97cd160d"
   },
   "outputs": [
    {
     "data": {
      "text/html": [
       "<div>\n",
       "<style scoped>\n",
       "    .dataframe tbody tr th:only-of-type {\n",
       "        vertical-align: middle;\n",
       "    }\n",
       "\n",
       "    .dataframe tbody tr th {\n",
       "        vertical-align: top;\n",
       "    }\n",
       "\n",
       "    .dataframe thead th {\n",
       "        text-align: right;\n",
       "    }\n",
       "</style>\n",
       "<table border=\"1\" class=\"dataframe\">\n",
       "  <thead>\n",
       "    <tr style=\"text-align: right;\">\n",
       "      <th></th>\n",
       "      <th>0</th>\n",
       "      <th>1</th>\n",
       "      <th>2</th>\n",
       "    </tr>\n",
       "  </thead>\n",
       "  <tbody>\n",
       "    <tr>\n",
       "      <th>0</th>\n",
       "      <td>서울특별시</td>\n",
       "      <td>강남구</td>\n",
       "      <td>개포동</td>\n",
       "    </tr>\n",
       "    <tr>\n",
       "      <th>1</th>\n",
       "      <td>서울특별시</td>\n",
       "      <td>강남구</td>\n",
       "      <td>개포동</td>\n",
       "    </tr>\n",
       "    <tr>\n",
       "      <th>2</th>\n",
       "      <td>서울특별시</td>\n",
       "      <td>강남구</td>\n",
       "      <td>개포동</td>\n",
       "    </tr>\n",
       "    <tr>\n",
       "      <th>3</th>\n",
       "      <td>서울특별시</td>\n",
       "      <td>강남구</td>\n",
       "      <td>개포동</td>\n",
       "    </tr>\n",
       "    <tr>\n",
       "      <th>4</th>\n",
       "      <td>서울특별시</td>\n",
       "      <td>강남구</td>\n",
       "      <td>개포동</td>\n",
       "    </tr>\n",
       "  </tbody>\n",
       "</table>\n",
       "</div>"
      ],
      "text/plain": [
       "       0    1    2\n",
       "0  서울특별시  강남구  개포동\n",
       "1  서울특별시  강남구  개포동\n",
       "2  서울특별시  강남구  개포동\n",
       "3  서울특별시  강남구  개포동\n",
       "4  서울특별시  강남구  개포동"
      ]
     },
     "execution_count": 14,
     "metadata": {},
     "output_type": "execute_result"
    }
   ],
   "source": [
    "city_name = df['city'].str.split(' ',expand=True)\n",
    "city_name.head()"
   ]
  },
  {
   "cell_type": "code",
   "execution_count": 15,
   "metadata": {
    "ExecuteTime": {
     "end_time": "2021-12-06T03:13:58.251902Z",
     "start_time": "2021-12-06T03:13:58.228807Z"
    },
    "colab": {
     "base_uri": "https://localhost:8080/",
     "height": 206
    },
    "executionInfo": {
     "elapsed": 9,
     "status": "ok",
     "timestamp": 1638432303867,
     "user": {
      "displayName": "이구미",
      "photoUrl": "https://lh3.googleusercontent.com/a/default-user=s64",
      "userId": "08177866432571939523"
     },
     "user_tz": -540
    },
    "id": "6qFA_A0k-Bvv",
    "outputId": "29b6d8af-46c8-4ccb-c360-c8cbc99ed345"
   },
   "outputs": [
    {
     "data": {
      "text/html": [
       "<div>\n",
       "<style scoped>\n",
       "    .dataframe tbody tr th:only-of-type {\n",
       "        vertical-align: middle;\n",
       "    }\n",
       "\n",
       "    .dataframe tbody tr th {\n",
       "        vertical-align: top;\n",
       "    }\n",
       "\n",
       "    .dataframe thead th {\n",
       "        text-align: right;\n",
       "    }\n",
       "</style>\n",
       "<table border=\"1\" class=\"dataframe\">\n",
       "  <thead>\n",
       "    <tr style=\"text-align: right;\">\n",
       "      <th></th>\n",
       "      <th>city_nm</th>\n",
       "      <th>시군구</th>\n",
       "      <th>dong</th>\n",
       "    </tr>\n",
       "  </thead>\n",
       "  <tbody>\n",
       "    <tr>\n",
       "      <th>0</th>\n",
       "      <td>서울특별시</td>\n",
       "      <td>강남구</td>\n",
       "      <td>개포동</td>\n",
       "    </tr>\n",
       "    <tr>\n",
       "      <th>1</th>\n",
       "      <td>서울특별시</td>\n",
       "      <td>강남구</td>\n",
       "      <td>개포동</td>\n",
       "    </tr>\n",
       "    <tr>\n",
       "      <th>2</th>\n",
       "      <td>서울특별시</td>\n",
       "      <td>강남구</td>\n",
       "      <td>개포동</td>\n",
       "    </tr>\n",
       "    <tr>\n",
       "      <th>3</th>\n",
       "      <td>서울특별시</td>\n",
       "      <td>강남구</td>\n",
       "      <td>개포동</td>\n",
       "    </tr>\n",
       "    <tr>\n",
       "      <th>4</th>\n",
       "      <td>서울특별시</td>\n",
       "      <td>강남구</td>\n",
       "      <td>개포동</td>\n",
       "    </tr>\n",
       "  </tbody>\n",
       "</table>\n",
       "</div>"
      ],
      "text/plain": [
       "  city_nm  시군구 dong\n",
       "0   서울특별시  강남구  개포동\n",
       "1   서울특별시  강남구  개포동\n",
       "2   서울특별시  강남구  개포동\n",
       "3   서울특별시  강남구  개포동\n",
       "4   서울특별시  강남구  개포동"
      ]
     },
     "execution_count": 15,
     "metadata": {},
     "output_type": "execute_result"
    }
   ],
   "source": [
    "city_name.rename(columns = {0 : 'city_nm', 1: '시군구', 2 : 'dong' }, inplace=True)\n",
    "city_name.head()"
   ]
  },
  {
   "cell_type": "code",
   "execution_count": 16,
   "metadata": {
    "ExecuteTime": {
     "end_time": "2021-12-06T03:13:59.424407Z",
     "start_time": "2021-12-06T03:13:59.415316Z"
    },
    "colab": {
     "base_uri": "https://localhost:8080/"
    },
    "executionInfo": {
     "elapsed": 468,
     "status": "ok",
     "timestamp": 1638432306965,
     "user": {
      "displayName": "이구미",
      "photoUrl": "https://lh3.googleusercontent.com/a/default-user=s64",
      "userId": "08177866432571939523"
     },
     "user_tz": -540
    },
    "id": "ZWwSt1bj-Bvw",
    "outputId": "7dc9ab07-8179-44be-ce9d-2e0ef7abb166"
   },
   "outputs": [
    {
     "data": {
      "text/plain": [
       "(240915, 3)"
      ]
     },
     "execution_count": 16,
     "metadata": {},
     "output_type": "execute_result"
    }
   ],
   "source": [
    "city_name.shape"
   ]
  },
  {
   "cell_type": "code",
   "execution_count": 17,
   "metadata": {
    "ExecuteTime": {
     "end_time": "2021-12-06T03:14:00.378708Z",
     "start_time": "2021-12-06T03:14:00.298837Z"
    },
    "colab": {
     "base_uri": "https://localhost:8080/",
     "height": 375
    },
    "executionInfo": {
     "elapsed": 7,
     "status": "ok",
     "timestamp": 1638432308659,
     "user": {
      "displayName": "이구미",
      "photoUrl": "https://lh3.googleusercontent.com/a/default-user=s64",
      "userId": "08177866432571939523"
     },
     "user_tz": -540
    },
    "id": "9VSDZPO0-Bvw",
    "outputId": "438cfd01-6e56-42b5-8764-cee0d638105a"
   },
   "outputs": [
    {
     "data": {
      "text/html": [
       "<div>\n",
       "<style scoped>\n",
       "    .dataframe tbody tr th:only-of-type {\n",
       "        vertical-align: middle;\n",
       "    }\n",
       "\n",
       "    .dataframe tbody tr th {\n",
       "        vertical-align: top;\n",
       "    }\n",
       "\n",
       "    .dataframe thead th {\n",
       "        text-align: right;\n",
       "    }\n",
       "</style>\n",
       "<table border=\"1\" class=\"dataframe\">\n",
       "  <thead>\n",
       "    <tr style=\"text-align: right;\">\n",
       "      <th></th>\n",
       "      <th>city</th>\n",
       "      <th>apt</th>\n",
       "      <th>exclusive_use_area</th>\n",
       "      <th>transaction_year_month</th>\n",
       "      <th>transaction_date</th>\n",
       "      <th>transaction_real_price</th>\n",
       "      <th>floor</th>\n",
       "      <th>year_of_completion</th>\n",
       "      <th>addr</th>\n",
       "      <th>apt_nm</th>\n",
       "      <th>top10_apt</th>\n",
       "      <th>city_nm</th>\n",
       "      <th>시군구</th>\n",
       "      <th>dong</th>\n",
       "    </tr>\n",
       "  </thead>\n",
       "  <tbody>\n",
       "    <tr>\n",
       "      <th>0</th>\n",
       "      <td>서울특별시 강남구 개포동</td>\n",
       "      <td>개포6차우성아파트1동~8동</td>\n",
       "      <td>79.97</td>\n",
       "      <td>201801.0</td>\n",
       "      <td>3.0</td>\n",
       "      <td>130000.0</td>\n",
       "      <td>4.0</td>\n",
       "      <td>1987.0</td>\n",
       "      <td>언주로 3</td>\n",
       "      <td>개포6차우성아파트1동~8동</td>\n",
       "      <td>0</td>\n",
       "      <td>서울특별시</td>\n",
       "      <td>강남구</td>\n",
       "      <td>개포동</td>\n",
       "    </tr>\n",
       "    <tr>\n",
       "      <th>1</th>\n",
       "      <td>서울특별시 강남구 개포동</td>\n",
       "      <td>개포6차우성아파트1동~8동</td>\n",
       "      <td>79.97</td>\n",
       "      <td>201801.0</td>\n",
       "      <td>8.0</td>\n",
       "      <td>117000.0</td>\n",
       "      <td>2.0</td>\n",
       "      <td>1987.0</td>\n",
       "      <td>언주로 3</td>\n",
       "      <td>개포6차우성아파트1동~8동</td>\n",
       "      <td>0</td>\n",
       "      <td>서울특별시</td>\n",
       "      <td>강남구</td>\n",
       "      <td>개포동</td>\n",
       "    </tr>\n",
       "  </tbody>\n",
       "</table>\n",
       "</div>"
      ],
      "text/plain": [
       "            city             apt  exclusive_use_area  transaction_year_month  \\\n",
       "0  서울특별시 강남구 개포동  개포6차우성아파트1동~8동               79.97                201801.0   \n",
       "1  서울특별시 강남구 개포동  개포6차우성아파트1동~8동               79.97                201801.0   \n",
       "\n",
       "   transaction_date  transaction_real_price  floor  year_of_completion   addr  \\\n",
       "0               3.0                130000.0    4.0              1987.0  언주로 3   \n",
       "1               8.0                117000.0    2.0              1987.0  언주로 3   \n",
       "\n",
       "           apt_nm  top10_apt city_nm  시군구 dong  \n",
       "0  개포6차우성아파트1동~8동          0   서울특별시  강남구  개포동  \n",
       "1  개포6차우성아파트1동~8동          0   서울특별시  강남구  개포동  "
      ]
     },
     "execution_count": 17,
     "metadata": {},
     "output_type": "execute_result"
    }
   ],
   "source": [
    "df = pd.concat([df,city_name],axis = 1)\n",
    "df.head(2)"
   ]
  },
  {
   "cell_type": "code",
   "execution_count": 18,
   "metadata": {
    "ExecuteTime": {
     "end_time": "2021-12-06T03:14:02.086423Z",
     "start_time": "2021-12-06T03:14:02.071463Z"
    },
    "executionInfo": {
     "elapsed": 346,
     "status": "ok",
     "timestamp": 1638432311351,
     "user": {
      "displayName": "이구미",
      "photoUrl": "https://lh3.googleusercontent.com/a/default-user=s64",
      "userId": "08177866432571939523"
     },
     "user_tz": -540
    },
    "id": "8a7kHKxc-Bvx"
   },
   "outputs": [],
   "source": [
    "del df['city']"
   ]
  },
  {
   "cell_type": "code",
   "execution_count": 19,
   "metadata": {
    "ExecuteTime": {
     "end_time": "2021-12-06T03:14:03.057997Z",
     "start_time": "2021-12-06T03:14:02.966047Z"
    },
    "colab": {
     "base_uri": "https://localhost:8080/"
    },
    "executionInfo": {
     "elapsed": 489,
     "status": "ok",
     "timestamp": 1638431353629,
     "user": {
      "displayName": "이구미",
      "photoUrl": "https://lh3.googleusercontent.com/a/default-user=s64",
      "userId": "08177866432571939523"
     },
     "user_tz": -540
    },
    "id": "UOiSob3i-Bvy",
    "outputId": "877f4316-9084-4e7a-95d9-30c800f33839"
   },
   "outputs": [
    {
     "name": "stdout",
     "output_type": "stream",
     "text": [
      "<class 'pandas.core.frame.DataFrame'>\n",
      "RangeIndex: 240915 entries, 0 to 240914\n",
      "Data columns (total 13 columns):\n",
      " #   Column                  Non-Null Count   Dtype  \n",
      "---  ------                  --------------   -----  \n",
      " 0   apt                     240915 non-null  object \n",
      " 1   exclusive_use_area      240915 non-null  float64\n",
      " 2   transaction_year_month  240915 non-null  float64\n",
      " 3   transaction_date        240915 non-null  float64\n",
      " 4   transaction_real_price  240915 non-null  float64\n",
      " 5   floor                   240915 non-null  float64\n",
      " 6   year_of_completion      240915 non-null  float64\n",
      " 7   addr                    240915 non-null  object \n",
      " 8   apt_nm                  240915 non-null  object \n",
      " 9   top10_apt               240915 non-null  int64  \n",
      " 10  city_nm                 240915 non-null  object \n",
      " 11  시군구                     240915 non-null  object \n",
      " 12  dong                    240915 non-null  object \n",
      "dtypes: float64(6), int64(1), object(6)\n",
      "memory usage: 23.9+ MB\n"
     ]
    }
   ],
   "source": [
    "df.info()"
   ]
  },
  {
   "cell_type": "code",
   "execution_count": 20,
   "metadata": {
    "ExecuteTime": {
     "end_time": "2021-12-06T03:14:04.230012Z",
     "start_time": "2021-12-06T03:14:04.221963Z"
    },
    "executionInfo": {
     "elapsed": 516,
     "status": "ok",
     "timestamp": 1638432315168,
     "user": {
      "displayName": "이구미",
      "photoUrl": "https://lh3.googleusercontent.com/a/default-user=s64",
      "userId": "08177866432571939523"
     },
     "user_tz": -540
    },
    "id": "KbtLq61x-Bvy"
   },
   "outputs": [],
   "source": [
    "df.rename(columns = {'city_nm':'city'}, inplace=True)"
   ]
  },
  {
   "cell_type": "code",
   "execution_count": 21,
   "metadata": {
    "ExecuteTime": {
     "end_time": "2021-12-06T03:14:05.290610Z",
     "start_time": "2021-12-06T03:14:05.276585Z"
    },
    "colab": {
     "base_uri": "https://localhost:8080/",
     "height": 222
    },
    "executionInfo": {
     "elapsed": 360,
     "status": "ok",
     "timestamp": 1638431358690,
     "user": {
      "displayName": "이구미",
      "photoUrl": "https://lh3.googleusercontent.com/a/default-user=s64",
      "userId": "08177866432571939523"
     },
     "user_tz": -540
    },
    "id": "n5NPYjIm-Bvy",
    "outputId": "4d8857ff-a471-4de6-bf0a-9f1f65b0d35b"
   },
   "outputs": [
    {
     "data": {
      "text/html": [
       "<div>\n",
       "<style scoped>\n",
       "    .dataframe tbody tr th:only-of-type {\n",
       "        vertical-align: middle;\n",
       "    }\n",
       "\n",
       "    .dataframe tbody tr th {\n",
       "        vertical-align: top;\n",
       "    }\n",
       "\n",
       "    .dataframe thead th {\n",
       "        text-align: right;\n",
       "    }\n",
       "</style>\n",
       "<table border=\"1\" class=\"dataframe\">\n",
       "  <thead>\n",
       "    <tr style=\"text-align: right;\">\n",
       "      <th></th>\n",
       "      <th>apt</th>\n",
       "      <th>exclusive_use_area</th>\n",
       "      <th>transaction_year_month</th>\n",
       "      <th>transaction_date</th>\n",
       "      <th>transaction_real_price</th>\n",
       "      <th>floor</th>\n",
       "      <th>year_of_completion</th>\n",
       "      <th>addr</th>\n",
       "      <th>apt_nm</th>\n",
       "      <th>top10_apt</th>\n",
       "      <th>city</th>\n",
       "      <th>시군구</th>\n",
       "      <th>dong</th>\n",
       "    </tr>\n",
       "  </thead>\n",
       "  <tbody>\n",
       "    <tr>\n",
       "      <th>0</th>\n",
       "      <td>개포6차우성아파트1동~8동</td>\n",
       "      <td>79.97</td>\n",
       "      <td>201801.0</td>\n",
       "      <td>3.0</td>\n",
       "      <td>130000.0</td>\n",
       "      <td>4.0</td>\n",
       "      <td>1987.0</td>\n",
       "      <td>언주로 3</td>\n",
       "      <td>개포6차우성아파트1동~8동</td>\n",
       "      <td>0</td>\n",
       "      <td>서울특별시</td>\n",
       "      <td>강남구</td>\n",
       "      <td>개포동</td>\n",
       "    </tr>\n",
       "  </tbody>\n",
       "</table>\n",
       "</div>"
      ],
      "text/plain": [
       "              apt  exclusive_use_area  transaction_year_month  \\\n",
       "0  개포6차우성아파트1동~8동               79.97                201801.0   \n",
       "\n",
       "   transaction_date  transaction_real_price  floor  year_of_completion   addr  \\\n",
       "0               3.0                130000.0    4.0              1987.0  언주로 3   \n",
       "\n",
       "           apt_nm  top10_apt   city  시군구 dong  \n",
       "0  개포6차우성아파트1동~8동          0  서울특별시  강남구  개포동  "
      ]
     },
     "execution_count": 21,
     "metadata": {},
     "output_type": "execute_result"
    }
   ],
   "source": [
    "df.head(1)"
   ]
  },
  {
   "cell_type": "markdown",
   "metadata": {
    "id": "lWAmQ1HQ-Bvz"
   },
   "source": [
    "#### `addr` => `addr_kr`"
   ]
  },
  {
   "cell_type": "code",
   "execution_count": 22,
   "metadata": {
    "ExecuteTime": {
     "end_time": "2021-12-06T03:14:07.218815Z",
     "start_time": "2021-12-06T03:14:07.191755Z"
    },
    "colab": {
     "base_uri": "https://localhost:8080/",
     "height": 222
    },
    "executionInfo": {
     "elapsed": 512,
     "status": "ok",
     "timestamp": 1638432319194,
     "user": {
      "displayName": "이구미",
      "photoUrl": "https://lh3.googleusercontent.com/a/default-user=s64",
      "userId": "08177866432571939523"
     },
     "user_tz": -540
    },
    "id": "K4E1ti1j-Bvz",
    "outputId": "de37c922-7a6e-41cb-f558-c06d76b50b30",
    "scrolled": true
   },
   "outputs": [
    {
     "data": {
      "text/html": [
       "<div>\n",
       "<style scoped>\n",
       "    .dataframe tbody tr th:only-of-type {\n",
       "        vertical-align: middle;\n",
       "    }\n",
       "\n",
       "    .dataframe tbody tr th {\n",
       "        vertical-align: top;\n",
       "    }\n",
       "\n",
       "    .dataframe thead th {\n",
       "        text-align: right;\n",
       "    }\n",
       "</style>\n",
       "<table border=\"1\" class=\"dataframe\">\n",
       "  <thead>\n",
       "    <tr style=\"text-align: right;\">\n",
       "      <th></th>\n",
       "      <th>apt</th>\n",
       "      <th>exclusive_use_area</th>\n",
       "      <th>transaction_year_month</th>\n",
       "      <th>transaction_date</th>\n",
       "      <th>transaction_real_price</th>\n",
       "      <th>floor</th>\n",
       "      <th>year_of_completion</th>\n",
       "      <th>addr_kr</th>\n",
       "      <th>apt_nm</th>\n",
       "      <th>top10_apt</th>\n",
       "      <th>city</th>\n",
       "      <th>시군구</th>\n",
       "      <th>dong</th>\n",
       "    </tr>\n",
       "  </thead>\n",
       "  <tbody>\n",
       "    <tr>\n",
       "      <th>0</th>\n",
       "      <td>개포6차우성아파트1동~8동</td>\n",
       "      <td>79.97</td>\n",
       "      <td>201801.0</td>\n",
       "      <td>3.0</td>\n",
       "      <td>130000.0</td>\n",
       "      <td>4.0</td>\n",
       "      <td>1987.0</td>\n",
       "      <td>언주로 3</td>\n",
       "      <td>개포6차우성아파트1동~8동</td>\n",
       "      <td>0</td>\n",
       "      <td>서울특별시</td>\n",
       "      <td>강남구</td>\n",
       "      <td>개포동</td>\n",
       "    </tr>\n",
       "  </tbody>\n",
       "</table>\n",
       "</div>"
      ],
      "text/plain": [
       "              apt  exclusive_use_area  transaction_year_month  \\\n",
       "0  개포6차우성아파트1동~8동               79.97                201801.0   \n",
       "\n",
       "   transaction_date  transaction_real_price  floor  year_of_completion  \\\n",
       "0               3.0                130000.0    4.0              1987.0   \n",
       "\n",
       "  addr_kr          apt_nm  top10_apt   city  시군구 dong  \n",
       "0   언주로 3  개포6차우성아파트1동~8동          0  서울특별시  강남구  개포동  "
      ]
     },
     "execution_count": 22,
     "metadata": {},
     "output_type": "execute_result"
    }
   ],
   "source": [
    "df.rename(columns = {'addr':'addr_kr'}, inplace=True)\n",
    "df.head(1)"
   ]
  },
  {
   "cell_type": "code",
   "execution_count": 23,
   "metadata": {
    "ExecuteTime": {
     "end_time": "2021-12-06T03:14:08.231200Z",
     "start_time": "2021-12-06T03:14:08.214177Z"
    },
    "executionInfo": {
     "elapsed": 479,
     "status": "ok",
     "timestamp": 1638432322274,
     "user": {
      "displayName": "이구미",
      "photoUrl": "https://lh3.googleusercontent.com/a/default-user=s64",
      "userId": "08177866432571939523"
     },
     "user_tz": -540
    },
    "id": "2vMgyM5k-Bvz"
   },
   "outputs": [],
   "source": [
    "import numpy as np"
   ]
  },
  {
   "cell_type": "markdown",
   "metadata": {
    "id": "47rVNp3d-Bv0"
   },
   "source": [
    "#### 불필요한 변수 제거"
   ]
  },
  {
   "cell_type": "code",
   "execution_count": 24,
   "metadata": {
    "ExecuteTime": {
     "end_time": "2021-12-06T03:14:10.110084Z",
     "start_time": "2021-12-06T03:14:09.986105Z"
    },
    "executionInfo": {
     "elapsed": 517,
     "status": "ok",
     "timestamp": 1638432324690,
     "user": {
      "displayName": "이구미",
      "photoUrl": "https://lh3.googleusercontent.com/a/default-user=s64",
      "userId": "08177866432571939523"
     },
     "user_tz": -540
    },
    "id": "x4uKnG83-Bv0"
   },
   "outputs": [],
   "source": [
    "#'transaction_id'\n",
    "df.drop([ 'addr_kr'], axis = 1, inplace = True) # transaction_id는 인덱스와 동일하므로 삭제해도 무방"
   ]
  },
  {
   "cell_type": "markdown",
   "metadata": {
    "id": "xe5hKnWO-Bv0"
   },
   "source": [
    "#### `age`변수 생성\n",
    "- 2018 -> 2021로 변경"
   ]
  },
  {
   "cell_type": "code",
   "execution_count": 25,
   "metadata": {
    "ExecuteTime": {
     "end_time": "2021-12-06T03:14:11.177183Z",
     "start_time": "2021-12-06T03:14:11.090065Z"
    },
    "executionInfo": {
     "elapsed": 499,
     "status": "ok",
     "timestamp": 1638432328268,
     "user": {
      "displayName": "이구미",
      "photoUrl": "https://lh3.googleusercontent.com/a/default-user=s64",
      "userId": "08177866432571939523"
     },
     "user_tz": -540
    },
    "id": "yxC4BSNJ-Bv0"
   },
   "outputs": [],
   "source": [
    "# 건축된지 얼마나 되었는지를 나타내는 변수로 변환\n",
    "df['age'] = 2021 - df['year_of_completion']\n",
    "df.drop('year_of_completion', axis = 1, inplace = True)"
   ]
  },
  {
   "cell_type": "code",
   "execution_count": 26,
   "metadata": {
    "ExecuteTime": {
     "end_time": "2021-12-06T03:14:12.018869Z",
     "start_time": "2021-12-06T03:14:11.996928Z"
    },
    "id": "nrxvTrbR-Bv0",
    "outputId": "21a547a4-0a7d-4c63-ec89-ceb75284d9c5",
    "scrolled": true
   },
   "outputs": [
    {
     "data": {
      "text/html": [
       "<div>\n",
       "<style scoped>\n",
       "    .dataframe tbody tr th:only-of-type {\n",
       "        vertical-align: middle;\n",
       "    }\n",
       "\n",
       "    .dataframe tbody tr th {\n",
       "        vertical-align: top;\n",
       "    }\n",
       "\n",
       "    .dataframe thead th {\n",
       "        text-align: right;\n",
       "    }\n",
       "</style>\n",
       "<table border=\"1\" class=\"dataframe\">\n",
       "  <thead>\n",
       "    <tr style=\"text-align: right;\">\n",
       "      <th></th>\n",
       "      <th>apt</th>\n",
       "      <th>exclusive_use_area</th>\n",
       "      <th>transaction_year_month</th>\n",
       "      <th>transaction_date</th>\n",
       "      <th>transaction_real_price</th>\n",
       "      <th>floor</th>\n",
       "      <th>apt_nm</th>\n",
       "      <th>top10_apt</th>\n",
       "      <th>city</th>\n",
       "      <th>시군구</th>\n",
       "      <th>dong</th>\n",
       "      <th>age</th>\n",
       "    </tr>\n",
       "  </thead>\n",
       "  <tbody>\n",
       "    <tr>\n",
       "      <th>0</th>\n",
       "      <td>개포6차우성아파트1동~8동</td>\n",
       "      <td>79.97</td>\n",
       "      <td>201801.0</td>\n",
       "      <td>3.0</td>\n",
       "      <td>130000.0</td>\n",
       "      <td>4.0</td>\n",
       "      <td>개포6차우성아파트1동~8동</td>\n",
       "      <td>0</td>\n",
       "      <td>서울특별시</td>\n",
       "      <td>강남구</td>\n",
       "      <td>개포동</td>\n",
       "      <td>34.0</td>\n",
       "    </tr>\n",
       "  </tbody>\n",
       "</table>\n",
       "</div>"
      ],
      "text/plain": [
       "              apt  exclusive_use_area  transaction_year_month  \\\n",
       "0  개포6차우성아파트1동~8동               79.97                201801.0   \n",
       "\n",
       "   transaction_date  transaction_real_price  floor          apt_nm  top10_apt  \\\n",
       "0               3.0                130000.0    4.0  개포6차우성아파트1동~8동          0   \n",
       "\n",
       "    city  시군구 dong   age  \n",
       "0  서울특별시  강남구  개포동  34.0  "
      ]
     },
     "execution_count": 26,
     "metadata": {},
     "output_type": "execute_result"
    }
   ],
   "source": [
    "df.head(1)"
   ]
  },
  {
   "cell_type": "markdown",
   "metadata": {
    "ExecuteTime": {
     "end_time": "2021-11-30T01:25:20.728207Z",
     "start_time": "2021-11-30T01:25:20.712991Z"
    },
    "id": "CzQ3BufF-Bv1"
   },
   "source": [
    "#### 거래 연도-월 분리하기"
   ]
  },
  {
   "cell_type": "code",
   "execution_count": 27,
   "metadata": {
    "ExecuteTime": {
     "end_time": "2021-12-06T03:14:14.908282Z",
     "start_time": "2021-12-06T03:14:14.886209Z"
    },
    "executionInfo": {
     "elapsed": 392,
     "status": "ok",
     "timestamp": 1638432335141,
     "user": {
      "displayName": "이구미",
      "photoUrl": "https://lh3.googleusercontent.com/a/default-user=s64",
      "userId": "08177866432571939523"
     },
     "user_tz": -540
    },
    "id": "T348VR09-Bv1"
   },
   "outputs": [],
   "source": [
    "df['transaction_year_month'] = df['transaction_year_month'].astype(int)"
   ]
  },
  {
   "cell_type": "code",
   "execution_count": 28,
   "metadata": {
    "ExecuteTime": {
     "end_time": "2021-12-06T03:14:16.155943Z",
     "start_time": "2021-12-06T03:14:16.009335Z"
    },
    "executionInfo": {
     "elapsed": 3,
     "status": "ok",
     "timestamp": 1638432336633,
     "user": {
      "displayName": "이구미",
      "photoUrl": "https://lh3.googleusercontent.com/a/default-user=s64",
      "userId": "08177866432571939523"
     },
     "user_tz": -540
    },
    "id": "SMCGPu0K-Bv1"
   },
   "outputs": [],
   "source": [
    "df['transaction_year_month'] = df['transaction_year_month'].astype(str)"
   ]
  },
  {
   "cell_type": "code",
   "execution_count": 29,
   "metadata": {
    "ExecuteTime": {
     "end_time": "2021-12-06T03:14:17.017573Z",
     "start_time": "2021-12-06T03:14:16.916813Z"
    },
    "id": "X2OwWfMr-Bv1",
    "outputId": "2c14130f-a8e9-4081-f9b7-7187319d41de"
   },
   "outputs": [
    {
     "name": "stdout",
     "output_type": "stream",
     "text": [
      "<class 'pandas.core.frame.DataFrame'>\n",
      "RangeIndex: 240915 entries, 0 to 240914\n",
      "Data columns (total 12 columns):\n",
      " #   Column                  Non-Null Count   Dtype  \n",
      "---  ------                  --------------   -----  \n",
      " 0   apt                     240915 non-null  object \n",
      " 1   exclusive_use_area      240915 non-null  float64\n",
      " 2   transaction_year_month  240915 non-null  object \n",
      " 3   transaction_date        240915 non-null  float64\n",
      " 4   transaction_real_price  240915 non-null  float64\n",
      " 5   floor                   240915 non-null  float64\n",
      " 6   apt_nm                  240915 non-null  object \n",
      " 7   top10_apt               240915 non-null  int64  \n",
      " 8   city                    240915 non-null  object \n",
      " 9   시군구                     240915 non-null  object \n",
      " 10  dong                    240915 non-null  object \n",
      " 11  age                     240915 non-null  float64\n",
      "dtypes: float64(5), int64(1), object(6)\n",
      "memory usage: 22.1+ MB\n"
     ]
    }
   ],
   "source": [
    "df.info()"
   ]
  },
  {
   "cell_type": "code",
   "execution_count": 30,
   "metadata": {
    "ExecuteTime": {
     "end_time": "2021-12-06T03:14:18.037974Z",
     "start_time": "2021-12-06T03:14:17.920473Z"
    },
    "colab": {
     "base_uri": "https://localhost:8080/"
    },
    "executionInfo": {
     "elapsed": 491,
     "status": "ok",
     "timestamp": 1638432342036,
     "user": {
      "displayName": "이구미",
      "photoUrl": "https://lh3.googleusercontent.com/a/default-user=s64",
      "userId": "08177866432571939523"
     },
     "user_tz": -540
    },
    "id": "cWmbdLX2-Bv1",
    "outputId": "e01d1008-05f9-4723-f6ba-b625cdc2540a"
   },
   "outputs": [
    {
     "data": {
      "text/plain": [
       "0         2018\n",
       "1         2018\n",
       "2         2018\n",
       "3         2018\n",
       "4         2018\n",
       "          ... \n",
       "240910    2020\n",
       "240911    2020\n",
       "240912    2020\n",
       "240913    2020\n",
       "240914    2020\n",
       "Name: transaction_year_month, Length: 240915, dtype: int32"
      ]
     },
     "execution_count": 30,
     "metadata": {},
     "output_type": "execute_result"
    }
   ],
   "source": [
    "df['transaction_year_month'].str[:4].astype(int)"
   ]
  },
  {
   "cell_type": "code",
   "execution_count": 31,
   "metadata": {
    "ExecuteTime": {
     "end_time": "2021-12-06T03:14:18.945960Z",
     "start_time": "2021-12-06T03:14:18.848951Z"
    },
    "colab": {
     "base_uri": "https://localhost:8080/"
    },
    "executionInfo": {
     "elapsed": 372,
     "status": "ok",
     "timestamp": 1638432344592,
     "user": {
      "displayName": "이구미",
      "photoUrl": "https://lh3.googleusercontent.com/a/default-user=s64",
      "userId": "08177866432571939523"
     },
     "user_tz": -540
    },
    "id": "Yb8ThXYH-Bv2",
    "outputId": "88c13427-a6c8-49f8-ecff-318ee1114b76"
   },
   "outputs": [
    {
     "data": {
      "text/plain": [
       "0          1\n",
       "1          1\n",
       "2          1\n",
       "3          3\n",
       "4          4\n",
       "          ..\n",
       "240910     8\n",
       "240911     7\n",
       "240912    12\n",
       "240913     9\n",
       "240914     9\n",
       "Name: transaction_year_month, Length: 240915, dtype: int32"
      ]
     },
     "execution_count": 31,
     "metadata": {},
     "output_type": "execute_result"
    }
   ],
   "source": [
    "df['transaction_year_month'].str[4:].astype(int)"
   ]
  },
  {
   "cell_type": "code",
   "execution_count": 32,
   "metadata": {
    "ExecuteTime": {
     "end_time": "2021-12-06T03:14:19.883109Z",
     "start_time": "2021-12-06T03:14:19.726732Z"
    },
    "executionInfo": {
     "elapsed": 349,
     "status": "ok",
     "timestamp": 1638432347252,
     "user": {
      "displayName": "이구미",
      "photoUrl": "https://lh3.googleusercontent.com/a/default-user=s64",
      "userId": "08177866432571939523"
     },
     "user_tz": -540
    },
    "id": "6mKyQm82-Bv2"
   },
   "outputs": [],
   "source": [
    "df['transaction_year'] = df['transaction_year_month'].str[:4].astype(int)\n",
    "df['transaction_month'] = df['transaction_year_month'].str[4:].astype(int)\n",
    "del df['transaction_year_month']"
   ]
  },
  {
   "cell_type": "code",
   "execution_count": 33,
   "metadata": {
    "ExecuteTime": {
     "end_time": "2021-12-06T03:14:20.640118Z",
     "start_time": "2021-12-06T03:14:20.623158Z"
    },
    "id": "zHml0e-k-Bv2",
    "outputId": "a37ce70f-0146-45af-b9c4-29912ac1bdc1"
   },
   "outputs": [
    {
     "data": {
      "text/html": [
       "<div>\n",
       "<style scoped>\n",
       "    .dataframe tbody tr th:only-of-type {\n",
       "        vertical-align: middle;\n",
       "    }\n",
       "\n",
       "    .dataframe tbody tr th {\n",
       "        vertical-align: top;\n",
       "    }\n",
       "\n",
       "    .dataframe thead th {\n",
       "        text-align: right;\n",
       "    }\n",
       "</style>\n",
       "<table border=\"1\" class=\"dataframe\">\n",
       "  <thead>\n",
       "    <tr style=\"text-align: right;\">\n",
       "      <th></th>\n",
       "      <th>apt</th>\n",
       "      <th>exclusive_use_area</th>\n",
       "      <th>transaction_date</th>\n",
       "      <th>transaction_real_price</th>\n",
       "      <th>floor</th>\n",
       "      <th>apt_nm</th>\n",
       "      <th>top10_apt</th>\n",
       "      <th>city</th>\n",
       "      <th>시군구</th>\n",
       "      <th>dong</th>\n",
       "      <th>age</th>\n",
       "      <th>transaction_year</th>\n",
       "      <th>transaction_month</th>\n",
       "    </tr>\n",
       "  </thead>\n",
       "  <tbody>\n",
       "    <tr>\n",
       "      <th>0</th>\n",
       "      <td>개포6차우성아파트1동~8동</td>\n",
       "      <td>79.97</td>\n",
       "      <td>3.0</td>\n",
       "      <td>130000.0</td>\n",
       "      <td>4.0</td>\n",
       "      <td>개포6차우성아파트1동~8동</td>\n",
       "      <td>0</td>\n",
       "      <td>서울특별시</td>\n",
       "      <td>강남구</td>\n",
       "      <td>개포동</td>\n",
       "      <td>34.0</td>\n",
       "      <td>2018</td>\n",
       "      <td>1</td>\n",
       "    </tr>\n",
       "  </tbody>\n",
       "</table>\n",
       "</div>"
      ],
      "text/plain": [
       "              apt  exclusive_use_area  transaction_date  \\\n",
       "0  개포6차우성아파트1동~8동               79.97               3.0   \n",
       "\n",
       "   transaction_real_price  floor          apt_nm  top10_apt   city  시군구 dong  \\\n",
       "0                130000.0    4.0  개포6차우성아파트1동~8동          0  서울특별시  강남구  개포동   \n",
       "\n",
       "    age  transaction_year  transaction_month  \n",
       "0  34.0              2018                  1  "
      ]
     },
     "execution_count": 33,
     "metadata": {},
     "output_type": "execute_result"
    }
   ],
   "source": [
    "df.head(1)"
   ]
  },
  {
   "cell_type": "code",
   "execution_count": 34,
   "metadata": {
    "ExecuteTime": {
     "end_time": "2021-12-06T03:14:21.780870Z",
     "start_time": "2021-12-06T03:14:21.696586Z"
    },
    "colab": {
     "base_uri": "https://localhost:8080/"
    },
    "executionInfo": {
     "elapsed": 520,
     "status": "ok",
     "timestamp": 1638432254127,
     "user": {
      "displayName": "이구미",
      "photoUrl": "https://lh3.googleusercontent.com/a/default-user=s64",
      "userId": "08177866432571939523"
     },
     "user_tz": -540
    },
    "id": "I7zB9yyJ-Bv2",
    "outputId": "8b0a481c-a3d0-4a6d-d04c-753ecc01638c"
   },
   "outputs": [
    {
     "name": "stdout",
     "output_type": "stream",
     "text": [
      "<class 'pandas.core.frame.DataFrame'>\n",
      "RangeIndex: 240915 entries, 0 to 240914\n",
      "Data columns (total 13 columns):\n",
      " #   Column                  Non-Null Count   Dtype  \n",
      "---  ------                  --------------   -----  \n",
      " 0   apt                     240915 non-null  object \n",
      " 1   exclusive_use_area      240915 non-null  float64\n",
      " 2   transaction_date        240915 non-null  float64\n",
      " 3   transaction_real_price  240915 non-null  float64\n",
      " 4   floor                   240915 non-null  float64\n",
      " 5   apt_nm                  240915 non-null  object \n",
      " 6   top10_apt               240915 non-null  int64  \n",
      " 7   city                    240915 non-null  object \n",
      " 8   시군구                     240915 non-null  object \n",
      " 9   dong                    240915 non-null  object \n",
      " 10  age                     240915 non-null  float64\n",
      " 11  transaction_year        240915 non-null  int32  \n",
      " 12  transaction_month       240915 non-null  int32  \n",
      "dtypes: float64(5), int32(2), int64(1), object(5)\n",
      "memory usage: 22.1+ MB\n"
     ]
    }
   ],
   "source": [
    "df.info()"
   ]
  },
  {
   "cell_type": "markdown",
   "metadata": {
    "id": "t07OraDX-Bv2"
   },
   "source": [
    "#### `floor` 범주화하기"
   ]
  },
  {
   "cell_type": "code",
   "execution_count": 35,
   "metadata": {
    "ExecuteTime": {
     "end_time": "2021-12-06T03:14:25.591592Z",
     "start_time": "2021-12-06T03:14:23.869563Z"
    },
    "colab": {
     "base_uri": "https://localhost:8080/",
     "height": 426
    },
    "executionInfo": {
     "elapsed": 918,
     "status": "ok",
     "timestamp": 1638432355696,
     "user": {
      "displayName": "이구미",
      "photoUrl": "https://lh3.googleusercontent.com/a/default-user=s64",
      "userId": "08177866432571939523"
     },
     "user_tz": -540
    },
    "id": "HJCNxxW--Bv2",
    "outputId": "80022e6a-15a5-4010-cb82-5df66b345b81"
   },
   "outputs": [
    {
     "data": {
      "text/plain": [
       "<AxesSubplot:xlabel='floor'>"
      ]
     },
     "execution_count": 35,
     "metadata": {},
     "output_type": "execute_result"
    },
    {
     "data": {
      "image/png": "[encoded data removed]",
      "text/plain": [
       "<Figure size 1152x432 with 1 Axes>"
      ]
     },
     "metadata": {
      "needs_background": "light"
     },
     "output_type": "display_data"
    }
   ],
   "source": [
    "# floor 구간화 필요: 2층과 3층의 가격 차이가 있을까?\n",
    "%matplotlib inline\n",
    "import matplotlib.pyplot as plt\n",
    "plt.rcParams[\"font.family\"] = 'Malgun Gothic'\n",
    "plt.rcParams[\"font.size\"] = 12\n",
    "plt.rcParams[\"figure.figsize\"] = (16, 6)\n",
    "\n",
    "# 대략적인 구간 확인: 1층 이하, 1 ~ 25층, 26층 ~ 49층, 50층 이상\n",
    "df.groupby(['floor'])['transaction_real_price'].mean().plot(kind = 'bar')"
   ]
  },
  {
   "cell_type": "markdown",
   "metadata": {
    "id": "Kkx3EacU-Bv3"
   },
   "source": [
    "##### floor < 1 제거하기"
   ]
  },
  {
   "cell_type": "code",
   "execution_count": 36,
   "metadata": {
    "ExecuteTime": {
     "end_time": "2021-12-06T03:14:27.075040Z",
     "start_time": "2021-12-06T03:14:27.065871Z"
    },
    "id": "NYzGBGpM-Bv3",
    "outputId": "53b52355-07fb-410c-a378-b375b0710f28"
   },
   "outputs": [
    {
     "data": {
      "text/plain": [
       "Int64Index([ 23286,  43638,  57552,  71718,  72357,  73092,  73107,  73112,\n",
       "             73154,  73166,  73221,  76617,  76635,  76642,  76970,  82392,\n",
       "             86202, 102946, 124275, 130619, 130695, 130698, 134337, 148906,\n",
       "            149365, 149621, 150055, 150064, 150083, 150120, 150235, 150265,\n",
       "            151443, 152642, 153146, 153673, 153720, 158961, 172432, 181681,\n",
       "            181694, 183041, 194630, 200300, 201977, 202595, 203138, 203139,\n",
       "            203763, 207363, 213925, 213937, 216031, 217988, 231291, 231808,\n",
       "            231810, 232047, 232536, 232546, 232565, 232569, 233988, 236075,\n",
       "            236080, 236090, 237075, 237434, 237525, 237526],\n",
       "           dtype='int64')"
      ]
     },
     "execution_count": 36,
     "metadata": {},
     "output_type": "execute_result"
    }
   ],
   "source": [
    "df[df['floor'] < 1].index"
   ]
  },
  {
   "cell_type": "code",
   "execution_count": 37,
   "metadata": {
    "ExecuteTime": {
     "end_time": "2021-12-06T03:14:28.140098Z",
     "start_time": "2021-12-06T03:14:28.115916Z"
    },
    "id": "pW5PHb5N-Bv3",
    "outputId": "e21792e4-73f0-4b68-8634-00dbe1819e20",
    "scrolled": true
   },
   "outputs": [
    {
     "data": {
      "text/html": [
       "<div>\n",
       "<style scoped>\n",
       "    .dataframe tbody tr th:only-of-type {\n",
       "        vertical-align: middle;\n",
       "    }\n",
       "\n",
       "    .dataframe tbody tr th {\n",
       "        vertical-align: top;\n",
       "    }\n",
       "\n",
       "    .dataframe thead th {\n",
       "        text-align: right;\n",
       "    }\n",
       "</style>\n",
       "<table border=\"1\" class=\"dataframe\">\n",
       "  <thead>\n",
       "    <tr style=\"text-align: right;\">\n",
       "      <th></th>\n",
       "      <th>apt</th>\n",
       "      <th>exclusive_use_area</th>\n",
       "      <th>transaction_date</th>\n",
       "      <th>transaction_real_price</th>\n",
       "      <th>floor</th>\n",
       "      <th>apt_nm</th>\n",
       "      <th>top10_apt</th>\n",
       "      <th>city</th>\n",
       "      <th>시군구</th>\n",
       "      <th>dong</th>\n",
       "      <th>age</th>\n",
       "      <th>transaction_year</th>\n",
       "      <th>transaction_month</th>\n",
       "    </tr>\n",
       "  </thead>\n",
       "  <tbody>\n",
       "    <tr>\n",
       "      <th>23286</th>\n",
       "      <td>천왕연지타운1단지</td>\n",
       "      <td>84.95</td>\n",
       "      <td>25.0</td>\n",
       "      <td>56500.0</td>\n",
       "      <td>-2.0</td>\n",
       "      <td>천왕연지타운1단지</td>\n",
       "      <td>0</td>\n",
       "      <td>서울특별시</td>\n",
       "      <td>구로구</td>\n",
       "      <td>천왕동</td>\n",
       "      <td>8.0</td>\n",
       "      <td>2018</td>\n",
       "      <td>5</td>\n",
       "    </tr>\n",
       "    <tr>\n",
       "      <th>43638</th>\n",
       "      <td>성신</td>\n",
       "      <td>75.06</td>\n",
       "      <td>2.0</td>\n",
       "      <td>44000.0</td>\n",
       "      <td>-1.0</td>\n",
       "      <td>성신</td>\n",
       "      <td>0</td>\n",
       "      <td>서울특별시</td>\n",
       "      <td>마포구</td>\n",
       "      <td>대흥동</td>\n",
       "      <td>15.0</td>\n",
       "      <td>2018</td>\n",
       "      <td>8</td>\n",
       "    </tr>\n",
       "    <tr>\n",
       "      <th>57552</th>\n",
       "      <td>신장위아파트</td>\n",
       "      <td>84.81</td>\n",
       "      <td>13.0</td>\n",
       "      <td>25700.0</td>\n",
       "      <td>-1.0</td>\n",
       "      <td>신장위아파트</td>\n",
       "      <td>0</td>\n",
       "      <td>서울특별시</td>\n",
       "      <td>성북구</td>\n",
       "      <td>장위동</td>\n",
       "      <td>18.0</td>\n",
       "      <td>2018</td>\n",
       "      <td>3</td>\n",
       "    </tr>\n",
       "    <tr>\n",
       "      <th>71718</th>\n",
       "      <td>동자</td>\n",
       "      <td>40.23</td>\n",
       "      <td>10.0</td>\n",
       "      <td>34700.0</td>\n",
       "      <td>-1.0</td>\n",
       "      <td>동자</td>\n",
       "      <td>0</td>\n",
       "      <td>서울특별시</td>\n",
       "      <td>용산구</td>\n",
       "      <td>동자동</td>\n",
       "      <td>52.0</td>\n",
       "      <td>2018</td>\n",
       "      <td>11</td>\n",
       "    </tr>\n",
       "    <tr>\n",
       "      <th>72357</th>\n",
       "      <td>강변</td>\n",
       "      <td>64.43</td>\n",
       "      <td>25.0</td>\n",
       "      <td>44200.0</td>\n",
       "      <td>-1.0</td>\n",
       "      <td>강변</td>\n",
       "      <td>0</td>\n",
       "      <td>서울특별시</td>\n",
       "      <td>용산구</td>\n",
       "      <td>이촌동</td>\n",
       "      <td>50.0</td>\n",
       "      <td>2018</td>\n",
       "      <td>1</td>\n",
       "    </tr>\n",
       "    <tr>\n",
       "      <th>...</th>\n",
       "      <td>...</td>\n",
       "      <td>...</td>\n",
       "      <td>...</td>\n",
       "      <td>...</td>\n",
       "      <td>...</td>\n",
       "      <td>...</td>\n",
       "      <td>...</td>\n",
       "      <td>...</td>\n",
       "      <td>...</td>\n",
       "      <td>...</td>\n",
       "      <td>...</td>\n",
       "      <td>...</td>\n",
       "      <td>...</td>\n",
       "    </tr>\n",
       "    <tr>\n",
       "      <th>236090</th>\n",
       "      <td>은평뉴타운우물골(두산위브7단지)</td>\n",
       "      <td>134.51</td>\n",
       "      <td>23.0</td>\n",
       "      <td>104000.0</td>\n",
       "      <td>-3.0</td>\n",
       "      <td>은평뉴타운우물골</td>\n",
       "      <td>0</td>\n",
       "      <td>서울특별시</td>\n",
       "      <td>은평구</td>\n",
       "      <td>진관동</td>\n",
       "      <td>11.0</td>\n",
       "      <td>2020</td>\n",
       "      <td>7</td>\n",
       "    </tr>\n",
       "    <tr>\n",
       "      <th>237075</th>\n",
       "      <td>(432-904)</td>\n",
       "      <td>56.09</td>\n",
       "      <td>7.0</td>\n",
       "      <td>13500.0</td>\n",
       "      <td>-1.0</td>\n",
       "      <td></td>\n",
       "      <td>0</td>\n",
       "      <td>서울특별시</td>\n",
       "      <td>중구</td>\n",
       "      <td>신당동</td>\n",
       "      <td>20.0</td>\n",
       "      <td>2020</td>\n",
       "      <td>7</td>\n",
       "    </tr>\n",
       "    <tr>\n",
       "      <th>237434</th>\n",
       "      <td>신신(2차)</td>\n",
       "      <td>59.98</td>\n",
       "      <td>7.0</td>\n",
       "      <td>18000.0</td>\n",
       "      <td>-1.0</td>\n",
       "      <td>신신</td>\n",
       "      <td>0</td>\n",
       "      <td>서울특별시</td>\n",
       "      <td>중구</td>\n",
       "      <td>신당동</td>\n",
       "      <td>20.0</td>\n",
       "      <td>2020</td>\n",
       "      <td>2</td>\n",
       "    </tr>\n",
       "    <tr>\n",
       "      <th>237525</th>\n",
       "      <td>유정</td>\n",
       "      <td>59.65</td>\n",
       "      <td>23.0</td>\n",
       "      <td>17900.0</td>\n",
       "      <td>-1.0</td>\n",
       "      <td>유정</td>\n",
       "      <td>0</td>\n",
       "      <td>서울특별시</td>\n",
       "      <td>중구</td>\n",
       "      <td>신당동</td>\n",
       "      <td>20.0</td>\n",
       "      <td>2020</td>\n",
       "      <td>5</td>\n",
       "    </tr>\n",
       "    <tr>\n",
       "      <th>237526</th>\n",
       "      <td>인성아트빌</td>\n",
       "      <td>58.11</td>\n",
       "      <td>12.0</td>\n",
       "      <td>8300.0</td>\n",
       "      <td>-1.0</td>\n",
       "      <td>인성아트빌</td>\n",
       "      <td>0</td>\n",
       "      <td>서울특별시</td>\n",
       "      <td>중구</td>\n",
       "      <td>신당동</td>\n",
       "      <td>20.0</td>\n",
       "      <td>2020</td>\n",
       "      <td>10</td>\n",
       "    </tr>\n",
       "  </tbody>\n",
       "</table>\n",
       "<p>70 rows × 13 columns</p>\n",
       "</div>"
      ],
      "text/plain": [
       "                      apt  exclusive_use_area  transaction_date  \\\n",
       "23286           천왕연지타운1단지               84.95              25.0   \n",
       "43638                  성신               75.06               2.0   \n",
       "57552              신장위아파트               84.81              13.0   \n",
       "71718                  동자               40.23              10.0   \n",
       "72357                  강변               64.43              25.0   \n",
       "...                   ...                 ...               ...   \n",
       "236090  은평뉴타운우물골(두산위브7단지)              134.51              23.0   \n",
       "237075          (432-904)               56.09               7.0   \n",
       "237434             신신(2차)               59.98               7.0   \n",
       "237525                 유정               59.65              23.0   \n",
       "237526              인성아트빌               58.11              12.0   \n",
       "\n",
       "        transaction_real_price  floor     apt_nm  top10_apt   city  시군구 dong  \\\n",
       "23286                  56500.0   -2.0  천왕연지타운1단지          0  서울특별시  구로구  천왕동   \n",
       "43638                  44000.0   -1.0         성신          0  서울특별시  마포구  대흥동   \n",
       "57552                  25700.0   -1.0     신장위아파트          0  서울특별시  성북구  장위동   \n",
       "71718                  34700.0   -1.0         동자          0  서울특별시  용산구  동자동   \n",
       "72357                  44200.0   -1.0         강변          0  서울특별시  용산구  이촌동   \n",
       "...                        ...    ...        ...        ...    ...  ...  ...   \n",
       "236090                104000.0   -3.0   은평뉴타운우물골          0  서울특별시  은평구  진관동   \n",
       "237075                 13500.0   -1.0                     0  서울특별시   중구  신당동   \n",
       "237434                 18000.0   -1.0         신신          0  서울특별시   중구  신당동   \n",
       "237525                 17900.0   -1.0         유정          0  서울특별시   중구  신당동   \n",
       "237526                  8300.0   -1.0      인성아트빌          0  서울특별시   중구  신당동   \n",
       "\n",
       "         age  transaction_year  transaction_month  \n",
       "23286    8.0              2018                  5  \n",
       "43638   15.0              2018                  8  \n",
       "57552   18.0              2018                  3  \n",
       "71718   52.0              2018                 11  \n",
       "72357   50.0              2018                  1  \n",
       "...      ...               ...                ...  \n",
       "236090  11.0              2020                  7  \n",
       "237075  20.0              2020                  7  \n",
       "237434  20.0              2020                  2  \n",
       "237525  20.0              2020                  5  \n",
       "237526  20.0              2020                 10  \n",
       "\n",
       "[70 rows x 13 columns]"
      ]
     },
     "execution_count": 37,
     "metadata": {},
     "output_type": "execute_result"
    }
   ],
   "source": [
    "df[df['floor'] < 1]"
   ]
  },
  {
   "cell_type": "code",
   "execution_count": 38,
   "metadata": {
    "ExecuteTime": {
     "end_time": "2021-12-06T03:14:29.480396Z",
     "start_time": "2021-12-06T03:14:29.421054Z"
    },
    "executionInfo": {
     "elapsed": 366,
     "status": "ok",
     "timestamp": 1638432362753,
     "user": {
      "displayName": "이구미",
      "photoUrl": "https://lh3.googleusercontent.com/a/default-user=s64",
      "userId": "08177866432571939523"
     },
     "user_tz": -540
    },
    "id": "TbBIz9vV-Bv3"
   },
   "outputs": [],
   "source": [
    "df.drop(df[df['floor'] < 1].index,inplace=True)"
   ]
  },
  {
   "cell_type": "code",
   "execution_count": 39,
   "metadata": {
    "ExecuteTime": {
     "end_time": "2021-12-06T03:14:31.613740Z",
     "start_time": "2021-12-06T03:14:30.281605Z"
    },
    "colab": {
     "base_uri": "https://localhost:8080/",
     "height": 426
    },
    "executionInfo": {
     "elapsed": 1420,
     "status": "ok",
     "timestamp": 1638432365847,
     "user": {
      "displayName": "이구미",
      "photoUrl": "https://lh3.googleusercontent.com/a/default-user=s64",
      "userId": "08177866432571939523"
     },
     "user_tz": -540
    },
    "id": "EMObC6Eo-Bv4",
    "outputId": "0ca40a6b-1af6-4502-b66d-310658ba141e"
   },
   "outputs": [
    {
     "data": {
      "text/plain": [
       "<AxesSubplot:xlabel='floor'>"
      ]
     },
     "execution_count": 39,
     "metadata": {},
     "output_type": "execute_result"
    },
    {
     "data": {
      "image/png": "[encoded data removed]",
      "text/plain": [
       "<Figure size 1152x432 with 1 Axes>"
      ]
     },
     "metadata": {
      "needs_background": "light"
     },
     "output_type": "display_data"
    }
   ],
   "source": [
    "df.groupby(['floor'])['transaction_real_price'].mean().plot(kind = 'bar')"
   ]
  },
  {
   "cell_type": "code",
   "execution_count": 41,
   "metadata": {
    "ExecuteTime": {
     "end_time": "2021-12-06T03:14:45.671689Z",
     "start_time": "2021-12-06T03:14:45.609608Z"
    },
    "executionInfo": {
     "elapsed": 484,
     "status": "ok",
     "timestamp": 1638432368600,
     "user": {
      "displayName": "이구미",
      "photoUrl": "https://lh3.googleusercontent.com/a/default-user=s64",
      "userId": "08177866432571939523"
     },
     "user_tz": -540
    },
    "id": "8FUJ_8y0-Bv4"
   },
   "outputs": [],
   "source": [
    "# 층 수준을 생성한 뒤, 차이를 봄\n",
    "def floor_level_converter(x):\n",
    "    if x <= 25:\n",
    "        return \"low\"\n",
    "    elif x <= 41:\n",
    "        return \"middle\"\n",
    "    elif x <= 50:\n",
    "        return \"high\"    \n",
    "    else:\n",
    "        return \"very_high\"\n",
    "    \n",
    "df['floor_level'] = df['floor'].apply(floor_level_converter)"
   ]
  },
  {
   "cell_type": "code",
   "execution_count": 163,
   "metadata": {
    "ExecuteTime": {
     "end_time": "2021-12-03T04:01:33.705839Z",
     "start_time": "2021-12-03T04:01:32.918057Z"
    },
    "id": "R1KjL0bA-Bv4",
    "outputId": "505bec4f-4991-4d01-c16a-25efec9c8c04"
   },
   "outputs": [
    {
     "data": {
      "text/plain": [
       "<AxesSubplot:title={'center':'transaction_real_price'}, xlabel='floor'>"
      ]
     },
     "execution_count": 163,
     "metadata": {},
     "output_type": "execute_result"
    },
    {
     "data": {
      "image/png": "[encoded data removed]",
      "text/plain": [
       "<Figure size 1152x432 with 1 Axes>"
      ]
     },
     "metadata": {
      "needs_background": "light"
     },
     "output_type": "display_data"
    }
   ],
   "source": [
    "# 저층 그룹에 아파트의 층에 따른 가격 분포 확인 => 층에 따른 차이가 크지 않음\n",
    "df.loc[df['floor_level'] == 'low'].boxplot(column = 'transaction_real_price', by = 'floor')"
   ]
  },
  {
   "cell_type": "code",
   "execution_count": 164,
   "metadata": {
    "ExecuteTime": {
     "end_time": "2021-12-03T04:01:36.398088Z",
     "start_time": "2021-12-03T04:01:35.977867Z"
    },
    "id": "e3a7teUi-Bv4",
    "outputId": "1b1f18ff-5040-4cf8-9ed5-1c6fcad77826"
   },
   "outputs": [
    {
     "data": {
      "text/plain": [
       "<AxesSubplot:title={'center':'transaction_real_price'}, xlabel='floor'>"
      ]
     },
     "execution_count": 164,
     "metadata": {},
     "output_type": "execute_result"
    },
    {
     "data": {
      "image/png": "[encoded data removed]",
      "text/plain": [
       "<Figure size 1152x432 with 1 Axes>"
      ]
     },
     "metadata": {
      "needs_background": "light"
     },
     "output_type": "display_data"
    }
   ],
   "source": [
    "# 중층 그룹에 아파트의 층에 따른 가격 분포 확인 => 층에 따른 차이가 크지 않음\n",
    "df.loc[df['floor_level'] == 'middle'].boxplot(column = 'transaction_real_price', by = 'floor')"
   ]
  },
  {
   "cell_type": "code",
   "execution_count": 165,
   "metadata": {
    "ExecuteTime": {
     "end_time": "2021-12-03T04:01:37.700346Z",
     "start_time": "2021-12-03T04:01:37.394776Z"
    },
    "id": "EYXaG2np-Bv5",
    "outputId": "09878ce8-dd43-4e22-9616-70513a70443a"
   },
   "outputs": [
    {
     "data": {
      "text/plain": [
       "<AxesSubplot:title={'center':'transaction_real_price'}, xlabel='floor'>"
      ]
     },
     "execution_count": 165,
     "metadata": {},
     "output_type": "execute_result"
    },
    {
     "data": {
      "image/png": "[encoded data removed]",
      "text/plain": [
       "<Figure size 1152x432 with 1 Axes>"
      ]
     },
     "metadata": {
      "needs_background": "light"
     },
     "output_type": "display_data"
    }
   ],
   "source": [
    "# 고층 그룹에 아파트의 층에 따른 가격 분포 확인 => 층에 따른 차이가 크지 않음\n",
    "df.loc[df['floor_level'] == 'high'].boxplot(column = 'transaction_real_price', by = 'floor')"
   ]
  },
  {
   "cell_type": "code",
   "execution_count": 41,
   "metadata": {
    "ExecuteTime": {
     "end_time": "2021-12-06T02:08:07.942476Z",
     "start_time": "2021-12-06T02:08:07.538490Z"
    },
    "id": "lA3Vqksb-Bv5",
    "outputId": "a71ab18d-6335-4786-e031-1ad6c76168d0"
   },
   "outputs": [
    {
     "data": {
      "text/plain": [
       "<AxesSubplot:title={'center':'transaction_real_price'}, xlabel='floor'>"
      ]
     },
     "execution_count": 41,
     "metadata": {},
     "output_type": "execute_result"
    },
    {
     "data": {
      "image/png": "[encoded data removed]",
      "text/plain": [
       "<Figure size 1152x432 with 1 Axes>"
      ]
     },
     "metadata": {
      "needs_background": "light"
     },
     "output_type": "display_data"
    }
   ],
   "source": [
    "# 초고층 그룹에 아파트의 층에 따른 가격 분포 확인 => 층이 높으면 높을수록 가격이 더 오름 (단, 72층을 기준으로 그런 현상이 두드러짐)\n",
    "df.loc[df['floor_level'] == 'very_high'].boxplot(column = 'transaction_real_price', by = 'floor')\n",
    "\n",
    "# 결론: floor_level 변수는 유의하나, floor 변수는 초고층에서만 유의\n",
    "# 따라서 very high를 세분화하거나, floor_level 변수와 floor 변수를 같이 사용하고 교호작용을 고려할 수 있는 트리 계열의 모델 사용이 적합\n",
    "# 여기서는 very high를 세분화하기로 결정"
   ]
  },
  {
   "cell_type": "code",
   "execution_count": 42,
   "metadata": {
    "ExecuteTime": {
     "end_time": "2021-12-06T03:14:51.428524Z",
     "start_time": "2021-12-06T03:14:51.298343Z"
    },
    "executionInfo": {
     "elapsed": 380,
     "status": "ok",
     "timestamp": 1638432397669,
     "user": {
      "displayName": "이구미",
      "photoUrl": "https://lh3.googleusercontent.com/a/default-user=s64",
      "userId": "08177866432571939523"
     },
     "user_tz": -540
    },
    "id": "eMXF27bX-Bv5"
   },
   "outputs": [],
   "source": [
    "df.drop('floor', axis = 1, inplace = True)"
   ]
  },
  {
   "cell_type": "code",
   "execution_count": 43,
   "metadata": {
    "ExecuteTime": {
     "end_time": "2021-12-06T03:14:52.402061Z",
     "start_time": "2021-12-06T03:14:52.310980Z"
    },
    "colab": {
     "base_uri": "https://localhost:8080/"
    },
    "executionInfo": {
     "elapsed": 420,
     "status": "ok",
     "timestamp": 1638432399792,
     "user": {
      "displayName": "이구미",
      "photoUrl": "https://lh3.googleusercontent.com/a/default-user=s64",
      "userId": "08177866432571939523"
     },
     "user_tz": -540
    },
    "id": "s2aZ-UtG-Bv5",
    "outputId": "db2841d4-6433-470e-9e2f-dc478dacaa8f",
    "scrolled": true
   },
   "outputs": [
    {
     "name": "stdout",
     "output_type": "stream",
     "text": [
      "<class 'pandas.core.frame.DataFrame'>\n",
      "Int64Index: 240845 entries, 0 to 240914\n",
      "Data columns (total 13 columns):\n",
      " #   Column                  Non-Null Count   Dtype  \n",
      "---  ------                  --------------   -----  \n",
      " 0   apt                     240845 non-null  object \n",
      " 1   exclusive_use_area      240845 non-null  float64\n",
      " 2   transaction_date        240845 non-null  float64\n",
      " 3   transaction_real_price  240845 non-null  float64\n",
      " 4   apt_nm                  240845 non-null  object \n",
      " 5   top10_apt               240845 non-null  int64  \n",
      " 6   city                    240845 non-null  object \n",
      " 7   시군구                     240845 non-null  object \n",
      " 8   dong                    240845 non-null  object \n",
      " 9   age                     240845 non-null  float64\n",
      " 10  transaction_year        240845 non-null  int32  \n",
      " 11  transaction_month       240845 non-null  int32  \n",
      " 12  floor_level             240845 non-null  object \n",
      "dtypes: float64(4), int32(2), int64(1), object(6)\n",
      "memory usage: 23.9+ MB\n"
     ]
    }
   ],
   "source": [
    "df.info()"
   ]
  },
  {
   "cell_type": "markdown",
   "metadata": {
    "id": "ufmCTVWP-Bv6"
   },
   "source": [
    "#### 시세 변수 추가"
   ]
  },
  {
   "cell_type": "code",
   "execution_count": 44,
   "metadata": {
    "ExecuteTime": {
     "end_time": "2021-12-06T03:14:54.497277Z",
     "start_time": "2021-12-06T03:14:54.146919Z"
    },
    "executionInfo": {
     "elapsed": 443,
     "status": "ok",
     "timestamp": 1638432408818,
     "user": {
      "displayName": "이구미",
      "photoUrl": "https://lh3.googleusercontent.com/a/default-user=s64",
      "userId": "08177866432571939523"
     },
     "user_tz": -540
    },
    "id": "C9KQ4Z6A-Bv6"
   },
   "outputs": [],
   "source": [
    "# 구별 전체 평균 시세 부착\n",
    "mean_price_per_gu = df.groupby(['city', '시군구'], as_index = False)['transaction_real_price'].mean()\n",
    "mean_price_per_gu.rename({'transaction_real_price':'구별_전체_평균_시세'}, axis = 1, inplace = True)\n",
    "df = pd.merge(df, mean_price_per_gu, on = ['city', '시군구']) "
   ]
  },
  {
   "cell_type": "code",
   "execution_count": 45,
   "metadata": {
    "ExecuteTime": {
     "end_time": "2021-12-06T03:14:55.473186Z",
     "start_time": "2021-12-06T03:14:55.234510Z"
    },
    "executionInfo": {
     "elapsed": 510,
     "status": "ok",
     "timestamp": 1638432413029,
     "user": {
      "displayName": "이구미",
      "photoUrl": "https://lh3.googleusercontent.com/a/default-user=s64",
      "userId": "08177866432571939523"
     },
     "user_tz": -540
    },
    "id": "uW_Ykb9G-Bv6"
   },
   "outputs": [],
   "source": [
    "# 구별 작년 시세 부착\n",
    "# price_per_gu_and_year 변수에 직접 수정을 하므로, df가 변경되는 것을 방지하기 위해, df.copy().groupby~를 사용\n",
    "price_per_gu_and_year = df.copy().groupby(['city', '시군구', 'transaction_year'], as_index = False)['transaction_real_price'].agg(['mean', 'count'])\n",
    "price_per_gu_and_year = price_per_gu_and_year.reset_index().rename({\"mean\":\"구별_작년_평균_시세\", \"count\":\"구별_작년_거래량\"}, axis = 1)\n",
    "\n",
    "price_per_gu_and_year['transaction_year'] += 1 # 작년것을 붙이기 위해, 1을 더함\n",
    "df = pd.merge(df, price_per_gu_and_year, on = ['city', '시군구', 'transaction_year'], how = 'left') # 작년 기록이 없어서 붙지 않는 것을 방지하기 위해, how = 'left'로 설정\n",
    "# 작년 거래량 기록이 없기에 0으로.\n",
    "df['구별_작년_거래량'].fillna(0, inplace = True) # 구별 작년 거래 데이터가 없다는 것은, 구별 작년 거래량이 0이라는 이야기이므로 fillna(0)을 수행"
   ]
  },
  {
   "cell_type": "code",
   "execution_count": 46,
   "metadata": {
    "ExecuteTime": {
     "end_time": "2021-12-06T03:14:57.322270Z",
     "start_time": "2021-12-06T03:14:57.291311Z"
    },
    "id": "JvKosixe-Bv6",
    "outputId": "24165b5d-bc34-470d-9fc4-d7af700827c2",
    "scrolled": true
   },
   "outputs": [
    {
     "data": {
      "text/html": [
       "<div>\n",
       "<style scoped>\n",
       "    .dataframe tbody tr th:only-of-type {\n",
       "        vertical-align: middle;\n",
       "    }\n",
       "\n",
       "    .dataframe tbody tr th {\n",
       "        vertical-align: top;\n",
       "    }\n",
       "\n",
       "    .dataframe thead th {\n",
       "        text-align: right;\n",
       "    }\n",
       "</style>\n",
       "<table border=\"1\" class=\"dataframe\">\n",
       "  <thead>\n",
       "    <tr style=\"text-align: right;\">\n",
       "      <th></th>\n",
       "      <th>apt</th>\n",
       "      <th>exclusive_use_area</th>\n",
       "      <th>transaction_date</th>\n",
       "      <th>transaction_real_price</th>\n",
       "      <th>apt_nm</th>\n",
       "      <th>top10_apt</th>\n",
       "      <th>city</th>\n",
       "      <th>시군구</th>\n",
       "      <th>dong</th>\n",
       "      <th>age</th>\n",
       "      <th>transaction_year</th>\n",
       "      <th>transaction_month</th>\n",
       "      <th>floor_level</th>\n",
       "      <th>구별_전체_평균_시세</th>\n",
       "      <th>구별_작년_평균_시세</th>\n",
       "      <th>구별_작년_거래량</th>\n",
       "    </tr>\n",
       "  </thead>\n",
       "  <tbody>\n",
       "    <tr>\n",
       "      <th>0</th>\n",
       "      <td>개포6차우성아파트1동~8동</td>\n",
       "      <td>79.97</td>\n",
       "      <td>3.0</td>\n",
       "      <td>130000.0</td>\n",
       "      <td>개포6차우성아파트1동~8동</td>\n",
       "      <td>0</td>\n",
       "      <td>서울특별시</td>\n",
       "      <td>강남구</td>\n",
       "      <td>개포동</td>\n",
       "      <td>34.0</td>\n",
       "      <td>2018</td>\n",
       "      <td>1</td>\n",
       "      <td>low</td>\n",
       "      <td>172403.047095</td>\n",
       "      <td>NaN</td>\n",
       "      <td>0.0</td>\n",
       "    </tr>\n",
       "  </tbody>\n",
       "</table>\n",
       "</div>"
      ],
      "text/plain": [
       "              apt  exclusive_use_area  transaction_date  \\\n",
       "0  개포6차우성아파트1동~8동               79.97               3.0   \n",
       "\n",
       "   transaction_real_price          apt_nm  top10_apt   city  시군구 dong   age  \\\n",
       "0                130000.0  개포6차우성아파트1동~8동          0  서울특별시  강남구  개포동  34.0   \n",
       "\n",
       "   transaction_year  transaction_month floor_level    구별_전체_평균_시세  \\\n",
       "0              2018                  1         low  172403.047095   \n",
       "\n",
       "   구별_작년_평균_시세  구별_작년_거래량  \n",
       "0          NaN        0.0  "
      ]
     },
     "execution_count": 46,
     "metadata": {},
     "output_type": "execute_result"
    }
   ],
   "source": [
    "df.head(1)"
   ]
  },
  {
   "cell_type": "markdown",
   "metadata": {
    "id": "-mOFsbuD-Bv6"
   },
   "source": [
    "## 외부 데이터 부착"
   ]
  },
  {
   "cell_type": "markdown",
   "metadata": {
    "id": "3XW5tFX1-Bv6"
   },
   "source": [
    "#### `편의시설통합.csv` 데이터 합치기"
   ]
  },
  {
   "cell_type": "code",
   "execution_count": 47,
   "metadata": {
    "ExecuteTime": {
     "end_time": "2021-12-06T03:14:59.684951Z",
     "start_time": "2021-12-06T03:14:59.659987Z"
    },
    "colab": {
     "base_uri": "https://localhost:8080/",
     "height": 206
    },
    "executionInfo": {
     "elapsed": 527,
     "status": "ok",
     "timestamp": 1638432422436,
     "user": {
      "displayName": "이구미",
      "photoUrl": "https://lh3.googleusercontent.com/a/default-user=s64",
      "userId": "08177866432571939523"
     },
     "user_tz": -540
    },
    "id": "Bt8SIGwy-Bv7",
    "outputId": "344c93b5-3c86-4f75-f328-53ec43796448"
   },
   "outputs": [
    {
     "data": {
      "text/html": [
       "<div>\n",
       "<style scoped>\n",
       "    .dataframe tbody tr th:only-of-type {\n",
       "        vertical-align: middle;\n",
       "    }\n",
       "\n",
       "    .dataframe tbody tr th {\n",
       "        vertical-align: top;\n",
       "    }\n",
       "\n",
       "    .dataframe thead th {\n",
       "        text-align: right;\n",
       "    }\n",
       "</style>\n",
       "<table border=\"1\" class=\"dataframe\">\n",
       "  <thead>\n",
       "    <tr style=\"text-align: right;\">\n",
       "      <th></th>\n",
       "      <th>구</th>\n",
       "      <th>stud_per_elementary</th>\n",
       "      <th>stud_per_middle</th>\n",
       "      <th>stud_per_high</th>\n",
       "      <th>인구당대형마트수</th>\n",
       "      <th>인구당백화점수</th>\n",
       "      <th>인구당쇼핑센터수</th>\n",
       "      <th>인구당합계쇼핑수</th>\n",
       "      <th>인구당병원수</th>\n",
       "    </tr>\n",
       "  </thead>\n",
       "  <tbody>\n",
       "    <tr>\n",
       "      <th>0</th>\n",
       "      <td>종로구</td>\n",
       "      <td>399</td>\n",
       "      <td>310</td>\n",
       "      <td>605</td>\n",
       "      <td>0.000000</td>\n",
       "      <td>0.000000</td>\n",
       "      <td>0.000000</td>\n",
       "      <td>0.000000</td>\n",
       "      <td>6.484454</td>\n",
       "    </tr>\n",
       "    <tr>\n",
       "      <th>1</th>\n",
       "      <td>중구</td>\n",
       "      <td>416</td>\n",
       "      <td>231</td>\n",
       "      <td>612</td>\n",
       "      <td>1.515324</td>\n",
       "      <td>2.272986</td>\n",
       "      <td>6.061295</td>\n",
       "      <td>9.849604</td>\n",
       "      <td>8.334280</td>\n",
       "    </tr>\n",
       "    <tr>\n",
       "      <th>2</th>\n",
       "      <td>용산구</td>\n",
       "      <td>458</td>\n",
       "      <td>390</td>\n",
       "      <td>547</td>\n",
       "      <td>0.839909</td>\n",
       "      <td>0.419955</td>\n",
       "      <td>1.259864</td>\n",
       "      <td>2.519727</td>\n",
       "      <td>1.259864</td>\n",
       "    </tr>\n",
       "    <tr>\n",
       "      <th>3</th>\n",
       "      <td>성동구</td>\n",
       "      <td>523</td>\n",
       "      <td>442</td>\n",
       "      <td>510</td>\n",
       "      <td>0.680610</td>\n",
       "      <td>0.000000</td>\n",
       "      <td>0.000000</td>\n",
       "      <td>0.680610</td>\n",
       "      <td>3.743356</td>\n",
       "    </tr>\n",
       "    <tr>\n",
       "      <th>4</th>\n",
       "      <td>광진구</td>\n",
       "      <td>648</td>\n",
       "      <td>611</td>\n",
       "      <td>820</td>\n",
       "      <td>0.566567</td>\n",
       "      <td>0.283284</td>\n",
       "      <td>0.000000</td>\n",
       "      <td>0.849851</td>\n",
       "      <td>3.682688</td>\n",
       "    </tr>\n",
       "  </tbody>\n",
       "</table>\n",
       "</div>"
      ],
      "text/plain": [
       "     구  stud_per_elementary  stud_per_middle  stud_per_high  인구당대형마트수  \\\n",
       "0  종로구                  399              310            605  0.000000   \n",
       "1   중구                  416              231            612  1.515324   \n",
       "2  용산구                  458              390            547  0.839909   \n",
       "3  성동구                  523              442            510  0.680610   \n",
       "4  광진구                  648              611            820  0.566567   \n",
       "\n",
       "    인구당백화점수  인구당쇼핑센터수  인구당합계쇼핑수    인구당병원수  \n",
       "0  0.000000  0.000000  0.000000  6.484454  \n",
       "1  2.272986  6.061295  9.849604  8.334280  \n",
       "2  0.419955  1.259864  2.519727  1.259864  \n",
       "3  0.000000  0.000000  0.680610  3.743356  \n",
       "4  0.283284  0.000000  0.849851  3.682688  "
      ]
     },
     "execution_count": 47,
     "metadata": {},
     "output_type": "execute_result"
    }
   ],
   "source": [
    "amenity = pd.read_csv(\"train/인구당편의시설.csv\", engine = \"python\", encoding = \"utf8\")\n",
    "amenity.head()"
   ]
  },
  {
   "cell_type": "markdown",
   "metadata": {},
   "source": [
    "- num -> mean"
   ]
  },
  {
   "cell_type": "code",
   "execution_count": 48,
   "metadata": {
    "ExecuteTime": {
     "end_time": "2021-12-06T03:15:01.419883Z",
     "start_time": "2021-12-06T03:15:01.398942Z"
    },
    "executionInfo": {
     "elapsed": 485,
     "status": "ok",
     "timestamp": 1638432447322,
     "user": {
      "displayName": "이구미",
      "photoUrl": "https://lh3.googleusercontent.com/a/default-user=s64",
      "userId": "08177866432571939523"
     },
     "user_tz": -540
    },
    "id": "vC2wCRJK-Bv7"
   },
   "outputs": [],
   "source": [
    "\n",
    "amenity.drop(columns=[\"인구당대형마트수\", \"인구당백화점수\", \"인구당쇼핑센터수\"], axis = 1, inplace=True)"
   ]
  },
  {
   "cell_type": "code",
   "execution_count": 49,
   "metadata": {
    "ExecuteTime": {
     "end_time": "2021-12-06T03:15:02.703217Z",
     "start_time": "2021-12-06T03:15:02.687261Z"
    },
    "colab": {
     "base_uri": "https://localhost:8080/"
    },
    "executionInfo": {
     "elapsed": 541,
     "status": "ok",
     "timestamp": 1638432450420,
     "user": {
      "displayName": "이구미",
      "photoUrl": "https://lh3.googleusercontent.com/a/default-user=s64",
      "userId": "08177866432571939523"
     },
     "user_tz": -540
    },
    "id": "oOPtxHxW-Bv7",
    "outputId": "41f69507-6b5a-4738-beb8-2d3d36e9ac9e"
   },
   "outputs": [
    {
     "name": "stdout",
     "output_type": "stream",
     "text": [
      "<class 'pandas.core.frame.DataFrame'>\n",
      "RangeIndex: 25 entries, 0 to 24\n",
      "Data columns (total 6 columns):\n",
      " #   Column               Non-Null Count  Dtype  \n",
      "---  ------               --------------  -----  \n",
      " 0   구                    25 non-null     object \n",
      " 1   stud_per_elementary  25 non-null     int64  \n",
      " 2   stud_per_middle      25 non-null     int64  \n",
      " 3   stud_per_high        25 non-null     int64  \n",
      " 4   인구당합계쇼핑수             25 non-null     float64\n",
      " 5   인구당병원수               25 non-null     float64\n",
      "dtypes: float64(2), int64(3), object(1)\n",
      "memory usage: 1.3+ KB\n"
     ]
    }
   ],
   "source": [
    "amenity.info()"
   ]
  },
  {
   "cell_type": "code",
   "execution_count": 50,
   "metadata": {
    "ExecuteTime": {
     "end_time": "2021-12-06T03:15:03.631589Z",
     "start_time": "2021-12-06T03:15:03.618065Z"
    },
    "id": "XIJNTvFR-Bv7"
   },
   "outputs": [],
   "source": [
    "pd.options.display.max_columns = 200"
   ]
  },
  {
   "cell_type": "code",
   "execution_count": 51,
   "metadata": {
    "ExecuteTime": {
     "end_time": "2021-12-06T03:15:04.728395Z",
     "start_time": "2021-12-06T03:15:04.602622Z"
    },
    "colab": {
     "base_uri": "https://localhost:8080/",
     "height": 326
    },
    "executionInfo": {
     "elapsed": 486,
     "status": "ok",
     "timestamp": 1638432456343,
     "user": {
      "displayName": "이구미",
      "photoUrl": "https://lh3.googleusercontent.com/a/default-user=s64",
      "userId": "08177866432571939523"
     },
     "user_tz": -540
    },
    "id": "o6DqSnDo-Bv7",
    "outputId": "51a8cbb5-c004-4b55-cf45-0a03cc8f04ac",
    "scrolled": true
   },
   "outputs": [
    {
     "data": {
      "text/html": [
       "<div>\n",
       "<style scoped>\n",
       "    .dataframe tbody tr th:only-of-type {\n",
       "        vertical-align: middle;\n",
       "    }\n",
       "\n",
       "    .dataframe tbody tr th {\n",
       "        vertical-align: top;\n",
       "    }\n",
       "\n",
       "    .dataframe thead th {\n",
       "        text-align: right;\n",
       "    }\n",
       "</style>\n",
       "<table border=\"1\" class=\"dataframe\">\n",
       "  <thead>\n",
       "    <tr style=\"text-align: right;\">\n",
       "      <th></th>\n",
       "      <th>apt</th>\n",
       "      <th>exclusive_use_area</th>\n",
       "      <th>transaction_date</th>\n",
       "      <th>transaction_real_price</th>\n",
       "      <th>apt_nm</th>\n",
       "      <th>top10_apt</th>\n",
       "      <th>city</th>\n",
       "      <th>시군구</th>\n",
       "      <th>dong</th>\n",
       "      <th>age</th>\n",
       "      <th>transaction_year</th>\n",
       "      <th>transaction_month</th>\n",
       "      <th>floor_level</th>\n",
       "      <th>구별_전체_평균_시세</th>\n",
       "      <th>구별_작년_평균_시세</th>\n",
       "      <th>구별_작년_거래량</th>\n",
       "      <th>구</th>\n",
       "      <th>stud_per_elementary</th>\n",
       "      <th>stud_per_middle</th>\n",
       "      <th>stud_per_high</th>\n",
       "      <th>인구당합계쇼핑수</th>\n",
       "      <th>인구당병원수</th>\n",
       "    </tr>\n",
       "  </thead>\n",
       "  <tbody>\n",
       "    <tr>\n",
       "      <th>0</th>\n",
       "      <td>개포6차우성아파트1동~8동</td>\n",
       "      <td>79.97</td>\n",
       "      <td>3.0</td>\n",
       "      <td>130000.0</td>\n",
       "      <td>개포6차우성아파트1동~8동</td>\n",
       "      <td>0</td>\n",
       "      <td>서울특별시</td>\n",
       "      <td>강남구</td>\n",
       "      <td>개포동</td>\n",
       "      <td>34.0</td>\n",
       "      <td>2018</td>\n",
       "      <td>1</td>\n",
       "      <td>low</td>\n",
       "      <td>172403.047095</td>\n",
       "      <td>NaN</td>\n",
       "      <td>0.0</td>\n",
       "      <td>강남구</td>\n",
       "      <td>785</td>\n",
       "      <td>650</td>\n",
       "      <td>811</td>\n",
       "      <td>1.85651</td>\n",
       "      <td>12.995572</td>\n",
       "    </tr>\n",
       "  </tbody>\n",
       "</table>\n",
       "</div>"
      ],
      "text/plain": [
       "              apt  exclusive_use_area  transaction_date  \\\n",
       "0  개포6차우성아파트1동~8동               79.97               3.0   \n",
       "\n",
       "   transaction_real_price          apt_nm  top10_apt   city  시군구 dong   age  \\\n",
       "0                130000.0  개포6차우성아파트1동~8동          0  서울특별시  강남구  개포동  34.0   \n",
       "\n",
       "   transaction_year  transaction_month floor_level    구별_전체_평균_시세  \\\n",
       "0              2018                  1         low  172403.047095   \n",
       "\n",
       "   구별_작년_평균_시세  구별_작년_거래량    구  stud_per_elementary  stud_per_middle  \\\n",
       "0          NaN        0.0  강남구                  785              650   \n",
       "\n",
       "   stud_per_high  인구당합계쇼핑수     인구당병원수  \n",
       "0            811   1.85651  12.995572  "
      ]
     },
     "execution_count": 51,
     "metadata": {},
     "output_type": "execute_result"
    }
   ],
   "source": [
    "df = pd.merge(df, amenity,left_on='시군구',right_on='구',how='left')\n",
    "df.head(1)"
   ]
  },
  {
   "cell_type": "code",
   "execution_count": 52,
   "metadata": {
    "ExecuteTime": {
     "end_time": "2021-12-06T03:15:05.929999Z",
     "start_time": "2021-12-06T03:15:05.917950Z"
    }
   },
   "outputs": [
    {
     "data": {
      "text/plain": [
       "Index(['apt', 'exclusive_use_area', 'transaction_date',\n",
       "       'transaction_real_price', 'apt_nm', 'top10_apt', 'city', '시군구', 'dong',\n",
       "       'age', 'transaction_year', 'transaction_month', 'floor_level',\n",
       "       '구별_전체_평균_시세', '구별_작년_평균_시세', '구별_작년_거래량', '구', 'stud_per_elementary',\n",
       "       'stud_per_middle', 'stud_per_high', '인구당합계쇼핑수', '인구당병원수'],\n",
       "      dtype='object')"
      ]
     },
     "execution_count": 52,
     "metadata": {},
     "output_type": "execute_result"
    }
   ],
   "source": [
    "df.columns"
   ]
  },
  {
   "cell_type": "code",
   "execution_count": 53,
   "metadata": {
    "ExecuteTime": {
     "end_time": "2021-12-06T03:15:16.075219Z",
     "start_time": "2021-12-06T03:15:15.923332Z"
    }
   },
   "outputs": [],
   "source": [
    "df.drop('구', axis=1,inplace=True)"
   ]
  },
  {
   "cell_type": "code",
   "execution_count": 54,
   "metadata": {
    "ExecuteTime": {
     "end_time": "2021-12-06T03:15:17.668366Z",
     "start_time": "2021-12-06T03:15:17.637451Z"
    },
    "colab": {
     "base_uri": "https://localhost:8080/",
     "height": 135
    },
    "executionInfo": {
     "elapsed": 353,
     "status": "ok",
     "timestamp": 1638432460586,
     "user": {
      "displayName": "이구미",
      "photoUrl": "https://lh3.googleusercontent.com/a/default-user=s64",
      "userId": "08177866432571939523"
     },
     "user_tz": -540
    },
    "id": "A9A9cRK7A6dz",
    "outputId": "1f4a131e-575e-44f8-dc0f-d7e40d73af98"
   },
   "outputs": [
    {
     "data": {
      "text/html": [
       "<div>\n",
       "<style scoped>\n",
       "    .dataframe tbody tr th:only-of-type {\n",
       "        vertical-align: middle;\n",
       "    }\n",
       "\n",
       "    .dataframe tbody tr th {\n",
       "        vertical-align: top;\n",
       "    }\n",
       "\n",
       "    .dataframe thead th {\n",
       "        text-align: right;\n",
       "    }\n",
       "</style>\n",
       "<table border=\"1\" class=\"dataframe\">\n",
       "  <thead>\n",
       "    <tr style=\"text-align: right;\">\n",
       "      <th></th>\n",
       "      <th>city</th>\n",
       "      <th>gu</th>\n",
       "      <th>dong</th>\n",
       "      <th>park_name</th>\n",
       "      <th>park_type</th>\n",
       "      <th>park_area</th>\n",
       "      <th>park_exercise_facility</th>\n",
       "      <th>park_entertainment_facility</th>\n",
       "      <th>park_benefit_facility</th>\n",
       "      <th>park_cultural_facitiy</th>\n",
       "      <th>park_facility_other</th>\n",
       "      <th>park_open_year</th>\n",
       "      <th>reference_date</th>\n",
       "    </tr>\n",
       "  </thead>\n",
       "  <tbody>\n",
       "    <tr>\n",
       "      <th>0</th>\n",
       "      <td>부산광역시</td>\n",
       "      <td>남구</td>\n",
       "      <td>대연동</td>\n",
       "      <td>대연공원</td>\n",
       "      <td>근린공원</td>\n",
       "      <td>55227.0</td>\n",
       "      <td>NaN</td>\n",
       "      <td>NaN</td>\n",
       "      <td>NaN</td>\n",
       "      <td>NaN</td>\n",
       "      <td>NaN</td>\n",
       "      <td>1944.0</td>\n",
       "      <td>2018-08-14</td>\n",
       "    </tr>\n",
       "  </tbody>\n",
       "</table>\n",
       "</div>"
      ],
      "text/plain": [
       "    city  gu dong park_name park_type  park_area park_exercise_facility  \\\n",
       "0  부산광역시  남구  대연동      대연공원      근린공원    55227.0                    NaN   \n",
       "\n",
       "  park_entertainment_facility park_benefit_facility park_cultural_facitiy  \\\n",
       "0                         NaN                   NaN                   NaN   \n",
       "\n",
       "  park_facility_other  park_open_year reference_date  \n",
       "0                 NaN          1944.0     2018-08-14  "
      ]
     },
     "execution_count": 54,
     "metadata": {},
     "output_type": "execute_result"
    }
   ],
   "source": [
    "park_df = pd.read_csv(\"park.csv\")\n",
    "park_df.head(1)"
   ]
  },
  {
   "cell_type": "code",
   "execution_count": 55,
   "metadata": {
    "ExecuteTime": {
     "end_time": "2021-12-06T03:15:19.213672Z",
     "start_time": "2021-12-06T03:15:19.200534Z"
    },
    "executionInfo": {
     "elapsed": 500,
     "status": "ok",
     "timestamp": 1638432464095,
     "user": {
      "displayName": "이구미",
      "photoUrl": "https://lh3.googleusercontent.com/a/default-user=s64",
      "userId": "08177866432571939523"
     },
     "user_tz": -540
    },
    "id": "LoWN1DaWBH7t"
   },
   "outputs": [],
   "source": [
    "facility_cols = ['park_exercise_facility', 'park_entertainment_facility', 'park_benefit_facility', 'park_cultural_facitiy', 'park_facility_other']\n",
    "for col in facility_cols:\n",
    "    park_df.loc[park_df[col].notnull(), col] = 1\n",
    "    park_df.loc[park_df[col].isnull(), col] = 0"
   ]
  },
  {
   "cell_type": "code",
   "execution_count": 56,
   "metadata": {
    "ExecuteTime": {
     "end_time": "2021-12-06T03:15:20.191726Z",
     "start_time": "2021-12-06T03:15:20.051913Z"
    },
    "colab": {
     "base_uri": "https://localhost:8080/",
     "height": 81
    },
    "executionInfo": {
     "elapsed": 572,
     "status": "ok",
     "timestamp": 1638432467428,
     "user": {
      "displayName": "이구미",
      "photoUrl": "https://lh3.googleusercontent.com/a/default-user=s64",
      "userId": "08177866432571939523"
     },
     "user_tz": -540
    },
    "id": "mxAz8D89BMwd",
    "outputId": "d076ba45-3f62-4a61-b451-dc1d5ba3cd12"
   },
   "outputs": [
    {
     "data": {
      "text/html": [
       "<div>\n",
       "<style scoped>\n",
       "    .dataframe tbody tr th:only-of-type {\n",
       "        vertical-align: middle;\n",
       "    }\n",
       "\n",
       "    .dataframe tbody tr th {\n",
       "        vertical-align: top;\n",
       "    }\n",
       "\n",
       "    .dataframe thead th {\n",
       "        text-align: right;\n",
       "    }\n",
       "</style>\n",
       "<table border=\"1\" class=\"dataframe\">\n",
       "  <thead>\n",
       "    <tr style=\"text-align: right;\">\n",
       "      <th></th>\n",
       "      <th>city</th>\n",
       "      <th>gu</th>\n",
       "      <th>dong</th>\n",
       "      <th>park_exercise_facility</th>\n",
       "      <th>park_entertainment_facility</th>\n",
       "      <th>park_benefit_facility</th>\n",
       "      <th>park_cultural_facitiy</th>\n",
       "      <th>park_facility_other</th>\n",
       "    </tr>\n",
       "  </thead>\n",
       "  <tbody>\n",
       "    <tr>\n",
       "      <th>0</th>\n",
       "      <td>부산광역시</td>\n",
       "      <td>강서구</td>\n",
       "      <td>녹산동</td>\n",
       "      <td>1</td>\n",
       "      <td>0</td>\n",
       "      <td>1</td>\n",
       "      <td>0</td>\n",
       "      <td>1</td>\n",
       "    </tr>\n",
       "  </tbody>\n",
       "</table>\n",
       "</div>"
      ],
      "text/plain": [
       "    city   gu dong  park_exercise_facility  park_entertainment_facility  \\\n",
       "0  부산광역시  강서구  녹산동                       1                            0   \n",
       "\n",
       "   park_benefit_facility  park_cultural_facitiy  park_facility_other  \n",
       "0                      1                      0                    1  "
      ]
     },
     "execution_count": 56,
     "metadata": {},
     "output_type": "execute_result"
    }
   ],
   "source": [
    "# 동별 공원 수 \n",
    "num_park_per_dong = park_df.groupby(['city', 'gu', 'dong'], as_index = False)['park_name'].count()\n",
    "num_park_per_dong.rename({\"park_name\":\"공원수\"}, axis = 1, inplace = True)\n",
    "\n",
    "# 동별 공원에 배치된 facilty 수\n",
    "num_facilty_per_dong = park_df.groupby(['city', 'gu', 'dong'], as_index = False)[facility_cols].sum()\n",
    "num_facilty_per_dong.head(1)"
   ]
  },
  {
   "cell_type": "code",
   "execution_count": 57,
   "metadata": {
    "ExecuteTime": {
     "end_time": "2021-12-06T03:15:22.067965Z",
     "start_time": "2021-12-06T03:15:21.125898Z"
    },
    "colab": {
     "base_uri": "https://localhost:8080/"
    },
    "executionInfo": {
     "elapsed": 1002,
     "status": "ok",
     "timestamp": 1638432470832,
     "user": {
      "displayName": "이구미",
      "photoUrl": "https://lh3.googleusercontent.com/a/default-user=s64",
      "userId": "08177866432571939523"
     },
     "user_tz": -540
    },
    "id": "QNJKRVJWBPo3",
    "outputId": "cced97f2-0024-4fae-86f9-96d50d6e0101"
   },
   "outputs": [
    {
     "name": "stderr",
     "output_type": "stream",
     "text": [
      "C:\\Users\\user\\anaconda3\\lib\\site-packages\\pandas\\core\\frame.py:4462: SettingWithCopyWarning: \n",
      "A value is trying to be set on a copy of a slice from a DataFrame\n",
      "\n",
      "See the caveats in the documentation: https://pandas.pydata.org/pandas-docs/stable/user_guide/indexing.html#returning-a-view-versus-a-copy\n",
      "  return super().fillna(\n"
     ]
    }
   ],
   "source": [
    "# 공원 데이터 부착\n",
    "df = pd.merge(df, num_park_per_dong, left_on = ['city', '시군구', 'dong'], right_on = ['city', 'gu', 'dong'], how = 'left')\n",
    "df['공원수'].fillna(0, inplace = True)\n",
    "df.drop('gu', axis = 1, inplace = True)\n",
    "\n",
    "df = pd.merge(df, num_facilty_per_dong, left_on = ['city', '시군구', 'dong'], right_on = ['city', 'gu', 'dong'], how = 'left')\n",
    "df[facility_cols].fillna(0, inplace = True)\n",
    "df.drop('gu', axis = 1, inplace = True)"
   ]
  },
  {
   "cell_type": "code",
   "execution_count": 58,
   "metadata": {
    "ExecuteTime": {
     "end_time": "2021-12-06T03:15:23.058256Z",
     "start_time": "2021-12-06T03:15:23.024380Z"
    },
    "colab": {
     "base_uri": "https://localhost:8080/",
     "height": 153
    },
    "executionInfo": {
     "elapsed": 501,
     "status": "ok",
     "timestamp": 1638432475143,
     "user": {
      "displayName": "이구미",
      "photoUrl": "https://lh3.googleusercontent.com/a/default-user=s64",
      "userId": "08177866432571939523"
     },
     "user_tz": -540
    },
    "id": "UDRvvksJJrm_",
    "outputId": "af8f6906-52df-4d1b-de1a-0e4a647730ff"
   },
   "outputs": [
    {
     "data": {
      "text/html": [
       "<div>\n",
       "<style scoped>\n",
       "    .dataframe tbody tr th:only-of-type {\n",
       "        vertical-align: middle;\n",
       "    }\n",
       "\n",
       "    .dataframe tbody tr th {\n",
       "        vertical-align: top;\n",
       "    }\n",
       "\n",
       "    .dataframe thead th {\n",
       "        text-align: right;\n",
       "    }\n",
       "</style>\n",
       "<table border=\"1\" class=\"dataframe\">\n",
       "  <thead>\n",
       "    <tr style=\"text-align: right;\">\n",
       "      <th></th>\n",
       "      <th>city</th>\n",
       "      <th>gu</th>\n",
       "      <th>day_care_name</th>\n",
       "      <th>day_care_type</th>\n",
       "      <th>day_care_baby_num</th>\n",
       "      <th>teacher_num</th>\n",
       "      <th>nursing_room_num</th>\n",
       "      <th>playground_num</th>\n",
       "      <th>CCTV_num</th>\n",
       "      <th>is_commuting_vehicle</th>\n",
       "      <th>reference_date</th>\n",
       "    </tr>\n",
       "  </thead>\n",
       "  <tbody>\n",
       "    <tr>\n",
       "      <th>0</th>\n",
       "      <td>서울특별시</td>\n",
       "      <td>서대문구</td>\n",
       "      <td>가람어린이집</td>\n",
       "      <td>국공립</td>\n",
       "      <td>70</td>\n",
       "      <td>11.0</td>\n",
       "      <td>5.0</td>\n",
       "      <td>1.0</td>\n",
       "      <td>7.0</td>\n",
       "      <td>N</td>\n",
       "      <td>2018-07-31</td>\n",
       "    </tr>\n",
       "  </tbody>\n",
       "</table>\n",
       "</div>"
      ],
      "text/plain": [
       "    city    gu day_care_name day_care_type  day_care_baby_num  teacher_num  \\\n",
       "0  서울특별시  서대문구        가람어린이집           국공립                 70         11.0   \n",
       "\n",
       "   nursing_room_num  playground_num  CCTV_num is_commuting_vehicle  \\\n",
       "0               5.0             1.0       7.0                    N   \n",
       "\n",
       "  reference_date  \n",
       "0     2018-07-31  "
      ]
     },
     "execution_count": 58,
     "metadata": {},
     "output_type": "execute_result"
    }
   ],
   "source": [
    "day_care_center_df = pd.read_csv('day_care_center.csv')\n",
    "day_care_center_df.head(1)"
   ]
  },
  {
   "cell_type": "code",
   "execution_count": 59,
   "metadata": {
    "ExecuteTime": {
     "end_time": "2021-12-06T03:15:24.057161Z",
     "start_time": "2021-12-06T03:15:24.049183Z"
    },
    "executionInfo": {
     "elapsed": 5,
     "status": "ok",
     "timestamp": 1638432476640,
     "user": {
      "displayName": "이구미",
      "photoUrl": "https://lh3.googleusercontent.com/a/default-user=s64",
      "userId": "08177866432571939523"
     },
     "user_tz": -540
    },
    "id": "HEIRGrCbJ73B"
   },
   "outputs": [],
   "source": [
    "# 불필요한 변수 제거\n",
    "day_care_center_df = day_care_center_df[['city', 'gu', 'day_care_type', 'day_care_baby_num']]"
   ]
  },
  {
   "cell_type": "code",
   "execution_count": 60,
   "metadata": {
    "ExecuteTime": {
     "end_time": "2021-12-06T03:15:25.074019Z",
     "start_time": "2021-12-06T03:15:25.051082Z"
    },
    "colab": {
     "base_uri": "https://localhost:8080/",
     "height": 115
    },
    "executionInfo": {
     "elapsed": 417,
     "status": "ok",
     "timestamp": 1638432479702,
     "user": {
      "displayName": "이구미",
      "photoUrl": "https://lh3.googleusercontent.com/a/default-user=s64",
      "userId": "08177866432571939523"
     },
     "user_tz": -540
    },
    "id": "maPlR9H-J-bx",
    "outputId": "54e7d796-b87a-4871-c690-f8322377b141"
   },
   "outputs": [
    {
     "data": {
      "text/html": [
       "<div>\n",
       "<style scoped>\n",
       "    .dataframe tbody tr th:only-of-type {\n",
       "        vertical-align: middle;\n",
       "    }\n",
       "\n",
       "    .dataframe tbody tr th {\n",
       "        vertical-align: top;\n",
       "    }\n",
       "\n",
       "    .dataframe thead th {\n",
       "        text-align: right;\n",
       "    }\n",
       "</style>\n",
       "<table border=\"1\" class=\"dataframe\">\n",
       "  <thead>\n",
       "    <tr style=\"text-align: right;\">\n",
       "      <th></th>\n",
       "      <th>city</th>\n",
       "      <th>gu</th>\n",
       "      <th>day_care_baby_num</th>\n",
       "      <th>어린이집유형_가정</th>\n",
       "      <th>어린이집유형_국공립</th>\n",
       "      <th>어린이집유형_민간</th>\n",
       "      <th>어린이집유형_법인·단체</th>\n",
       "      <th>어린이집유형_사회복지법인</th>\n",
       "      <th>어린이집유형_직장</th>\n",
       "      <th>어린이집유형_협동</th>\n",
       "    </tr>\n",
       "  </thead>\n",
       "  <tbody>\n",
       "    <tr>\n",
       "      <th>0</th>\n",
       "      <td>서울특별시</td>\n",
       "      <td>서대문구</td>\n",
       "      <td>70</td>\n",
       "      <td>0</td>\n",
       "      <td>1</td>\n",
       "      <td>0</td>\n",
       "      <td>0</td>\n",
       "      <td>0</td>\n",
       "      <td>0</td>\n",
       "      <td>0</td>\n",
       "    </tr>\n",
       "  </tbody>\n",
       "</table>\n",
       "</div>"
      ],
      "text/plain": [
       "    city    gu  day_care_baby_num  어린이집유형_가정  어린이집유형_국공립  어린이집유형_민간  \\\n",
       "0  서울특별시  서대문구                 70          0           1          0   \n",
       "\n",
       "   어린이집유형_법인·단체  어린이집유형_사회복지법인  어린이집유형_직장  어린이집유형_협동  \n",
       "0             0              0          0          0  "
      ]
     },
     "execution_count": 60,
     "metadata": {},
     "output_type": "execute_result"
    }
   ],
   "source": [
    "# dummy variable : 한번만 학습. OHE불필요. 병합할 것이므로 DROP_FIRST 하지 않음.\n",
    "dummy_day_care_type = pd.get_dummies(day_care_center_df['day_care_type'], drop_first = False)\n",
    "dummy_day_care_type = dummy_day_care_type.add_prefix(\"어린이집유형_\")\n",
    "\n",
    "day_care_center_df = pd.concat([day_care_center_df, dummy_day_care_type], axis = 1)\n",
    "day_care_center_df.drop('day_care_type', axis = 1, inplace = True)\n",
    "day_care_center_df.head(1)"
   ]
  },
  {
   "cell_type": "code",
   "execution_count": 61,
   "metadata": {
    "ExecuteTime": {
     "end_time": "2021-12-06T03:15:25.982401Z",
     "start_time": "2021-12-06T03:15:25.956139Z"
    },
    "colab": {
     "base_uri": "https://localhost:8080/",
     "height": 115
    },
    "executionInfo": {
     "elapsed": 490,
     "status": "ok",
     "timestamp": 1638432483117,
     "user": {
      "displayName": "이구미",
      "photoUrl": "https://lh3.googleusercontent.com/a/default-user=s64",
      "userId": "08177866432571939523"
     },
     "user_tz": -540
    },
    "id": "GPkSm4lTKAy-",
    "outputId": "35475c7d-0e16-4896-ece4-7f2ccb31d376"
   },
   "outputs": [
    {
     "data": {
      "text/html": [
       "<div>\n",
       "<style scoped>\n",
       "    .dataframe tbody tr th:only-of-type {\n",
       "        vertical-align: middle;\n",
       "    }\n",
       "\n",
       "    .dataframe tbody tr th {\n",
       "        vertical-align: top;\n",
       "    }\n",
       "\n",
       "    .dataframe thead th {\n",
       "        text-align: right;\n",
       "    }\n",
       "</style>\n",
       "<table border=\"1\" class=\"dataframe\">\n",
       "  <thead>\n",
       "    <tr style=\"text-align: right;\">\n",
       "      <th></th>\n",
       "      <th>city</th>\n",
       "      <th>gu</th>\n",
       "      <th>day_care_baby_num</th>\n",
       "      <th>어린이집유형_가정</th>\n",
       "      <th>어린이집유형_국공립</th>\n",
       "      <th>어린이집유형_민간</th>\n",
       "      <th>어린이집유형_법인·단체</th>\n",
       "      <th>어린이집유형_사회복지법인</th>\n",
       "      <th>어린이집유형_직장</th>\n",
       "      <th>어린이집유형_협동</th>\n",
       "    </tr>\n",
       "  </thead>\n",
       "  <tbody>\n",
       "    <tr>\n",
       "      <th>0</th>\n",
       "      <td>부산광역시</td>\n",
       "      <td>강서구</td>\n",
       "      <td>5312</td>\n",
       "      <td>71.0</td>\n",
       "      <td>6.0</td>\n",
       "      <td>35.0</td>\n",
       "      <td>0.0</td>\n",
       "      <td>5.0</td>\n",
       "      <td>5.0</td>\n",
       "      <td>1.0</td>\n",
       "    </tr>\n",
       "  </tbody>\n",
       "</table>\n",
       "</div>"
      ],
      "text/plain": [
       "    city   gu  day_care_baby_num  어린이집유형_가정  어린이집유형_국공립  어린이집유형_민간  \\\n",
       "0  부산광역시  강서구               5312       71.0         6.0       35.0   \n",
       "\n",
       "   어린이집유형_법인·단체  어린이집유형_사회복지법인  어린이집유형_직장  어린이집유형_협동  \n",
       "0           0.0            5.0        5.0        1.0  "
      ]
     },
     "execution_count": 61,
     "metadata": {},
     "output_type": "execute_result"
    }
   ],
   "source": [
    "aggregated_day_care_center_df = day_care_center_df.groupby(['city', 'gu'], as_index = False)[day_care_center_df.columns[2:]].sum()\n",
    "aggregated_day_care_center_df.head(1)"
   ]
  },
  {
   "cell_type": "code",
   "execution_count": 62,
   "metadata": {
    "ExecuteTime": {
     "end_time": "2021-12-06T03:15:27.464592Z",
     "start_time": "2021-12-06T03:15:26.900905Z"
    },
    "colab": {
     "base_uri": "https://localhost:8080/"
    },
    "executionInfo": {
     "elapsed": 376,
     "status": "ok",
     "timestamp": 1638432485294,
     "user": {
      "displayName": "이구미",
      "photoUrl": "https://lh3.googleusercontent.com/a/default-user=s64",
      "userId": "08177866432571939523"
     },
     "user_tz": -540
    },
    "id": "0SLopq29KDSI",
    "outputId": "a7d14409-96c8-4b82-de54-8bee1ea78ebd"
   },
   "outputs": [
    {
     "name": "stderr",
     "output_type": "stream",
     "text": [
      "C:\\Users\\user\\anaconda3\\lib\\site-packages\\pandas\\core\\frame.py:4462: SettingWithCopyWarning: \n",
      "A value is trying to be set on a copy of a slice from a DataFrame\n",
      "\n",
      "See the caveats in the documentation: https://pandas.pydata.org/pandas-docs/stable/user_guide/indexing.html#returning-a-view-versus-a-copy\n",
      "  return super().fillna(\n"
     ]
    }
   ],
   "source": [
    "# 어린이집 데이터 부착\n",
    "df = pd.merge(df, aggregated_day_care_center_df, left_on = ['city', '시군구'], right_on = ['city', 'gu'], how = 'left')\n",
    "df[aggregated_day_care_center_df.columns].fillna(0, inplace = True)\n",
    "df.drop('gu', axis = 1, inplace = True)"
   ]
  },
  {
   "cell_type": "code",
   "execution_count": 63,
   "metadata": {
    "ExecuteTime": {
     "end_time": "2021-12-06T03:15:29.061684Z",
     "start_time": "2021-12-06T03:15:28.959847Z"
    },
    "colab": {
     "base_uri": "https://localhost:8080/"
    },
    "executionInfo": {
     "elapsed": 490,
     "status": "ok",
     "timestamp": 1638432488099,
     "user": {
      "displayName": "이구미",
      "photoUrl": "https://lh3.googleusercontent.com/a/default-user=s64",
      "userId": "08177866432571939523"
     },
     "user_tz": -540
    },
    "id": "729fINm0KG_L",
    "outputId": "bd36fce3-ce89-49f9-f7d7-ce8ecc613ca2"
   },
   "outputs": [
    {
     "name": "stdout",
     "output_type": "stream",
     "text": [
      "<class 'pandas.core.frame.DataFrame'>\n",
      "Int64Index: 240845 entries, 0 to 240844\n",
      "Data columns (total 35 columns):\n",
      " #   Column                       Non-Null Count   Dtype  \n",
      "---  ------                       --------------   -----  \n",
      " 0   apt                          240845 non-null  object \n",
      " 1   exclusive_use_area           240845 non-null  float64\n",
      " 2   transaction_date             240845 non-null  float64\n",
      " 3   transaction_real_price       240845 non-null  float64\n",
      " 4   apt_nm                       240845 non-null  object \n",
      " 5   top10_apt                    240845 non-null  int64  \n",
      " 6   city                         240845 non-null  object \n",
      " 7   시군구                          240845 non-null  object \n",
      " 8   dong                         240845 non-null  object \n",
      " 9   age                          240845 non-null  float64\n",
      " 10  transaction_year             240845 non-null  int32  \n",
      " 11  transaction_month            240845 non-null  int32  \n",
      " 12  floor_level                  240845 non-null  object \n",
      " 13  구별_전체_평균_시세                  240845 non-null  float64\n",
      " 14  구별_작년_평균_시세                  159257 non-null  float64\n",
      " 15  구별_작년_거래량                    240845 non-null  float64\n",
      " 16  stud_per_elementary          240845 non-null  int64  \n",
      " 17  stud_per_middle              240845 non-null  int64  \n",
      " 18  stud_per_high                240845 non-null  int64  \n",
      " 19  인구당합계쇼핑수                     240845 non-null  float64\n",
      " 20  인구당병원수                       240845 non-null  float64\n",
      " 21  공원수                          240845 non-null  float64\n",
      " 22  park_exercise_facility       167812 non-null  float64\n",
      " 23  park_entertainment_facility  167812 non-null  float64\n",
      " 24  park_benefit_facility        167812 non-null  float64\n",
      " 25  park_cultural_facitiy        167812 non-null  float64\n",
      " 26  park_facility_other          167812 non-null  float64\n",
      " 27  day_care_baby_num            205262 non-null  float64\n",
      " 28  어린이집유형_가정                    205262 non-null  float64\n",
      " 29  어린이집유형_국공립                   205262 non-null  float64\n",
      " 30  어린이집유형_민간                    205262 non-null  float64\n",
      " 31  어린이집유형_법인·단체                 205262 non-null  float64\n",
      " 32  어린이집유형_사회복지법인                205262 non-null  float64\n",
      " 33  어린이집유형_직장                    205262 non-null  float64\n",
      " 34  어린이집유형_협동                    205262 non-null  float64\n",
      "dtypes: float64(23), int32(2), int64(4), object(6)\n",
      "memory usage: 64.3+ MB\n"
     ]
    }
   ],
   "source": [
    "df.info()"
   ]
  },
  {
   "cell_type": "code",
   "execution_count": 64,
   "metadata": {
    "ExecuteTime": {
     "end_time": "2021-12-06T03:15:30.423568Z",
     "start_time": "2021-12-06T03:15:30.395643Z"
    },
    "colab": {
     "base_uri": "https://localhost:8080/",
     "height": 344
    },
    "executionInfo": {
     "elapsed": 528,
     "status": "ok",
     "timestamp": 1638429740148,
     "user": {
      "displayName": "이구미",
      "photoUrl": "https://lh3.googleusercontent.com/a/default-user=s64",
      "userId": "08177866432571939523"
     },
     "user_tz": -540
    },
    "id": "MGwwTdasBXcl",
    "outputId": "46aab477-ada1-491b-c3f1-eef345bf872f"
   },
   "outputs": [
    {
     "data": {
      "text/html": [
       "<div>\n",
       "<style scoped>\n",
       "    .dataframe tbody tr th:only-of-type {\n",
       "        vertical-align: middle;\n",
       "    }\n",
       "\n",
       "    .dataframe tbody tr th {\n",
       "        vertical-align: top;\n",
       "    }\n",
       "\n",
       "    .dataframe thead th {\n",
       "        text-align: right;\n",
       "    }\n",
       "</style>\n",
       "<table border=\"1\" class=\"dataframe\">\n",
       "  <thead>\n",
       "    <tr style=\"text-align: right;\">\n",
       "      <th></th>\n",
       "      <th>apt</th>\n",
       "      <th>exclusive_use_area</th>\n",
       "      <th>transaction_date</th>\n",
       "      <th>transaction_real_price</th>\n",
       "      <th>apt_nm</th>\n",
       "      <th>top10_apt</th>\n",
       "      <th>city</th>\n",
       "      <th>시군구</th>\n",
       "      <th>dong</th>\n",
       "      <th>age</th>\n",
       "      <th>transaction_year</th>\n",
       "      <th>transaction_month</th>\n",
       "      <th>floor_level</th>\n",
       "      <th>구별_전체_평균_시세</th>\n",
       "      <th>구별_작년_평균_시세</th>\n",
       "      <th>구별_작년_거래량</th>\n",
       "      <th>stud_per_elementary</th>\n",
       "      <th>stud_per_middle</th>\n",
       "      <th>stud_per_high</th>\n",
       "      <th>인구당합계쇼핑수</th>\n",
       "      <th>인구당병원수</th>\n",
       "      <th>공원수</th>\n",
       "      <th>park_exercise_facility</th>\n",
       "      <th>park_entertainment_facility</th>\n",
       "      <th>park_benefit_facility</th>\n",
       "      <th>park_cultural_facitiy</th>\n",
       "      <th>park_facility_other</th>\n",
       "      <th>day_care_baby_num</th>\n",
       "      <th>어린이집유형_가정</th>\n",
       "      <th>어린이집유형_국공립</th>\n",
       "      <th>어린이집유형_민간</th>\n",
       "      <th>어린이집유형_법인·단체</th>\n",
       "      <th>어린이집유형_사회복지법인</th>\n",
       "      <th>어린이집유형_직장</th>\n",
       "      <th>어린이집유형_협동</th>\n",
       "    </tr>\n",
       "  </thead>\n",
       "  <tbody>\n",
       "    <tr>\n",
       "      <th>0</th>\n",
       "      <td>개포6차우성아파트1동~8동</td>\n",
       "      <td>79.97</td>\n",
       "      <td>3.0</td>\n",
       "      <td>130000.0</td>\n",
       "      <td>개포6차우성아파트1동~8동</td>\n",
       "      <td>0</td>\n",
       "      <td>서울특별시</td>\n",
       "      <td>강남구</td>\n",
       "      <td>개포동</td>\n",
       "      <td>34.0</td>\n",
       "      <td>2018</td>\n",
       "      <td>1</td>\n",
       "      <td>low</td>\n",
       "      <td>172403.047095</td>\n",
       "      <td>NaN</td>\n",
       "      <td>0.0</td>\n",
       "      <td>785</td>\n",
       "      <td>650</td>\n",
       "      <td>811</td>\n",
       "      <td>1.85651</td>\n",
       "      <td>12.995572</td>\n",
       "      <td>16.0</td>\n",
       "      <td>0.0</td>\n",
       "      <td>0.0</td>\n",
       "      <td>0.0</td>\n",
       "      <td>0.0</td>\n",
       "      <td>0.0</td>\n",
       "      <td>11605.0</td>\n",
       "      <td>68.0</td>\n",
       "      <td>58.0</td>\n",
       "      <td>68.0</td>\n",
       "      <td>0.0</td>\n",
       "      <td>0.0</td>\n",
       "      <td>28.0</td>\n",
       "      <td>1.0</td>\n",
       "    </tr>\n",
       "  </tbody>\n",
       "</table>\n",
       "</div>"
      ],
      "text/plain": [
       "              apt  exclusive_use_area  transaction_date  \\\n",
       "0  개포6차우성아파트1동~8동               79.97               3.0   \n",
       "\n",
       "   transaction_real_price          apt_nm  top10_apt   city  시군구 dong   age  \\\n",
       "0                130000.0  개포6차우성아파트1동~8동          0  서울특별시  강남구  개포동  34.0   \n",
       "\n",
       "   transaction_year  transaction_month floor_level    구별_전체_평균_시세  \\\n",
       "0              2018                  1         low  172403.047095   \n",
       "\n",
       "   구별_작년_평균_시세  구별_작년_거래량  stud_per_elementary  stud_per_middle  \\\n",
       "0          NaN        0.0                  785              650   \n",
       "\n",
       "   stud_per_high  인구당합계쇼핑수     인구당병원수   공원수  park_exercise_facility  \\\n",
       "0            811   1.85651  12.995572  16.0                     0.0   \n",
       "\n",
       "   park_entertainment_facility  park_benefit_facility  park_cultural_facitiy  \\\n",
       "0                          0.0                    0.0                    0.0   \n",
       "\n",
       "   park_facility_other  day_care_baby_num  어린이집유형_가정  어린이집유형_국공립  어린이집유형_민간  \\\n",
       "0                  0.0            11605.0       68.0        58.0       68.0   \n",
       "\n",
       "   어린이집유형_법인·단체  어린이집유형_사회복지법인  어린이집유형_직장  어린이집유형_협동  \n",
       "0           0.0            0.0       28.0        1.0  "
      ]
     },
     "execution_count": 64,
     "metadata": {},
     "output_type": "execute_result"
    }
   ],
   "source": [
    "df.head(1)"
   ]
  },
  {
   "cell_type": "code",
   "execution_count": 65,
   "metadata": {
    "ExecuteTime": {
     "end_time": "2021-12-06T03:15:31.835272Z",
     "start_time": "2021-12-06T03:15:31.802363Z"
    },
    "executionInfo": {
     "elapsed": 500,
     "status": "ok",
     "timestamp": 1638432501534,
     "user": {
      "displayName": "이구미",
      "photoUrl": "https://lh3.googleusercontent.com/a/default-user=s64",
      "userId": "08177866432571939523"
     },
     "user_tz": -540
    },
    "id": "0GQmwAlO-Bv7"
   },
   "outputs": [],
   "source": [
    "del df['apt_nm']"
   ]
  },
  {
   "cell_type": "code",
   "execution_count": 66,
   "metadata": {
    "ExecuteTime": {
     "end_time": "2021-12-06T03:15:33.228921Z",
     "start_time": "2021-12-06T03:15:33.130132Z"
    },
    "colab": {
     "base_uri": "https://localhost:8080/"
    },
    "executionInfo": {
     "elapsed": 347,
     "status": "ok",
     "timestamp": 1638432506198,
     "user": {
      "displayName": "이구미",
      "photoUrl": "https://lh3.googleusercontent.com/a/default-user=s64",
      "userId": "08177866432571939523"
     },
     "user_tz": -540
    },
    "id": "RZ3627kd-Bv8",
    "outputId": "0746b574-294a-44b6-c088-9b56191aaf21"
   },
   "outputs": [
    {
     "name": "stdout",
     "output_type": "stream",
     "text": [
      "<class 'pandas.core.frame.DataFrame'>\n",
      "Int64Index: 240845 entries, 0 to 240844\n",
      "Data columns (total 34 columns):\n",
      " #   Column                       Non-Null Count   Dtype  \n",
      "---  ------                       --------------   -----  \n",
      " 0   apt                          240845 non-null  object \n",
      " 1   exclusive_use_area           240845 non-null  float64\n",
      " 2   transaction_date             240845 non-null  float64\n",
      " 3   transaction_real_price       240845 non-null  float64\n",
      " 4   top10_apt                    240845 non-null  int64  \n",
      " 5   city                         240845 non-null  object \n",
      " 6   시군구                          240845 non-null  object \n",
      " 7   dong                         240845 non-null  object \n",
      " 8   age                          240845 non-null  float64\n",
      " 9   transaction_year             240845 non-null  int32  \n",
      " 10  transaction_month            240845 non-null  int32  \n",
      " 11  floor_level                  240845 non-null  object \n",
      " 12  구별_전체_평균_시세                  240845 non-null  float64\n",
      " 13  구별_작년_평균_시세                  159257 non-null  float64\n",
      " 14  구별_작년_거래량                    240845 non-null  float64\n",
      " 15  stud_per_elementary          240845 non-null  int64  \n",
      " 16  stud_per_middle              240845 non-null  int64  \n",
      " 17  stud_per_high                240845 non-null  int64  \n",
      " 18  인구당합계쇼핑수                     240845 non-null  float64\n",
      " 19  인구당병원수                       240845 non-null  float64\n",
      " 20  공원수                          240845 non-null  float64\n",
      " 21  park_exercise_facility       167812 non-null  float64\n",
      " 22  park_entertainment_facility  167812 non-null  float64\n",
      " 23  park_benefit_facility        167812 non-null  float64\n",
      " 24  park_cultural_facitiy        167812 non-null  float64\n",
      " 25  park_facility_other          167812 non-null  float64\n",
      " 26  day_care_baby_num            205262 non-null  float64\n",
      " 27  어린이집유형_가정                    205262 non-null  float64\n",
      " 28  어린이집유형_국공립                   205262 non-null  float64\n",
      " 29  어린이집유형_민간                    205262 non-null  float64\n",
      " 30  어린이집유형_법인·단체                 205262 non-null  float64\n",
      " 31  어린이집유형_사회복지법인                205262 non-null  float64\n",
      " 32  어린이집유형_직장                    205262 non-null  float64\n",
      " 33  어린이집유형_협동                    205262 non-null  float64\n",
      "dtypes: float64(23), int32(2), int64(4), object(5)\n",
      "memory usage: 62.5+ MB\n"
     ]
    }
   ],
   "source": [
    "df.info()"
   ]
  },
  {
   "cell_type": "code",
   "execution_count": 67,
   "metadata": {
    "ExecuteTime": {
     "end_time": "2021-12-06T03:15:35.755139Z",
     "start_time": "2021-12-06T03:15:35.736101Z"
    },
    "colab": {
     "base_uri": "https://localhost:8080/"
    },
    "executionInfo": {
     "elapsed": 368,
     "status": "ok",
     "timestamp": 1638432157310,
     "user": {
      "displayName": "이구미",
      "photoUrl": "https://lh3.googleusercontent.com/a/default-user=s64",
      "userId": "08177866432571939523"
     },
     "user_tz": -540
    },
    "id": "J-7L-0JZ-Bv8",
    "outputId": "e1ab2d5d-5d74-49ea-bd49-fec8da76a802",
    "scrolled": true
   },
   "outputs": [
    {
     "data": {
      "text/plain": [
       "Index(['apt', 'exclusive_use_area', 'transaction_date',\n",
       "       'transaction_real_price', 'top10_apt', 'city', '시군구', 'dong', 'age',\n",
       "       'transaction_year', 'transaction_month', 'floor_level', '구별_전체_평균_시세',\n",
       "       '구별_작년_평균_시세', '구별_작년_거래량', 'stud_per_elementary', 'stud_per_middle',\n",
       "       'stud_per_high', '인구당합계쇼핑수', '인구당병원수', '공원수', 'park_exercise_facility',\n",
       "       'park_entertainment_facility', 'park_benefit_facility',\n",
       "       'park_cultural_facitiy', 'park_facility_other', 'day_care_baby_num',\n",
       "       '어린이집유형_가정', '어린이집유형_국공립', '어린이집유형_민간', '어린이집유형_법인·단체', '어린이집유형_사회복지법인',\n",
       "       '어린이집유형_직장', '어린이집유형_협동'],\n",
       "      dtype='object')"
      ]
     },
     "execution_count": 67,
     "metadata": {},
     "output_type": "execute_result"
    }
   ],
   "source": [
    "df.columns"
   ]
  },
  {
   "cell_type": "markdown",
   "metadata": {},
   "source": [
    "- 산책로 데이터 부착"
   ]
  },
  {
   "cell_type": "code",
   "execution_count": 68,
   "metadata": {
    "ExecuteTime": {
     "end_time": "2021-12-06T03:15:38.606738Z",
     "start_time": "2021-12-06T03:15:38.595768Z"
    }
   },
   "outputs": [],
   "source": [
    "course=pd.read_csv(r'C:\\Users\\user\\Desktop\\SSAC\\price_project\\data\\walk_course.csv')"
   ]
  },
  {
   "cell_type": "code",
   "execution_count": 69,
   "metadata": {
    "ExecuteTime": {
     "end_time": "2021-12-06T03:15:40.248661Z",
     "start_time": "2021-12-06T03:15:40.226719Z"
    }
   },
   "outputs": [
    {
     "data": {
      "text/html": [
       "<div>\n",
       "<style scoped>\n",
       "    .dataframe tbody tr th:only-of-type {\n",
       "        vertical-align: middle;\n",
       "    }\n",
       "\n",
       "    .dataframe tbody tr th {\n",
       "        vertical-align: top;\n",
       "    }\n",
       "\n",
       "    .dataframe thead th {\n",
       "        text-align: right;\n",
       "    }\n",
       "</style>\n",
       "<table border=\"1\" class=\"dataframe\">\n",
       "  <thead>\n",
       "    <tr style=\"text-align: right;\">\n",
       "      <th></th>\n",
       "      <th>Unnamed: 0</th>\n",
       "      <th>gu</th>\n",
       "      <th>course_count</th>\n",
       "      <th>course_mean</th>\n",
       "    </tr>\n",
       "  </thead>\n",
       "  <tbody>\n",
       "    <tr>\n",
       "      <th>0</th>\n",
       "      <td>0</td>\n",
       "      <td>강남구</td>\n",
       "      <td>185</td>\n",
       "      <td>1.108108</td>\n",
       "    </tr>\n",
       "    <tr>\n",
       "      <th>1</th>\n",
       "      <td>1</td>\n",
       "      <td>강동구</td>\n",
       "      <td>98</td>\n",
       "      <td>1.653061</td>\n",
       "    </tr>\n",
       "    <tr>\n",
       "      <th>2</th>\n",
       "      <td>2</td>\n",
       "      <td>강북구</td>\n",
       "      <td>41</td>\n",
       "      <td>2.048780</td>\n",
       "    </tr>\n",
       "    <tr>\n",
       "      <th>3</th>\n",
       "      <td>3</td>\n",
       "      <td>강서구</td>\n",
       "      <td>167</td>\n",
       "      <td>0.568862</td>\n",
       "    </tr>\n",
       "    <tr>\n",
       "      <th>4</th>\n",
       "      <td>4</td>\n",
       "      <td>관악구</td>\n",
       "      <td>68</td>\n",
       "      <td>2.235294</td>\n",
       "    </tr>\n",
       "  </tbody>\n",
       "</table>\n",
       "</div>"
      ],
      "text/plain": [
       "   Unnamed: 0   gu  course_count  course_mean\n",
       "0           0  강남구           185     1.108108\n",
       "1           1  강동구            98     1.653061\n",
       "2           2  강북구            41     2.048780\n",
       "3           3  강서구           167     0.568862\n",
       "4           4  관악구            68     2.235294"
      ]
     },
     "execution_count": 69,
     "metadata": {},
     "output_type": "execute_result"
    }
   ],
   "source": [
    "course.head()"
   ]
  },
  {
   "cell_type": "code",
   "execution_count": 70,
   "metadata": {
    "ExecuteTime": {
     "end_time": "2021-12-06T03:15:41.232911Z",
     "start_time": "2021-12-06T03:15:41.218712Z"
    },
    "scrolled": true
   },
   "outputs": [
    {
     "data": {
      "text/html": [
       "<div>\n",
       "<style scoped>\n",
       "    .dataframe tbody tr th:only-of-type {\n",
       "        vertical-align: middle;\n",
       "    }\n",
       "\n",
       "    .dataframe tbody tr th {\n",
       "        vertical-align: top;\n",
       "    }\n",
       "\n",
       "    .dataframe thead th {\n",
       "        text-align: right;\n",
       "    }\n",
       "</style>\n",
       "<table border=\"1\" class=\"dataframe\">\n",
       "  <thead>\n",
       "    <tr style=\"text-align: right;\">\n",
       "      <th></th>\n",
       "      <th>gu</th>\n",
       "      <th>course_count</th>\n",
       "      <th>course_mean</th>\n",
       "    </tr>\n",
       "  </thead>\n",
       "  <tbody>\n",
       "    <tr>\n",
       "      <th>0</th>\n",
       "      <td>강남구</td>\n",
       "      <td>185</td>\n",
       "      <td>1.108108</td>\n",
       "    </tr>\n",
       "    <tr>\n",
       "      <th>1</th>\n",
       "      <td>강동구</td>\n",
       "      <td>98</td>\n",
       "      <td>1.653061</td>\n",
       "    </tr>\n",
       "    <tr>\n",
       "      <th>2</th>\n",
       "      <td>강북구</td>\n",
       "      <td>41</td>\n",
       "      <td>2.048780</td>\n",
       "    </tr>\n",
       "    <tr>\n",
       "      <th>3</th>\n",
       "      <td>강서구</td>\n",
       "      <td>167</td>\n",
       "      <td>0.568862</td>\n",
       "    </tr>\n",
       "    <tr>\n",
       "      <th>4</th>\n",
       "      <td>관악구</td>\n",
       "      <td>68</td>\n",
       "      <td>2.235294</td>\n",
       "    </tr>\n",
       "  </tbody>\n",
       "</table>\n",
       "</div>"
      ],
      "text/plain": [
       "    gu  course_count  course_mean\n",
       "0  강남구           185     1.108108\n",
       "1  강동구            98     1.653061\n",
       "2  강북구            41     2.048780\n",
       "3  강서구           167     0.568862\n",
       "4  관악구            68     2.235294"
      ]
     },
     "execution_count": 70,
     "metadata": {},
     "output_type": "execute_result"
    }
   ],
   "source": [
    "course=course.drop('Unnamed: 0', axis=1)\n",
    "course.head()"
   ]
  },
  {
   "cell_type": "code",
   "execution_count": 71,
   "metadata": {
    "ExecuteTime": {
     "end_time": "2021-12-06T03:15:42.646911Z",
     "start_time": "2021-12-06T03:15:42.602963Z"
    }
   },
   "outputs": [
    {
     "data": {
      "text/html": [
       "<div>\n",
       "<style scoped>\n",
       "    .dataframe tbody tr th:only-of-type {\n",
       "        vertical-align: middle;\n",
       "    }\n",
       "\n",
       "    .dataframe tbody tr th {\n",
       "        vertical-align: top;\n",
       "    }\n",
       "\n",
       "    .dataframe thead th {\n",
       "        text-align: right;\n",
       "    }\n",
       "</style>\n",
       "<table border=\"1\" class=\"dataframe\">\n",
       "  <thead>\n",
       "    <tr style=\"text-align: right;\">\n",
       "      <th></th>\n",
       "      <th>apt</th>\n",
       "      <th>exclusive_use_area</th>\n",
       "      <th>transaction_date</th>\n",
       "      <th>transaction_real_price</th>\n",
       "      <th>top10_apt</th>\n",
       "      <th>city</th>\n",
       "      <th>시군구</th>\n",
       "      <th>dong</th>\n",
       "      <th>age</th>\n",
       "      <th>transaction_year</th>\n",
       "      <th>transaction_month</th>\n",
       "      <th>floor_level</th>\n",
       "      <th>구별_전체_평균_시세</th>\n",
       "      <th>구별_작년_평균_시세</th>\n",
       "      <th>구별_작년_거래량</th>\n",
       "      <th>stud_per_elementary</th>\n",
       "      <th>stud_per_middle</th>\n",
       "      <th>stud_per_high</th>\n",
       "      <th>인구당합계쇼핑수</th>\n",
       "      <th>인구당병원수</th>\n",
       "      <th>공원수</th>\n",
       "      <th>park_exercise_facility</th>\n",
       "      <th>park_entertainment_facility</th>\n",
       "      <th>park_benefit_facility</th>\n",
       "      <th>park_cultural_facitiy</th>\n",
       "      <th>park_facility_other</th>\n",
       "      <th>day_care_baby_num</th>\n",
       "      <th>어린이집유형_가정</th>\n",
       "      <th>어린이집유형_국공립</th>\n",
       "      <th>어린이집유형_민간</th>\n",
       "      <th>어린이집유형_법인·단체</th>\n",
       "      <th>어린이집유형_사회복지법인</th>\n",
       "      <th>어린이집유형_직장</th>\n",
       "      <th>어린이집유형_협동</th>\n",
       "    </tr>\n",
       "  </thead>\n",
       "  <tbody>\n",
       "    <tr>\n",
       "      <th>0</th>\n",
       "      <td>개포6차우성아파트1동~8동</td>\n",
       "      <td>79.97</td>\n",
       "      <td>3.0</td>\n",
       "      <td>130000.0</td>\n",
       "      <td>0</td>\n",
       "      <td>서울특별시</td>\n",
       "      <td>강남구</td>\n",
       "      <td>개포동</td>\n",
       "      <td>34.0</td>\n",
       "      <td>2018</td>\n",
       "      <td>1</td>\n",
       "      <td>low</td>\n",
       "      <td>172403.047095</td>\n",
       "      <td>NaN</td>\n",
       "      <td>0.0</td>\n",
       "      <td>785</td>\n",
       "      <td>650</td>\n",
       "      <td>811</td>\n",
       "      <td>1.85651</td>\n",
       "      <td>12.995572</td>\n",
       "      <td>16.0</td>\n",
       "      <td>0.0</td>\n",
       "      <td>0.0</td>\n",
       "      <td>0.0</td>\n",
       "      <td>0.0</td>\n",
       "      <td>0.0</td>\n",
       "      <td>11605.0</td>\n",
       "      <td>68.0</td>\n",
       "      <td>58.0</td>\n",
       "      <td>68.0</td>\n",
       "      <td>0.0</td>\n",
       "      <td>0.0</td>\n",
       "      <td>28.0</td>\n",
       "      <td>1.0</td>\n",
       "    </tr>\n",
       "    <tr>\n",
       "      <th>1</th>\n",
       "      <td>개포6차우성아파트1동~8동</td>\n",
       "      <td>79.97</td>\n",
       "      <td>8.0</td>\n",
       "      <td>117000.0</td>\n",
       "      <td>0</td>\n",
       "      <td>서울특별시</td>\n",
       "      <td>강남구</td>\n",
       "      <td>개포동</td>\n",
       "      <td>34.0</td>\n",
       "      <td>2018</td>\n",
       "      <td>1</td>\n",
       "      <td>low</td>\n",
       "      <td>172403.047095</td>\n",
       "      <td>NaN</td>\n",
       "      <td>0.0</td>\n",
       "      <td>785</td>\n",
       "      <td>650</td>\n",
       "      <td>811</td>\n",
       "      <td>1.85651</td>\n",
       "      <td>12.995572</td>\n",
       "      <td>16.0</td>\n",
       "      <td>0.0</td>\n",
       "      <td>0.0</td>\n",
       "      <td>0.0</td>\n",
       "      <td>0.0</td>\n",
       "      <td>0.0</td>\n",
       "      <td>11605.0</td>\n",
       "      <td>68.0</td>\n",
       "      <td>58.0</td>\n",
       "      <td>68.0</td>\n",
       "      <td>0.0</td>\n",
       "      <td>0.0</td>\n",
       "      <td>28.0</td>\n",
       "      <td>1.0</td>\n",
       "    </tr>\n",
       "    <tr>\n",
       "      <th>2</th>\n",
       "      <td>개포6차우성아파트1동~8동</td>\n",
       "      <td>79.97</td>\n",
       "      <td>11.0</td>\n",
       "      <td>130000.0</td>\n",
       "      <td>0</td>\n",
       "      <td>서울특별시</td>\n",
       "      <td>강남구</td>\n",
       "      <td>개포동</td>\n",
       "      <td>34.0</td>\n",
       "      <td>2018</td>\n",
       "      <td>1</td>\n",
       "      <td>low</td>\n",
       "      <td>172403.047095</td>\n",
       "      <td>NaN</td>\n",
       "      <td>0.0</td>\n",
       "      <td>785</td>\n",
       "      <td>650</td>\n",
       "      <td>811</td>\n",
       "      <td>1.85651</td>\n",
       "      <td>12.995572</td>\n",
       "      <td>16.0</td>\n",
       "      <td>0.0</td>\n",
       "      <td>0.0</td>\n",
       "      <td>0.0</td>\n",
       "      <td>0.0</td>\n",
       "      <td>0.0</td>\n",
       "      <td>11605.0</td>\n",
       "      <td>68.0</td>\n",
       "      <td>58.0</td>\n",
       "      <td>68.0</td>\n",
       "      <td>0.0</td>\n",
       "      <td>0.0</td>\n",
       "      <td>28.0</td>\n",
       "      <td>1.0</td>\n",
       "    </tr>\n",
       "    <tr>\n",
       "      <th>3</th>\n",
       "      <td>개포6차우성아파트1동~8동</td>\n",
       "      <td>79.97</td>\n",
       "      <td>19.0</td>\n",
       "      <td>139500.0</td>\n",
       "      <td>0</td>\n",
       "      <td>서울특별시</td>\n",
       "      <td>강남구</td>\n",
       "      <td>개포동</td>\n",
       "      <td>34.0</td>\n",
       "      <td>2018</td>\n",
       "      <td>3</td>\n",
       "      <td>low</td>\n",
       "      <td>172403.047095</td>\n",
       "      <td>NaN</td>\n",
       "      <td>0.0</td>\n",
       "      <td>785</td>\n",
       "      <td>650</td>\n",
       "      <td>811</td>\n",
       "      <td>1.85651</td>\n",
       "      <td>12.995572</td>\n",
       "      <td>16.0</td>\n",
       "      <td>0.0</td>\n",
       "      <td>0.0</td>\n",
       "      <td>0.0</td>\n",
       "      <td>0.0</td>\n",
       "      <td>0.0</td>\n",
       "      <td>11605.0</td>\n",
       "      <td>68.0</td>\n",
       "      <td>58.0</td>\n",
       "      <td>68.0</td>\n",
       "      <td>0.0</td>\n",
       "      <td>0.0</td>\n",
       "      <td>28.0</td>\n",
       "      <td>1.0</td>\n",
       "    </tr>\n",
       "    <tr>\n",
       "      <th>4</th>\n",
       "      <td>개포6차우성아파트1동~8동</td>\n",
       "      <td>54.98</td>\n",
       "      <td>5.0</td>\n",
       "      <td>107500.0</td>\n",
       "      <td>0</td>\n",
       "      <td>서울특별시</td>\n",
       "      <td>강남구</td>\n",
       "      <td>개포동</td>\n",
       "      <td>34.0</td>\n",
       "      <td>2018</td>\n",
       "      <td>4</td>\n",
       "      <td>low</td>\n",
       "      <td>172403.047095</td>\n",
       "      <td>NaN</td>\n",
       "      <td>0.0</td>\n",
       "      <td>785</td>\n",
       "      <td>650</td>\n",
       "      <td>811</td>\n",
       "      <td>1.85651</td>\n",
       "      <td>12.995572</td>\n",
       "      <td>16.0</td>\n",
       "      <td>0.0</td>\n",
       "      <td>0.0</td>\n",
       "      <td>0.0</td>\n",
       "      <td>0.0</td>\n",
       "      <td>0.0</td>\n",
       "      <td>11605.0</td>\n",
       "      <td>68.0</td>\n",
       "      <td>58.0</td>\n",
       "      <td>68.0</td>\n",
       "      <td>0.0</td>\n",
       "      <td>0.0</td>\n",
       "      <td>28.0</td>\n",
       "      <td>1.0</td>\n",
       "    </tr>\n",
       "  </tbody>\n",
       "</table>\n",
       "</div>"
      ],
      "text/plain": [
       "              apt  exclusive_use_area  transaction_date  \\\n",
       "0  개포6차우성아파트1동~8동               79.97               3.0   \n",
       "1  개포6차우성아파트1동~8동               79.97               8.0   \n",
       "2  개포6차우성아파트1동~8동               79.97              11.0   \n",
       "3  개포6차우성아파트1동~8동               79.97              19.0   \n",
       "4  개포6차우성아파트1동~8동               54.98               5.0   \n",
       "\n",
       "   transaction_real_price  top10_apt   city  시군구 dong   age  transaction_year  \\\n",
       "0                130000.0          0  서울특별시  강남구  개포동  34.0              2018   \n",
       "1                117000.0          0  서울특별시  강남구  개포동  34.0              2018   \n",
       "2                130000.0          0  서울특별시  강남구  개포동  34.0              2018   \n",
       "3                139500.0          0  서울특별시  강남구  개포동  34.0              2018   \n",
       "4                107500.0          0  서울특별시  강남구  개포동  34.0              2018   \n",
       "\n",
       "   transaction_month floor_level    구별_전체_평균_시세  구별_작년_평균_시세  구별_작년_거래량  \\\n",
       "0                  1         low  172403.047095          NaN        0.0   \n",
       "1                  1         low  172403.047095          NaN        0.0   \n",
       "2                  1         low  172403.047095          NaN        0.0   \n",
       "3                  3         low  172403.047095          NaN        0.0   \n",
       "4                  4         low  172403.047095          NaN        0.0   \n",
       "\n",
       "   stud_per_elementary  stud_per_middle  stud_per_high  인구당합계쇼핑수     인구당병원수  \\\n",
       "0                  785              650            811   1.85651  12.995572   \n",
       "1                  785              650            811   1.85651  12.995572   \n",
       "2                  785              650            811   1.85651  12.995572   \n",
       "3                  785              650            811   1.85651  12.995572   \n",
       "4                  785              650            811   1.85651  12.995572   \n",
       "\n",
       "    공원수  park_exercise_facility  park_entertainment_facility  \\\n",
       "0  16.0                     0.0                          0.0   \n",
       "1  16.0                     0.0                          0.0   \n",
       "2  16.0                     0.0                          0.0   \n",
       "3  16.0                     0.0                          0.0   \n",
       "4  16.0                     0.0                          0.0   \n",
       "\n",
       "   park_benefit_facility  park_cultural_facitiy  park_facility_other  \\\n",
       "0                    0.0                    0.0                  0.0   \n",
       "1                    0.0                    0.0                  0.0   \n",
       "2                    0.0                    0.0                  0.0   \n",
       "3                    0.0                    0.0                  0.0   \n",
       "4                    0.0                    0.0                  0.0   \n",
       "\n",
       "   day_care_baby_num  어린이집유형_가정  어린이집유형_국공립  어린이집유형_민간  어린이집유형_법인·단체  \\\n",
       "0            11605.0       68.0        58.0       68.0           0.0   \n",
       "1            11605.0       68.0        58.0       68.0           0.0   \n",
       "2            11605.0       68.0        58.0       68.0           0.0   \n",
       "3            11605.0       68.0        58.0       68.0           0.0   \n",
       "4            11605.0       68.0        58.0       68.0           0.0   \n",
       "\n",
       "   어린이집유형_사회복지법인  어린이집유형_직장  어린이집유형_협동  \n",
       "0            0.0       28.0        1.0  \n",
       "1            0.0       28.0        1.0  \n",
       "2            0.0       28.0        1.0  \n",
       "3            0.0       28.0        1.0  \n",
       "4            0.0       28.0        1.0  "
      ]
     },
     "execution_count": 71,
     "metadata": {},
     "output_type": "execute_result"
    }
   ],
   "source": [
    "df.head()"
   ]
  },
  {
   "cell_type": "code",
   "execution_count": 72,
   "metadata": {
    "ExecuteTime": {
     "end_time": "2021-12-06T03:15:44.315027Z",
     "start_time": "2021-12-06T03:15:43.852292Z"
    }
   },
   "outputs": [],
   "source": [
    "df=pd.merge(df, course, left_on='시군구',right_on='gu', how='left')\n",
    "df=df.drop('course_count', axis=1)"
   ]
  },
  {
   "cell_type": "code",
   "execution_count": 73,
   "metadata": {
    "ExecuteTime": {
     "end_time": "2021-12-06T03:15:45.146734Z",
     "start_time": "2021-12-06T03:15:45.127786Z"
    }
   },
   "outputs": [
    {
     "data": {
      "text/plain": [
       "240845"
      ]
     },
     "execution_count": 73,
     "metadata": {},
     "output_type": "execute_result"
    }
   ],
   "source": [
    "len(df)"
   ]
  },
  {
   "cell_type": "code",
   "execution_count": 74,
   "metadata": {
    "ExecuteTime": {
     "end_time": "2021-12-06T03:15:46.210717Z",
     "start_time": "2021-12-06T03:15:46.110986Z"
    }
   },
   "outputs": [
    {
     "data": {
      "text/plain": [
       "apt                                0\n",
       "exclusive_use_area                 0\n",
       "transaction_date                   0\n",
       "transaction_real_price             0\n",
       "top10_apt                          0\n",
       "city                               0\n",
       "시군구                                0\n",
       "dong                               0\n",
       "age                                0\n",
       "transaction_year                   0\n",
       "transaction_month                  0\n",
       "floor_level                        0\n",
       "구별_전체_평균_시세                        0\n",
       "구별_작년_평균_시세                    81588\n",
       "구별_작년_거래량                          0\n",
       "stud_per_elementary                0\n",
       "stud_per_middle                    0\n",
       "stud_per_high                      0\n",
       "인구당합계쇼핑수                           0\n",
       "인구당병원수                             0\n",
       "공원수                                0\n",
       "park_exercise_facility         73033\n",
       "park_entertainment_facility    73033\n",
       "park_benefit_facility          73033\n",
       "park_cultural_facitiy          73033\n",
       "park_facility_other            73033\n",
       "day_care_baby_num              35583\n",
       "어린이집유형_가정                      35583\n",
       "어린이집유형_국공립                     35583\n",
       "어린이집유형_민간                      35583\n",
       "어린이집유형_법인·단체                   35583\n",
       "어린이집유형_사회복지법인                  35583\n",
       "어린이집유형_직장                      35583\n",
       "어린이집유형_협동                      35583\n",
       "gu                                 0\n",
       "course_mean                        0\n",
       "dtype: int64"
      ]
     },
     "execution_count": 74,
     "metadata": {},
     "output_type": "execute_result"
    }
   ],
   "source": [
    "df.isnull().sum()"
   ]
  },
  {
   "cell_type": "markdown",
   "metadata": {
    "id": "TCAwiKTU-Bv8"
   },
   "source": [
    "### 모델 학습"
   ]
  },
  {
   "cell_type": "code",
   "execution_count": 75,
   "metadata": {
    "ExecuteTime": {
     "end_time": "2021-12-06T03:15:48.497751Z",
     "start_time": "2021-12-06T03:15:48.463843Z"
    }
   },
   "outputs": [],
   "source": [
    "X = df.drop(['gu','city', 'dong', 'apt', 'transaction_date', 'transaction_real_price', '시군구', 'transaction_year', 'transaction_month'], axis = 1)\n",
    "Y = df['transaction_real_price']"
   ]
  },
  {
   "cell_type": "code",
   "execution_count": 76,
   "metadata": {
    "ExecuteTime": {
     "end_time": "2021-12-06T03:15:49.840944Z",
     "start_time": "2021-12-06T03:15:49.791006Z"
    }
   },
   "outputs": [
    {
     "data": {
      "text/html": [
       "<div>\n",
       "<style scoped>\n",
       "    .dataframe tbody tr th:only-of-type {\n",
       "        vertical-align: middle;\n",
       "    }\n",
       "\n",
       "    .dataframe tbody tr th {\n",
       "        vertical-align: top;\n",
       "    }\n",
       "\n",
       "    .dataframe thead th {\n",
       "        text-align: right;\n",
       "    }\n",
       "</style>\n",
       "<table border=\"1\" class=\"dataframe\">\n",
       "  <thead>\n",
       "    <tr style=\"text-align: right;\">\n",
       "      <th></th>\n",
       "      <th>exclusive_use_area</th>\n",
       "      <th>top10_apt</th>\n",
       "      <th>age</th>\n",
       "      <th>floor_level</th>\n",
       "      <th>구별_전체_평균_시세</th>\n",
       "      <th>구별_작년_평균_시세</th>\n",
       "      <th>구별_작년_거래량</th>\n",
       "      <th>stud_per_elementary</th>\n",
       "      <th>stud_per_middle</th>\n",
       "      <th>stud_per_high</th>\n",
       "      <th>인구당합계쇼핑수</th>\n",
       "      <th>인구당병원수</th>\n",
       "      <th>공원수</th>\n",
       "      <th>park_exercise_facility</th>\n",
       "      <th>park_entertainment_facility</th>\n",
       "      <th>park_benefit_facility</th>\n",
       "      <th>park_cultural_facitiy</th>\n",
       "      <th>park_facility_other</th>\n",
       "      <th>day_care_baby_num</th>\n",
       "      <th>어린이집유형_가정</th>\n",
       "      <th>어린이집유형_국공립</th>\n",
       "      <th>어린이집유형_민간</th>\n",
       "      <th>어린이집유형_법인·단체</th>\n",
       "      <th>어린이집유형_사회복지법인</th>\n",
       "      <th>어린이집유형_직장</th>\n",
       "      <th>어린이집유형_협동</th>\n",
       "      <th>course_mean</th>\n",
       "    </tr>\n",
       "  </thead>\n",
       "  <tbody>\n",
       "    <tr>\n",
       "      <th>0</th>\n",
       "      <td>79.97</td>\n",
       "      <td>0</td>\n",
       "      <td>34.0</td>\n",
       "      <td>low</td>\n",
       "      <td>172403.047095</td>\n",
       "      <td>NaN</td>\n",
       "      <td>0.0</td>\n",
       "      <td>785</td>\n",
       "      <td>650</td>\n",
       "      <td>811</td>\n",
       "      <td>1.856510</td>\n",
       "      <td>12.995572</td>\n",
       "      <td>16.0</td>\n",
       "      <td>0.0</td>\n",
       "      <td>0.0</td>\n",
       "      <td>0.0</td>\n",
       "      <td>0.0</td>\n",
       "      <td>0.0</td>\n",
       "      <td>11605.0</td>\n",
       "      <td>68.0</td>\n",
       "      <td>58.0</td>\n",
       "      <td>68.0</td>\n",
       "      <td>0.0</td>\n",
       "      <td>0.0</td>\n",
       "      <td>28.0</td>\n",
       "      <td>1.0</td>\n",
       "      <td>1.108108</td>\n",
       "    </tr>\n",
       "    <tr>\n",
       "      <th>1</th>\n",
       "      <td>79.97</td>\n",
       "      <td>0</td>\n",
       "      <td>34.0</td>\n",
       "      <td>low</td>\n",
       "      <td>172403.047095</td>\n",
       "      <td>NaN</td>\n",
       "      <td>0.0</td>\n",
       "      <td>785</td>\n",
       "      <td>650</td>\n",
       "      <td>811</td>\n",
       "      <td>1.856510</td>\n",
       "      <td>12.995572</td>\n",
       "      <td>16.0</td>\n",
       "      <td>0.0</td>\n",
       "      <td>0.0</td>\n",
       "      <td>0.0</td>\n",
       "      <td>0.0</td>\n",
       "      <td>0.0</td>\n",
       "      <td>11605.0</td>\n",
       "      <td>68.0</td>\n",
       "      <td>58.0</td>\n",
       "      <td>68.0</td>\n",
       "      <td>0.0</td>\n",
       "      <td>0.0</td>\n",
       "      <td>28.0</td>\n",
       "      <td>1.0</td>\n",
       "      <td>1.108108</td>\n",
       "    </tr>\n",
       "    <tr>\n",
       "      <th>2</th>\n",
       "      <td>79.97</td>\n",
       "      <td>0</td>\n",
       "      <td>34.0</td>\n",
       "      <td>low</td>\n",
       "      <td>172403.047095</td>\n",
       "      <td>NaN</td>\n",
       "      <td>0.0</td>\n",
       "      <td>785</td>\n",
       "      <td>650</td>\n",
       "      <td>811</td>\n",
       "      <td>1.856510</td>\n",
       "      <td>12.995572</td>\n",
       "      <td>16.0</td>\n",
       "      <td>0.0</td>\n",
       "      <td>0.0</td>\n",
       "      <td>0.0</td>\n",
       "      <td>0.0</td>\n",
       "      <td>0.0</td>\n",
       "      <td>11605.0</td>\n",
       "      <td>68.0</td>\n",
       "      <td>58.0</td>\n",
       "      <td>68.0</td>\n",
       "      <td>0.0</td>\n",
       "      <td>0.0</td>\n",
       "      <td>28.0</td>\n",
       "      <td>1.0</td>\n",
       "      <td>1.108108</td>\n",
       "    </tr>\n",
       "    <tr>\n",
       "      <th>3</th>\n",
       "      <td>79.97</td>\n",
       "      <td>0</td>\n",
       "      <td>34.0</td>\n",
       "      <td>low</td>\n",
       "      <td>172403.047095</td>\n",
       "      <td>NaN</td>\n",
       "      <td>0.0</td>\n",
       "      <td>785</td>\n",
       "      <td>650</td>\n",
       "      <td>811</td>\n",
       "      <td>1.856510</td>\n",
       "      <td>12.995572</td>\n",
       "      <td>16.0</td>\n",
       "      <td>0.0</td>\n",
       "      <td>0.0</td>\n",
       "      <td>0.0</td>\n",
       "      <td>0.0</td>\n",
       "      <td>0.0</td>\n",
       "      <td>11605.0</td>\n",
       "      <td>68.0</td>\n",
       "      <td>58.0</td>\n",
       "      <td>68.0</td>\n",
       "      <td>0.0</td>\n",
       "      <td>0.0</td>\n",
       "      <td>28.0</td>\n",
       "      <td>1.0</td>\n",
       "      <td>1.108108</td>\n",
       "    </tr>\n",
       "    <tr>\n",
       "      <th>4</th>\n",
       "      <td>54.98</td>\n",
       "      <td>0</td>\n",
       "      <td>34.0</td>\n",
       "      <td>low</td>\n",
       "      <td>172403.047095</td>\n",
       "      <td>NaN</td>\n",
       "      <td>0.0</td>\n",
       "      <td>785</td>\n",
       "      <td>650</td>\n",
       "      <td>811</td>\n",
       "      <td>1.856510</td>\n",
       "      <td>12.995572</td>\n",
       "      <td>16.0</td>\n",
       "      <td>0.0</td>\n",
       "      <td>0.0</td>\n",
       "      <td>0.0</td>\n",
       "      <td>0.0</td>\n",
       "      <td>0.0</td>\n",
       "      <td>11605.0</td>\n",
       "      <td>68.0</td>\n",
       "      <td>58.0</td>\n",
       "      <td>68.0</td>\n",
       "      <td>0.0</td>\n",
       "      <td>0.0</td>\n",
       "      <td>28.0</td>\n",
       "      <td>1.0</td>\n",
       "      <td>1.108108</td>\n",
       "    </tr>\n",
       "    <tr>\n",
       "      <th>...</th>\n",
       "      <td>...</td>\n",
       "      <td>...</td>\n",
       "      <td>...</td>\n",
       "      <td>...</td>\n",
       "      <td>...</td>\n",
       "      <td>...</td>\n",
       "      <td>...</td>\n",
       "      <td>...</td>\n",
       "      <td>...</td>\n",
       "      <td>...</td>\n",
       "      <td>...</td>\n",
       "      <td>...</td>\n",
       "      <td>...</td>\n",
       "      <td>...</td>\n",
       "      <td>...</td>\n",
       "      <td>...</td>\n",
       "      <td>...</td>\n",
       "      <td>...</td>\n",
       "      <td>...</td>\n",
       "      <td>...</td>\n",
       "      <td>...</td>\n",
       "      <td>...</td>\n",
       "      <td>...</td>\n",
       "      <td>...</td>\n",
       "      <td>...</td>\n",
       "      <td>...</td>\n",
       "      <td>...</td>\n",
       "    </tr>\n",
       "    <tr>\n",
       "      <th>240840</th>\n",
       "      <td>67.57</td>\n",
       "      <td>0</td>\n",
       "      <td>18.0</td>\n",
       "      <td>low</td>\n",
       "      <td>44998.326330</td>\n",
       "      <td>44479.230442</td>\n",
       "      <td>2352.0</td>\n",
       "      <td>633</td>\n",
       "      <td>475</td>\n",
       "      <td>615</td>\n",
       "      <td>1.527596</td>\n",
       "      <td>5.091987</td>\n",
       "      <td>0.0</td>\n",
       "      <td>NaN</td>\n",
       "      <td>NaN</td>\n",
       "      <td>NaN</td>\n",
       "      <td>NaN</td>\n",
       "      <td>NaN</td>\n",
       "      <td>11533.0</td>\n",
       "      <td>97.0</td>\n",
       "      <td>44.0</td>\n",
       "      <td>95.0</td>\n",
       "      <td>4.0</td>\n",
       "      <td>0.0</td>\n",
       "      <td>2.0</td>\n",
       "      <td>0.0</td>\n",
       "      <td>1.852632</td>\n",
       "    </tr>\n",
       "    <tr>\n",
       "      <th>240841</th>\n",
       "      <td>95.94</td>\n",
       "      <td>0</td>\n",
       "      <td>14.0</td>\n",
       "      <td>low</td>\n",
       "      <td>44998.326330</td>\n",
       "      <td>44479.230442</td>\n",
       "      <td>2352.0</td>\n",
       "      <td>633</td>\n",
       "      <td>475</td>\n",
       "      <td>615</td>\n",
       "      <td>1.527596</td>\n",
       "      <td>5.091987</td>\n",
       "      <td>0.0</td>\n",
       "      <td>NaN</td>\n",
       "      <td>NaN</td>\n",
       "      <td>NaN</td>\n",
       "      <td>NaN</td>\n",
       "      <td>NaN</td>\n",
       "      <td>11533.0</td>\n",
       "      <td>97.0</td>\n",
       "      <td>44.0</td>\n",
       "      <td>95.0</td>\n",
       "      <td>4.0</td>\n",
       "      <td>0.0</td>\n",
       "      <td>2.0</td>\n",
       "      <td>0.0</td>\n",
       "      <td>1.852632</td>\n",
       "    </tr>\n",
       "    <tr>\n",
       "      <th>240842</th>\n",
       "      <td>100.17</td>\n",
       "      <td>0</td>\n",
       "      <td>14.0</td>\n",
       "      <td>low</td>\n",
       "      <td>44998.326330</td>\n",
       "      <td>44479.230442</td>\n",
       "      <td>2352.0</td>\n",
       "      <td>633</td>\n",
       "      <td>475</td>\n",
       "      <td>615</td>\n",
       "      <td>1.527596</td>\n",
       "      <td>5.091987</td>\n",
       "      <td>0.0</td>\n",
       "      <td>NaN</td>\n",
       "      <td>NaN</td>\n",
       "      <td>NaN</td>\n",
       "      <td>NaN</td>\n",
       "      <td>NaN</td>\n",
       "      <td>11533.0</td>\n",
       "      <td>97.0</td>\n",
       "      <td>44.0</td>\n",
       "      <td>95.0</td>\n",
       "      <td>4.0</td>\n",
       "      <td>0.0</td>\n",
       "      <td>2.0</td>\n",
       "      <td>0.0</td>\n",
       "      <td>1.852632</td>\n",
       "    </tr>\n",
       "    <tr>\n",
       "      <th>240843</th>\n",
       "      <td>77.71</td>\n",
       "      <td>0</td>\n",
       "      <td>14.0</td>\n",
       "      <td>low</td>\n",
       "      <td>44998.326330</td>\n",
       "      <td>44479.230442</td>\n",
       "      <td>2352.0</td>\n",
       "      <td>633</td>\n",
       "      <td>475</td>\n",
       "      <td>615</td>\n",
       "      <td>1.527596</td>\n",
       "      <td>5.091987</td>\n",
       "      <td>0.0</td>\n",
       "      <td>NaN</td>\n",
       "      <td>NaN</td>\n",
       "      <td>NaN</td>\n",
       "      <td>NaN</td>\n",
       "      <td>NaN</td>\n",
       "      <td>11533.0</td>\n",
       "      <td>97.0</td>\n",
       "      <td>44.0</td>\n",
       "      <td>95.0</td>\n",
       "      <td>4.0</td>\n",
       "      <td>0.0</td>\n",
       "      <td>2.0</td>\n",
       "      <td>0.0</td>\n",
       "      <td>1.852632</td>\n",
       "    </tr>\n",
       "    <tr>\n",
       "      <th>240844</th>\n",
       "      <td>77.71</td>\n",
       "      <td>0</td>\n",
       "      <td>14.0</td>\n",
       "      <td>low</td>\n",
       "      <td>44998.326330</td>\n",
       "      <td>44479.230442</td>\n",
       "      <td>2352.0</td>\n",
       "      <td>633</td>\n",
       "      <td>475</td>\n",
       "      <td>615</td>\n",
       "      <td>1.527596</td>\n",
       "      <td>5.091987</td>\n",
       "      <td>0.0</td>\n",
       "      <td>NaN</td>\n",
       "      <td>NaN</td>\n",
       "      <td>NaN</td>\n",
       "      <td>NaN</td>\n",
       "      <td>NaN</td>\n",
       "      <td>11533.0</td>\n",
       "      <td>97.0</td>\n",
       "      <td>44.0</td>\n",
       "      <td>95.0</td>\n",
       "      <td>4.0</td>\n",
       "      <td>0.0</td>\n",
       "      <td>2.0</td>\n",
       "      <td>0.0</td>\n",
       "      <td>1.852632</td>\n",
       "    </tr>\n",
       "  </tbody>\n",
       "</table>\n",
       "<p>240845 rows × 27 columns</p>\n",
       "</div>"
      ],
      "text/plain": [
       "        exclusive_use_area  top10_apt   age floor_level    구별_전체_평균_시세  \\\n",
       "0                    79.97          0  34.0         low  172403.047095   \n",
       "1                    79.97          0  34.0         low  172403.047095   \n",
       "2                    79.97          0  34.0         low  172403.047095   \n",
       "3                    79.97          0  34.0         low  172403.047095   \n",
       "4                    54.98          0  34.0         low  172403.047095   \n",
       "...                    ...        ...   ...         ...            ...   \n",
       "240840               67.57          0  18.0         low   44998.326330   \n",
       "240841               95.94          0  14.0         low   44998.326330   \n",
       "240842              100.17          0  14.0         low   44998.326330   \n",
       "240843               77.71          0  14.0         low   44998.326330   \n",
       "240844               77.71          0  14.0         low   44998.326330   \n",
       "\n",
       "         구별_작년_평균_시세  구별_작년_거래량  stud_per_elementary  stud_per_middle  \\\n",
       "0                NaN        0.0                  785              650   \n",
       "1                NaN        0.0                  785              650   \n",
       "2                NaN        0.0                  785              650   \n",
       "3                NaN        0.0                  785              650   \n",
       "4                NaN        0.0                  785              650   \n",
       "...              ...        ...                  ...              ...   \n",
       "240840  44479.230442     2352.0                  633              475   \n",
       "240841  44479.230442     2352.0                  633              475   \n",
       "240842  44479.230442     2352.0                  633              475   \n",
       "240843  44479.230442     2352.0                  633              475   \n",
       "240844  44479.230442     2352.0                  633              475   \n",
       "\n",
       "        stud_per_high  인구당합계쇼핑수     인구당병원수   공원수  park_exercise_facility  \\\n",
       "0                 811  1.856510  12.995572  16.0                     0.0   \n",
       "1                 811  1.856510  12.995572  16.0                     0.0   \n",
       "2                 811  1.856510  12.995572  16.0                     0.0   \n",
       "3                 811  1.856510  12.995572  16.0                     0.0   \n",
       "4                 811  1.856510  12.995572  16.0                     0.0   \n",
       "...               ...       ...        ...   ...                     ...   \n",
       "240840            615  1.527596   5.091987   0.0                     NaN   \n",
       "240841            615  1.527596   5.091987   0.0                     NaN   \n",
       "240842            615  1.527596   5.091987   0.0                     NaN   \n",
       "240843            615  1.527596   5.091987   0.0                     NaN   \n",
       "240844            615  1.527596   5.091987   0.0                     NaN   \n",
       "\n",
       "        park_entertainment_facility  park_benefit_facility  \\\n",
       "0                               0.0                    0.0   \n",
       "1                               0.0                    0.0   \n",
       "2                               0.0                    0.0   \n",
       "3                               0.0                    0.0   \n",
       "4                               0.0                    0.0   \n",
       "...                             ...                    ...   \n",
       "240840                          NaN                    NaN   \n",
       "240841                          NaN                    NaN   \n",
       "240842                          NaN                    NaN   \n",
       "240843                          NaN                    NaN   \n",
       "240844                          NaN                    NaN   \n",
       "\n",
       "        park_cultural_facitiy  park_facility_other  day_care_baby_num  \\\n",
       "0                         0.0                  0.0            11605.0   \n",
       "1                         0.0                  0.0            11605.0   \n",
       "2                         0.0                  0.0            11605.0   \n",
       "3                         0.0                  0.0            11605.0   \n",
       "4                         0.0                  0.0            11605.0   \n",
       "...                       ...                  ...                ...   \n",
       "240840                    NaN                  NaN            11533.0   \n",
       "240841                    NaN                  NaN            11533.0   \n",
       "240842                    NaN                  NaN            11533.0   \n",
       "240843                    NaN                  NaN            11533.0   \n",
       "240844                    NaN                  NaN            11533.0   \n",
       "\n",
       "        어린이집유형_가정  어린이집유형_국공립  어린이집유형_민간  어린이집유형_법인·단체  어린이집유형_사회복지법인  \\\n",
       "0            68.0        58.0       68.0           0.0            0.0   \n",
       "1            68.0        58.0       68.0           0.0            0.0   \n",
       "2            68.0        58.0       68.0           0.0            0.0   \n",
       "3            68.0        58.0       68.0           0.0            0.0   \n",
       "4            68.0        58.0       68.0           0.0            0.0   \n",
       "...           ...         ...        ...           ...            ...   \n",
       "240840       97.0        44.0       95.0           4.0            0.0   \n",
       "240841       97.0        44.0       95.0           4.0            0.0   \n",
       "240842       97.0        44.0       95.0           4.0            0.0   \n",
       "240843       97.0        44.0       95.0           4.0            0.0   \n",
       "240844       97.0        44.0       95.0           4.0            0.0   \n",
       "\n",
       "        어린이집유형_직장  어린이집유형_협동  course_mean  \n",
       "0            28.0        1.0     1.108108  \n",
       "1            28.0        1.0     1.108108  \n",
       "2            28.0        1.0     1.108108  \n",
       "3            28.0        1.0     1.108108  \n",
       "4            28.0        1.0     1.108108  \n",
       "...           ...        ...          ...  \n",
       "240840        2.0        0.0     1.852632  \n",
       "240841        2.0        0.0     1.852632  \n",
       "240842        2.0        0.0     1.852632  \n",
       "240843        2.0        0.0     1.852632  \n",
       "240844        2.0        0.0     1.852632  \n",
       "\n",
       "[240845 rows x 27 columns]"
      ]
     },
     "execution_count": 76,
     "metadata": {},
     "output_type": "execute_result"
    }
   ],
   "source": [
    "X"
   ]
  },
  {
   "cell_type": "code",
   "execution_count": 77,
   "metadata": {
    "ExecuteTime": {
     "end_time": "2021-12-06T03:15:53.264900Z",
     "start_time": "2021-12-06T03:15:51.958006Z"
    },
    "colab": {
     "base_uri": "https://localhost:8080/"
    },
    "executionInfo": {
     "elapsed": 499,
     "status": "ok",
     "timestamp": 1638432520074,
     "user": {
      "displayName": "이구미",
      "photoUrl": "https://lh3.googleusercontent.com/a/default-user=s64",
      "userId": "08177866432571939523"
     },
     "user_tz": -540
    },
    "id": "6VpSX3xD-Bv8",
    "outputId": "8c30d47d-0358-4609-ebe7-81c31cf56cff"
   },
   "outputs": [
    {
     "data": {
      "text/plain": [
       "(180633, 27)"
      ]
     },
     "execution_count": 77,
     "metadata": {},
     "output_type": "execute_result"
    }
   ],
   "source": [
    "from sklearn.model_selection import train_test_split\n",
    "Train_X, Test_X, Train_Y, Test_Y = train_test_split(X, Y)\n",
    "Train_X.shape # 샘플 대비 특징이 매우 적음 => 큰 부담없이 더미화 가능\n",
    "# 컬럼 타입이 섞여 있으므로, 트리 계열의 모델이 적절한 것으로 판단됨\n",
    "# 또한, 샘플이 충분히 많으므로 트리 뿐만 아니라 트리 기반의 앙상블도 적절할 것으로 보임\n",
    "# Tip. Decision Tree 계열의 모델은 상대적으로 전처리나 탐색의 부담이 제일 적은 모델임"
   ]
  },
  {
   "cell_type": "code",
   "execution_count": 59,
   "metadata": {
    "ExecuteTime": {
     "end_time": "2021-12-02T02:15:28.359146Z",
     "start_time": "2021-12-02T02:15:28.346589Z"
    },
    "colab": {
     "base_uri": "https://localhost:8080/"
    },
    "executionInfo": {
     "elapsed": 9957,
     "status": "ok",
     "timestamp": 1638429888587,
     "user": {
      "displayName": "이구미",
      "photoUrl": "https://lh3.googleusercontent.com/a/default-user=s64",
      "userId": "08177866432571939523"
     },
     "user_tz": -540
    },
    "id": "TQfx99tw-Bv9",
    "outputId": "badf5ff9-2874-4f40-fa9d-bd1f8943c248",
    "scrolled": true
   },
   "outputs": [
    {
     "name": "stdout",
     "output_type": "stream",
     "text": [
      "Collecting feature_engine\n",
      "  Downloading feature_engine-1.1.2-py2.py3-none-any.whl (180 kB)\n",
      "\u001b[?25l\r",
      "\u001b[K     |█▉                              | 10 kB 27.6 MB/s eta 0:00:01\r",
      "\u001b[K     |███▋                            | 20 kB 31.4 MB/s eta 0:00:01\r",
      "\u001b[K     |█████▌                          | 30 kB 37.3 MB/s eta 0:00:01\r",
      "\u001b[K     |███████▎                        | 40 kB 28.5 MB/s eta 0:00:01\r",
      "\u001b[K     |█████████                       | 51 kB 20.5 MB/s eta 0:00:01\r",
      "\u001b[K     |███████████                     | 61 kB 11.4 MB/s eta 0:00:01\r",
      "\u001b[K     |████████████▊                   | 71 kB 12.8 MB/s eta 0:00:01\r",
      "\u001b[K     |██████████████▌                 | 81 kB 14.2 MB/s eta 0:00:01\r",
      "\u001b[K     |████████████████▍               | 92 kB 13.6 MB/s eta 0:00:01\r",
      "\u001b[K     |██████████████████▏             | 102 kB 14.8 MB/s eta 0:00:01\r",
      "\u001b[K     |████████████████████            | 112 kB 14.8 MB/s eta 0:00:01\r",
      "\u001b[K     |█████████████████████▉          | 122 kB 14.8 MB/s eta 0:00:01\r",
      "\u001b[K     |███████████████████████▋        | 133 kB 14.8 MB/s eta 0:00:01\r",
      "\u001b[K     |█████████████████████████▌      | 143 kB 14.8 MB/s eta 0:00:01\r",
      "\u001b[K     |███████████████████████████▎    | 153 kB 14.8 MB/s eta 0:00:01\r",
      "\u001b[K     |█████████████████████████████   | 163 kB 14.8 MB/s eta 0:00:01\r",
      "\u001b[K     |███████████████████████████████ | 174 kB 14.8 MB/s eta 0:00:01\r",
      "\u001b[K     |████████████████████████████████| 180 kB 14.8 MB/s \n",
      "\u001b[?25hRequirement already satisfied: scipy>=1.4.1 in /usr/local/lib/python3.7/dist-packages (from feature_engine) (1.4.1)\n",
      "Collecting statsmodels>=0.11.1\n",
      "  Downloading statsmodels-0.13.1-cp37-cp37m-manylinux_2_17_x86_64.manylinux2014_x86_64.whl (9.8 MB)\n",
      "\u001b[K     |████████████████████████████████| 9.8 MB 68.2 MB/s \n",
      "\u001b[?25hRequirement already satisfied: scikit-learn>=0.22.2 in /usr/local/lib/python3.7/dist-packages (from feature_engine) (1.0.1)\n",
      "Requirement already satisfied: numpy>=1.18.2 in /usr/local/lib/python3.7/dist-packages (from feature_engine) (1.19.5)\n",
      "Requirement already satisfied: pandas>=1.0.3 in /usr/local/lib/python3.7/dist-packages (from feature_engine) (1.1.5)\n",
      "Requirement already satisfied: python-dateutil>=2.7.3 in /usr/local/lib/python3.7/dist-packages (from pandas>=1.0.3->feature_engine) (2.8.2)\n",
      "Requirement already satisfied: pytz>=2017.2 in /usr/local/lib/python3.7/dist-packages (from pandas>=1.0.3->feature_engine) (2018.9)\n",
      "Requirement already satisfied: six>=1.5 in /usr/local/lib/python3.7/dist-packages (from python-dateutil>=2.7.3->pandas>=1.0.3->feature_engine) (1.15.0)\n",
      "Requirement already satisfied: threadpoolctl>=2.0.0 in /usr/local/lib/python3.7/dist-packages (from scikit-learn>=0.22.2->feature_engine) (3.0.0)\n",
      "Requirement already satisfied: joblib>=0.11 in /usr/local/lib/python3.7/dist-packages (from scikit-learn>=0.22.2->feature_engine) (1.1.0)\n",
      "Requirement already satisfied: patsy>=0.5.2 in /usr/local/lib/python3.7/dist-packages (from statsmodels>=0.11.1->feature_engine) (0.5.2)\n",
      "Installing collected packages: statsmodels, feature-engine\n",
      "  Attempting uninstall: statsmodels\n",
      "    Found existing installation: statsmodels 0.10.2\n",
      "    Uninstalling statsmodels-0.10.2:\n",
      "      Successfully uninstalled statsmodels-0.10.2\n",
      "Successfully installed feature-engine-1.1.2 statsmodels-0.13.1\n"
     ]
    }
   ],
   "source": [
    "# !pip install feature_engine"
   ]
  },
  {
   "cell_type": "code",
   "execution_count": 78,
   "metadata": {
    "ExecuteTime": {
     "end_time": "2021-12-06T03:15:56.451071Z",
     "start_time": "2021-12-06T03:15:56.147815Z"
    },
    "executionInfo": {
     "elapsed": 360,
     "status": "ok",
     "timestamp": 1638432533094,
     "user": {
      "displayName": "이구미",
      "photoUrl": "https://lh3.googleusercontent.com/a/default-user=s64",
      "userId": "08177866432571939523"
     },
     "user_tz": -540
    },
    "id": "Irz2-8lR-Bv_"
   },
   "outputs": [],
   "source": [
    "# 더미화\n",
    "#from feature_engine.categorical_encoders import OneHotCategoricalEncoder as OHE\n",
    "from feature_engine.encoding import OneHotEncoder as OHE\n",
    "dummy_model = OHE(variables = ['floor_level'],\n",
    "                 drop_last = False)\n",
    "\n",
    "dummy_model.fit(Train_X)\n",
    "\n",
    "Train_X = dummy_model.transform(Train_X)\n",
    "Test_X = dummy_model.transform(Test_X)"
   ]
  },
  {
   "cell_type": "code",
   "execution_count": 79,
   "metadata": {
    "ExecuteTime": {
     "end_time": "2021-12-06T03:15:58.004023Z",
     "start_time": "2021-12-06T03:15:57.757799Z"
    },
    "executionInfo": {
     "elapsed": 385,
     "status": "ok",
     "timestamp": 1638432539347,
     "user": {
      "displayName": "이구미",
      "photoUrl": "https://lh3.googleusercontent.com/a/default-user=s64",
      "userId": "08177866432571939523"
     },
     "user_tz": -540
    },
    "id": "dky-lWsd-BwA"
   },
   "outputs": [],
   "source": [
    "# 변수 부착 과정에서 생성된 결측 대체\n",
    "from sklearn.impute import SimpleImputer as SI\n",
    "imputer = SI().fit(Train_X) # DEFAULT: MEAN으로 대체\n",
    "# imputer.transform(Train_X): nd.array\n",
    "Train_X = pd.DataFrame(imputer.transform(Train_X), columns = Train_X.columns)\n",
    "Test_X = pd.DataFrame(imputer.transform(Test_X), columns = Test_X.columns)"
   ]
  },
  {
   "cell_type": "code",
   "execution_count": null,
   "metadata": {
    "ExecuteTime": {
     "end_time": "2021-12-02T02:15:28.875698Z",
     "start_time": "2021-12-02T02:15:28.861661Z"
    },
    "id": "XVdRX6Cz-BwA"
   },
   "outputs": [],
   "source": [
    "#!pip install xgboost"
   ]
  },
  {
   "cell_type": "code",
   "execution_count": null,
   "metadata": {
    "ExecuteTime": {
     "end_time": "2021-12-02T02:15:28.890950Z",
     "start_time": "2021-12-02T02:15:28.877864Z"
    },
    "id": "M4G6HreK-BwA"
   },
   "outputs": [],
   "source": [
    "#!pip install lightgbm"
   ]
  },
  {
   "cell_type": "code",
   "execution_count": 1,
   "metadata": {
    "ExecuteTime": {
     "end_time": "2021-12-07T06:05:58.344328Z",
     "start_time": "2021-12-07T06:05:55.742750Z"
    },
    "executionInfo": {
     "elapsed": 371,
     "status": "ok",
     "timestamp": 1638432543091,
     "user": {
      "displayName": "이구미",
      "photoUrl": "https://lh3.googleusercontent.com/a/default-user=s64",
      "userId": "08177866432571939523"
     },
     "user_tz": -540
    },
    "id": "Dbxa_NRK-BwA"
   },
   "outputs": [],
   "source": [
    "from sklearn.model_selection import ParameterGrid\n",
    "from sklearn.feature_selection import *\n",
    "from sklearn.ensemble import RandomForestRegressor as RFR\n",
    "from xgboost import XGBRegressor as XGB\n",
    "from lightgbm import LGBMRegressor as LGB\n",
    "from sklearn.linear_model import Ridge, Lasso, ElasticNet"
   ]
  },
  {
   "cell_type": "code",
   "execution_count": 81,
   "metadata": {
    "ExecuteTime": {
     "end_time": "2021-12-06T03:16:03.272397Z",
     "start_time": "2021-12-06T03:16:03.265418Z"
    },
    "executionInfo": {
     "elapsed": 354,
     "status": "ok",
     "timestamp": 1638432549338,
     "user": {
      "displayName": "이구미",
      "photoUrl": "https://lh3.googleusercontent.com/a/default-user=s64",
      "userId": "08177866432571939523"
     },
     "user_tz": -540
    },
    "id": "QF4XvPq_-BwA"
   },
   "outputs": [],
   "source": [
    "model_parameter_dict = dict()\n",
    "RFR_parameter_grid = ParameterGrid({\"max_depth\":[3, 4, 5],\n",
    "                                   \"n_estimators\": [100, 200]})\n",
    "\n",
    "XL_parameter_grid = ParameterGrid({\"max_depth\":[3, 4, 5],\n",
    "                                  \"n_estimators\": [100, 200],\n",
    "                                  \"learning_rate\": [0.05, 0.1, 0.2]})\n",
    "\n",
    "model_parameter_dict[RFR] = RFR_parameter_grid\n",
    "model_parameter_dict[XGB] = XL_parameter_grid\n",
    "model_parameter_dict[LGB] = XL_parameter_grid"
   ]
  },
  {
   "cell_type": "code",
   "execution_count": 83,
   "metadata": {
    "ExecuteTime": {
     "end_time": "2021-12-06T03:16:21.134757Z",
     "start_time": "2021-12-06T03:16:10.153514Z"
    },
    "colab": {
     "base_uri": "https://localhost:8080/",
     "height": 1000,
     "referenced_widgets": [
      "c3bff95334644ce2bf2803d71a2c005b",
      "437fc64d95b3409aa136ee33bef9dcab",
      "5421f12d69084f9b9fb539214b914b61",
      "8a6a748fd3ed49c080cd9cf865d3fceb",
      "82765fc33b0d402e85d54c5bd6d9c13f",
      "a35b323c277c44d5b0cf5c5de7b852bf",
      "2508937cc3fc472399b9e8ea84179c39",
      "4aac2216925a4e9c8c392dca8b977a1b",
      "57f05d2e743d493d8d8ff1087aea788b",
      "b9f00c29671741098029084c765f271e",
      "f73682702d7e41bf9d9f2e25c3bd3bb6",
      "3c964b2e0d3040e08460e4d105b008a8",
      "5d30f238b3d1452bae4e42c23fda4698",
      "88c0c0e4f7c6466490d0a557e12ef865",
      "0d5c7cb2fad04cde9f3ddc3d58993124",
      "e0ba5fe6838d4b2b900901fb89abc7ff",
      "7d6ea0fb8c054163857387339d55a93e",
      "1d6c59d46e63477b8827251691c50a1e",
      "a1c024c4540842cfb2987db246e94ebe",
      "c284f4202be04b74be746527fdf2fdca",
      "be7d75cdc0254873b3ece4c7af8d1152",
      "aeaa4f45c5e8409b91a9943de6f8dabf",
      "97ce94ffa8ba43c9a45c7f3f4dc1f232",
      "e784c9bd49f346ab9b5434e53b399267",
      "76ee748a466a4a33875a0b9139c38e01",
      "3c8c16a99d524ab9ae242f345a9f98b0",
      "4ce69a65161244ba9a8cf14ee750fa3a",
      "e400e3946eda40b29728d8ad6891051d",
      "4ac7c2a3f40a49398dcdfa6f66ba1141",
      "6bfb9264057c431eb35c2b54f01d042e",
      "41e7703fe0db49278d3780e7fc09a249",
      "d3c0561d4b1e4ace86472227c4d5d560",
      "79384976c66348ab831a98f3cfdaad83",
      "15ed52ea92944994a868057f1536c0cf",
      "e45935cc01384638b3e51f618a710649",
      "9f8dc80964a54297b26979c7e933377a",
      "3b7256379cb04f05a31469cd0b5bee90",
      "d23383f6d89a481eae8d658a91b489f2",
      "8254653f6a17468ab25a5f00748a8027",
      "2694790e12af42938c64487d9ab623c6",
      "271364604fbb4e689094755ac585f8ac",
      "86b198a4fff244e281f40fa2427e4cca",
      "82f0cd71005646b6a11e66ad71cdca11",
      "6462e281a95e487cb7450d5c28429d30",
      "a783e05b1c0248d9a8f5f5c75716619c",
      "fb25d5d000634536bcb1acfae7cf2e9d",
      "07b88e6c7d434554bcb822fc23e1b3c9",
      "93f5cdb237f64716ac6f3ccf651f248f",
      "dead9d2c9b0649318232c30137483219",
      "0233a9f4b5a84055af30b27f673e2bee",
      "9fe3bf34121f4c549031583ba646e9a3",
      "d9891d0299d54274bf312eebdf8cbab6",
      "b414c37a5b3043708ff82ac53e191178",
      "d2caeee1da4b47f6bc7d81566a68d91b",
      "3f37eeb2ca9b4d84889486049010a362",
      "78c2f9d2aa8c4aa588116c0a4a16b92f",
      "ef3ee887b7af4598a6037c499c3902b9",
      "d5278b7fffcf4af88dcf1e5eea67ee0f",
      "9aeebf9dbe214ca4a167a109692bb0b4",
      "2c65b68e28464b369f4954b8f784cfb0",
      "aa64230b55e746c9b097a14242dff76a",
      "dc6a9397287548aeb00f8d41425d411e",
      "8695d58086aa4462b2aeca25b67b574c",
      "cb362a7bfe254898a88f0bcbdfe7292d",
      "ba562e5e6137437fa055e71d0e8af4dc",
      "94d8d1976ee34239bf83eef52dca1627"
     ]
    },
    "executionInfo": {
     "elapsed": 1580345,
     "status": "ok",
     "timestamp": 1638434372951,
     "user": {
      "displayName": "이구미",
      "photoUrl": "https://lh3.googleusercontent.com/a/default-user=s64",
      "userId": "08177866432571939523"
     },
     "user_tz": -540
    },
    "id": "AM2I8kxB-BwB",
    "outputId": "dd286843-4fff-4ac8-c7c3-2c53352c0e14",
    "scrolled": true
   },
   "outputs": [
    {
     "data": {
      "application/vnd.jupyter.widget-view+json": {
       "model_id": "ae4ca4ba23594ea2a2400f2a32ee19ad",
       "version_major": 2,
       "version_minor": 0
      },
      "text/plain": [
       "  0%|          | 0/6 [00:00<?, ?it/s]"
      ]
     },
     "metadata": {},
     "output_type": "display_data"
    },
    {
     "ename": "KeyboardInterrupt",
     "evalue": "",
     "output_type": "error",
     "traceback": [
      "\u001b[1;31m---------------------------------------------------------------------------\u001b[0m",
      "\u001b[1;31mKeyboardInterrupt\u001b[0m                         Traceback (most recent call last)",
      "\u001b[1;32m<ipython-input-83-f6829a5a069b>\u001b[0m in \u001b[0;36m<module>\u001b[1;34m\u001b[0m\n\u001b[0;32m      7\u001b[0m \u001b[1;31m# 상호관련성 기반: mutual_info_regression , k: 특징의 개수\u001b[0m\u001b[1;33m\u001b[0m\u001b[1;33m\u001b[0m\u001b[1;33m\u001b[0m\u001b[0m\n\u001b[0;32m      8\u001b[0m \u001b[1;32mfor\u001b[0m \u001b[0mk\u001b[0m \u001b[1;32min\u001b[0m \u001b[0mtqdm\u001b[0m\u001b[1;33m(\u001b[0m\u001b[0mrange\u001b[0m\u001b[1;33m(\u001b[0m\u001b[1;36m30\u001b[0m\u001b[1;33m,\u001b[0m \u001b[1;36m4\u001b[0m\u001b[1;33m,\u001b[0m \u001b[1;33m-\u001b[0m\u001b[1;36m5\u001b[0m\u001b[1;33m)\u001b[0m\u001b[1;33m)\u001b[0m\u001b[1;33m:\u001b[0m\u001b[1;33m\u001b[0m\u001b[1;33m\u001b[0m\u001b[0m\n\u001b[1;32m----> 9\u001b[1;33m     \u001b[0mselector\u001b[0m \u001b[1;33m=\u001b[0m \u001b[0mSelectKBest\u001b[0m\u001b[1;33m(\u001b[0m\u001b[0mmutual_info_regression\u001b[0m\u001b[1;33m,\u001b[0m \u001b[0mk\u001b[0m \u001b[1;33m=\u001b[0m \u001b[0mk\u001b[0m\u001b[1;33m)\u001b[0m\u001b[1;33m.\u001b[0m\u001b[0mfit\u001b[0m\u001b[1;33m(\u001b[0m\u001b[0mTrain_X\u001b[0m\u001b[1;33m,\u001b[0m \u001b[0mTrain_Y\u001b[0m\u001b[1;33m)\u001b[0m\u001b[1;33m\u001b[0m\u001b[1;33m\u001b[0m\u001b[0m\n\u001b[0m\u001b[0;32m     10\u001b[0m     \u001b[0ms_Train_X\u001b[0m \u001b[1;33m=\u001b[0m \u001b[0mselector\u001b[0m\u001b[1;33m.\u001b[0m\u001b[0mtransform\u001b[0m\u001b[1;33m(\u001b[0m\u001b[0mTrain_X\u001b[0m\u001b[1;33m)\u001b[0m\u001b[1;33m\u001b[0m\u001b[1;33m\u001b[0m\u001b[0m\n\u001b[0;32m     11\u001b[0m     \u001b[0ms_Test_X\u001b[0m \u001b[1;33m=\u001b[0m \u001b[0mselector\u001b[0m\u001b[1;33m.\u001b[0m\u001b[0mtransform\u001b[0m\u001b[1;33m(\u001b[0m\u001b[0mTest_X\u001b[0m\u001b[1;33m)\u001b[0m\u001b[1;33m\u001b[0m\u001b[1;33m\u001b[0m\u001b[0m\n",
      "\u001b[1;32m~\\anaconda3\\lib\\site-packages\\sklearn\\feature_selection\\_univariate_selection.py\u001b[0m in \u001b[0;36mfit\u001b[1;34m(self, X, y)\u001b[0m\n\u001b[0;32m    350\u001b[0m \u001b[1;33m\u001b[0m\u001b[0m\n\u001b[0;32m    351\u001b[0m         \u001b[0mself\u001b[0m\u001b[1;33m.\u001b[0m\u001b[0m_check_params\u001b[0m\u001b[1;33m(\u001b[0m\u001b[0mX\u001b[0m\u001b[1;33m,\u001b[0m \u001b[0my\u001b[0m\u001b[1;33m)\u001b[0m\u001b[1;33m\u001b[0m\u001b[1;33m\u001b[0m\u001b[0m\n\u001b[1;32m--> 352\u001b[1;33m         \u001b[0mscore_func_ret\u001b[0m \u001b[1;33m=\u001b[0m \u001b[0mself\u001b[0m\u001b[1;33m.\u001b[0m\u001b[0mscore_func\u001b[0m\u001b[1;33m(\u001b[0m\u001b[0mX\u001b[0m\u001b[1;33m,\u001b[0m \u001b[0my\u001b[0m\u001b[1;33m)\u001b[0m\u001b[1;33m\u001b[0m\u001b[1;33m\u001b[0m\u001b[0m\n\u001b[0m\u001b[0;32m    353\u001b[0m         \u001b[1;32mif\u001b[0m \u001b[0misinstance\u001b[0m\u001b[1;33m(\u001b[0m\u001b[0mscore_func_ret\u001b[0m\u001b[1;33m,\u001b[0m \u001b[1;33m(\u001b[0m\u001b[0mlist\u001b[0m\u001b[1;33m,\u001b[0m \u001b[0mtuple\u001b[0m\u001b[1;33m)\u001b[0m\u001b[1;33m)\u001b[0m\u001b[1;33m:\u001b[0m\u001b[1;33m\u001b[0m\u001b[1;33m\u001b[0m\u001b[0m\n\u001b[0;32m    354\u001b[0m             \u001b[0mself\u001b[0m\u001b[1;33m.\u001b[0m\u001b[0mscores_\u001b[0m\u001b[1;33m,\u001b[0m \u001b[0mself\u001b[0m\u001b[1;33m.\u001b[0m\u001b[0mpvalues_\u001b[0m \u001b[1;33m=\u001b[0m \u001b[0mscore_func_ret\u001b[0m\u001b[1;33m\u001b[0m\u001b[1;33m\u001b[0m\u001b[0m\n",
      "\u001b[1;32m~\\anaconda3\\lib\\site-packages\\sklearn\\utils\\validation.py\u001b[0m in \u001b[0;36minner_f\u001b[1;34m(*args, **kwargs)\u001b[0m\n\u001b[0;32m     61\u001b[0m             \u001b[0mextra_args\u001b[0m \u001b[1;33m=\u001b[0m \u001b[0mlen\u001b[0m\u001b[1;33m(\u001b[0m\u001b[0margs\u001b[0m\u001b[1;33m)\u001b[0m \u001b[1;33m-\u001b[0m \u001b[0mlen\u001b[0m\u001b[1;33m(\u001b[0m\u001b[0mall_args\u001b[0m\u001b[1;33m)\u001b[0m\u001b[1;33m\u001b[0m\u001b[1;33m\u001b[0m\u001b[0m\n\u001b[0;32m     62\u001b[0m             \u001b[1;32mif\u001b[0m \u001b[0mextra_args\u001b[0m \u001b[1;33m<=\u001b[0m \u001b[1;36m0\u001b[0m\u001b[1;33m:\u001b[0m\u001b[1;33m\u001b[0m\u001b[1;33m\u001b[0m\u001b[0m\n\u001b[1;32m---> 63\u001b[1;33m                 \u001b[1;32mreturn\u001b[0m \u001b[0mf\u001b[0m\u001b[1;33m(\u001b[0m\u001b[1;33m*\u001b[0m\u001b[0margs\u001b[0m\u001b[1;33m,\u001b[0m \u001b[1;33m**\u001b[0m\u001b[0mkwargs\u001b[0m\u001b[1;33m)\u001b[0m\u001b[1;33m\u001b[0m\u001b[1;33m\u001b[0m\u001b[0m\n\u001b[0m\u001b[0;32m     64\u001b[0m \u001b[1;33m\u001b[0m\u001b[0m\n\u001b[0;32m     65\u001b[0m             \u001b[1;31m# extra_args > 0\u001b[0m\u001b[1;33m\u001b[0m\u001b[1;33m\u001b[0m\u001b[1;33m\u001b[0m\u001b[0m\n",
      "\u001b[1;32m~\\anaconda3\\lib\\site-packages\\sklearn\\feature_selection\\_mutual_info.py\u001b[0m in \u001b[0;36mmutual_info_regression\u001b[1;34m(X, y, discrete_features, n_neighbors, copy, random_state)\u001b[0m\n\u001b[0;32m    365\u001b[0m            \u001b[0mof\u001b[0m \u001b[0ma\u001b[0m \u001b[0mRandom\u001b[0m \u001b[0mVector\u001b[0m\u001b[0;31m\"\u001b[0m\u001b[1;33m,\u001b[0m \u001b[0mProbl\u001b[0m\u001b[1;33m.\u001b[0m \u001b[0mPeredachi\u001b[0m \u001b[0mInf\u001b[0m\u001b[1;33m.\u001b[0m\u001b[1;33m,\u001b[0m \u001b[1;36m23\u001b[0m\u001b[1;33m:\u001b[0m\u001b[1;36m2\u001b[0m \u001b[1;33m(\u001b[0m\u001b[1;36m1987\u001b[0m\u001b[1;33m)\u001b[0m\u001b[1;33m,\u001b[0m \u001b[1;36m9\u001b[0m\u001b[1;33m-\u001b[0m\u001b[1;36m16\u001b[0m\u001b[1;33m\u001b[0m\u001b[1;33m\u001b[0m\u001b[0m\n\u001b[0;32m    366\u001b[0m     \"\"\"\n\u001b[1;32m--> 367\u001b[1;33m     return _estimate_mi(X, y, discrete_features, False, n_neighbors,\n\u001b[0m\u001b[0;32m    368\u001b[0m                         copy, random_state)\n\u001b[0;32m    369\u001b[0m \u001b[1;33m\u001b[0m\u001b[0m\n",
      "\u001b[1;32m~\\anaconda3\\lib\\site-packages\\sklearn\\feature_selection\\_mutual_info.py\u001b[0m in \u001b[0;36m_estimate_mi\u001b[1;34m(X, y, discrete_features, discrete_target, n_neighbors, copy, random_state)\u001b[0m\n\u001b[0;32m    283\u001b[0m         \u001b[0my\u001b[0m \u001b[1;33m+=\u001b[0m \u001b[1;36m1e-10\u001b[0m \u001b[1;33m*\u001b[0m \u001b[0mnp\u001b[0m\u001b[1;33m.\u001b[0m\u001b[0mmaximum\u001b[0m\u001b[1;33m(\u001b[0m\u001b[1;36m1\u001b[0m\u001b[1;33m,\u001b[0m \u001b[0mnp\u001b[0m\u001b[1;33m.\u001b[0m\u001b[0mmean\u001b[0m\u001b[1;33m(\u001b[0m\u001b[0mnp\u001b[0m\u001b[1;33m.\u001b[0m\u001b[0mabs\u001b[0m\u001b[1;33m(\u001b[0m\u001b[0my\u001b[0m\u001b[1;33m)\u001b[0m\u001b[1;33m)\u001b[0m\u001b[1;33m)\u001b[0m \u001b[1;33m*\u001b[0m \u001b[0mrng\u001b[0m\u001b[1;33m.\u001b[0m\u001b[0mrandn\u001b[0m\u001b[1;33m(\u001b[0m\u001b[0mn_samples\u001b[0m\u001b[1;33m)\u001b[0m\u001b[1;33m\u001b[0m\u001b[1;33m\u001b[0m\u001b[0m\n\u001b[0;32m    284\u001b[0m \u001b[1;33m\u001b[0m\u001b[0m\n\u001b[1;32m--> 285\u001b[1;33m     mi = [_compute_mi(x, y, discrete_feature, discrete_target, n_neighbors) for\n\u001b[0m\u001b[0;32m    286\u001b[0m           x, discrete_feature in zip(_iterate_columns(X), discrete_mask)]\n\u001b[0;32m    287\u001b[0m \u001b[1;33m\u001b[0m\u001b[0m\n",
      "\u001b[1;32m~\\anaconda3\\lib\\site-packages\\sklearn\\feature_selection\\_mutual_info.py\u001b[0m in \u001b[0;36m<listcomp>\u001b[1;34m(.0)\u001b[0m\n\u001b[0;32m    283\u001b[0m         \u001b[0my\u001b[0m \u001b[1;33m+=\u001b[0m \u001b[1;36m1e-10\u001b[0m \u001b[1;33m*\u001b[0m \u001b[0mnp\u001b[0m\u001b[1;33m.\u001b[0m\u001b[0mmaximum\u001b[0m\u001b[1;33m(\u001b[0m\u001b[1;36m1\u001b[0m\u001b[1;33m,\u001b[0m \u001b[0mnp\u001b[0m\u001b[1;33m.\u001b[0m\u001b[0mmean\u001b[0m\u001b[1;33m(\u001b[0m\u001b[0mnp\u001b[0m\u001b[1;33m.\u001b[0m\u001b[0mabs\u001b[0m\u001b[1;33m(\u001b[0m\u001b[0my\u001b[0m\u001b[1;33m)\u001b[0m\u001b[1;33m)\u001b[0m\u001b[1;33m)\u001b[0m \u001b[1;33m*\u001b[0m \u001b[0mrng\u001b[0m\u001b[1;33m.\u001b[0m\u001b[0mrandn\u001b[0m\u001b[1;33m(\u001b[0m\u001b[0mn_samples\u001b[0m\u001b[1;33m)\u001b[0m\u001b[1;33m\u001b[0m\u001b[1;33m\u001b[0m\u001b[0m\n\u001b[0;32m    284\u001b[0m \u001b[1;33m\u001b[0m\u001b[0m\n\u001b[1;32m--> 285\u001b[1;33m     mi = [_compute_mi(x, y, discrete_feature, discrete_target, n_neighbors) for\n\u001b[0m\u001b[0;32m    286\u001b[0m           x, discrete_feature in zip(_iterate_columns(X), discrete_mask)]\n\u001b[0;32m    287\u001b[0m \u001b[1;33m\u001b[0m\u001b[0m\n",
      "\u001b[1;32m~\\anaconda3\\lib\\site-packages\\sklearn\\feature_selection\\_mutual_info.py\u001b[0m in \u001b[0;36m_compute_mi\u001b[1;34m(x, y, x_discrete, y_discrete, n_neighbors)\u001b[0m\n\u001b[0;32m    158\u001b[0m         \u001b[1;32mreturn\u001b[0m \u001b[0m_compute_mi_cd\u001b[0m\u001b[1;33m(\u001b[0m\u001b[0mx\u001b[0m\u001b[1;33m,\u001b[0m \u001b[0my\u001b[0m\u001b[1;33m,\u001b[0m \u001b[0mn_neighbors\u001b[0m\u001b[1;33m)\u001b[0m\u001b[1;33m\u001b[0m\u001b[1;33m\u001b[0m\u001b[0m\n\u001b[0;32m    159\u001b[0m     \u001b[1;32melse\u001b[0m\u001b[1;33m:\u001b[0m\u001b[1;33m\u001b[0m\u001b[1;33m\u001b[0m\u001b[0m\n\u001b[1;32m--> 160\u001b[1;33m         \u001b[1;32mreturn\u001b[0m \u001b[0m_compute_mi_cc\u001b[0m\u001b[1;33m(\u001b[0m\u001b[0mx\u001b[0m\u001b[1;33m,\u001b[0m \u001b[0my\u001b[0m\u001b[1;33m,\u001b[0m \u001b[0mn_neighbors\u001b[0m\u001b[1;33m)\u001b[0m\u001b[1;33m\u001b[0m\u001b[1;33m\u001b[0m\u001b[0m\n\u001b[0m\u001b[0;32m    161\u001b[0m \u001b[1;33m\u001b[0m\u001b[0m\n\u001b[0;32m    162\u001b[0m \u001b[1;33m\u001b[0m\u001b[0m\n",
      "\u001b[1;32m~\\anaconda3\\lib\\site-packages\\sklearn\\feature_selection\\_mutual_info.py\u001b[0m in \u001b[0;36m_compute_mi_cc\u001b[1;34m(x, y, n_neighbors)\u001b[0m\n\u001b[0;32m     56\u001b[0m \u001b[1;33m\u001b[0m\u001b[0m\n\u001b[0;32m     57\u001b[0m     \u001b[0mnn\u001b[0m\u001b[1;33m.\u001b[0m\u001b[0mfit\u001b[0m\u001b[1;33m(\u001b[0m\u001b[0mxy\u001b[0m\u001b[1;33m)\u001b[0m\u001b[1;33m\u001b[0m\u001b[1;33m\u001b[0m\u001b[0m\n\u001b[1;32m---> 58\u001b[1;33m     \u001b[0mradius\u001b[0m \u001b[1;33m=\u001b[0m \u001b[0mnn\u001b[0m\u001b[1;33m.\u001b[0m\u001b[0mkneighbors\u001b[0m\u001b[1;33m(\u001b[0m\u001b[1;33m)\u001b[0m\u001b[1;33m[\u001b[0m\u001b[1;36m0\u001b[0m\u001b[1;33m]\u001b[0m\u001b[1;33m\u001b[0m\u001b[1;33m\u001b[0m\u001b[0m\n\u001b[0m\u001b[0;32m     59\u001b[0m     \u001b[0mradius\u001b[0m \u001b[1;33m=\u001b[0m \u001b[0mnp\u001b[0m\u001b[1;33m.\u001b[0m\u001b[0mnextafter\u001b[0m\u001b[1;33m(\u001b[0m\u001b[0mradius\u001b[0m\u001b[1;33m[\u001b[0m\u001b[1;33m:\u001b[0m\u001b[1;33m,\u001b[0m \u001b[1;33m-\u001b[0m\u001b[1;36m1\u001b[0m\u001b[1;33m]\u001b[0m\u001b[1;33m,\u001b[0m \u001b[1;36m0\u001b[0m\u001b[1;33m)\u001b[0m\u001b[1;33m\u001b[0m\u001b[1;33m\u001b[0m\u001b[0m\n\u001b[0;32m     60\u001b[0m \u001b[1;33m\u001b[0m\u001b[0m\n",
      "\u001b[1;32m~\\anaconda3\\lib\\site-packages\\sklearn\\neighbors\\_base.py\u001b[0m in \u001b[0;36mkneighbors\u001b[1;34m(self, X, n_neighbors, return_distance)\u001b[0m\n\u001b[0;32m    720\u001b[0m             \u001b[1;32melse\u001b[0m\u001b[1;33m:\u001b[0m\u001b[1;33m\u001b[0m\u001b[1;33m\u001b[0m\u001b[0m\n\u001b[0;32m    721\u001b[0m                 \u001b[0mparallel_kwargs\u001b[0m \u001b[1;33m=\u001b[0m \u001b[1;33m{\u001b[0m\u001b[1;34m\"prefer\"\u001b[0m\u001b[1;33m:\u001b[0m \u001b[1;34m\"threads\"\u001b[0m\u001b[1;33m}\u001b[0m\u001b[1;33m\u001b[0m\u001b[1;33m\u001b[0m\u001b[0m\n\u001b[1;32m--> 722\u001b[1;33m             chunked_results = Parallel(n_jobs, **parallel_kwargs)(\n\u001b[0m\u001b[0;32m    723\u001b[0m                 delayed(_tree_query_parallel_helper)(\n\u001b[0;32m    724\u001b[0m                     self._tree, X[s], n_neighbors, return_distance)\n",
      "\u001b[1;32m~\\anaconda3\\lib\\site-packages\\joblib\\parallel.py\u001b[0m in \u001b[0;36m__call__\u001b[1;34m(self, iterable)\u001b[0m\n\u001b[0;32m   1039\u001b[0m             \u001b[1;31m# remaining jobs.\u001b[0m\u001b[1;33m\u001b[0m\u001b[1;33m\u001b[0m\u001b[1;33m\u001b[0m\u001b[0m\n\u001b[0;32m   1040\u001b[0m             \u001b[0mself\u001b[0m\u001b[1;33m.\u001b[0m\u001b[0m_iterating\u001b[0m \u001b[1;33m=\u001b[0m \u001b[1;32mFalse\u001b[0m\u001b[1;33m\u001b[0m\u001b[1;33m\u001b[0m\u001b[0m\n\u001b[1;32m-> 1041\u001b[1;33m             \u001b[1;32mif\u001b[0m \u001b[0mself\u001b[0m\u001b[1;33m.\u001b[0m\u001b[0mdispatch_one_batch\u001b[0m\u001b[1;33m(\u001b[0m\u001b[0miterator\u001b[0m\u001b[1;33m)\u001b[0m\u001b[1;33m:\u001b[0m\u001b[1;33m\u001b[0m\u001b[1;33m\u001b[0m\u001b[0m\n\u001b[0m\u001b[0;32m   1042\u001b[0m                 \u001b[0mself\u001b[0m\u001b[1;33m.\u001b[0m\u001b[0m_iterating\u001b[0m \u001b[1;33m=\u001b[0m \u001b[0mself\u001b[0m\u001b[1;33m.\u001b[0m\u001b[0m_original_iterator\u001b[0m \u001b[1;32mis\u001b[0m \u001b[1;32mnot\u001b[0m \u001b[1;32mNone\u001b[0m\u001b[1;33m\u001b[0m\u001b[1;33m\u001b[0m\u001b[0m\n\u001b[0;32m   1043\u001b[0m \u001b[1;33m\u001b[0m\u001b[0m\n",
      "\u001b[1;32m~\\anaconda3\\lib\\site-packages\\joblib\\parallel.py\u001b[0m in \u001b[0;36mdispatch_one_batch\u001b[1;34m(self, iterator)\u001b[0m\n\u001b[0;32m    857\u001b[0m                 \u001b[1;32mreturn\u001b[0m \u001b[1;32mFalse\u001b[0m\u001b[1;33m\u001b[0m\u001b[1;33m\u001b[0m\u001b[0m\n\u001b[0;32m    858\u001b[0m             \u001b[1;32melse\u001b[0m\u001b[1;33m:\u001b[0m\u001b[1;33m\u001b[0m\u001b[1;33m\u001b[0m\u001b[0m\n\u001b[1;32m--> 859\u001b[1;33m                 \u001b[0mself\u001b[0m\u001b[1;33m.\u001b[0m\u001b[0m_dispatch\u001b[0m\u001b[1;33m(\u001b[0m\u001b[0mtasks\u001b[0m\u001b[1;33m)\u001b[0m\u001b[1;33m\u001b[0m\u001b[1;33m\u001b[0m\u001b[0m\n\u001b[0m\u001b[0;32m    860\u001b[0m                 \u001b[1;32mreturn\u001b[0m \u001b[1;32mTrue\u001b[0m\u001b[1;33m\u001b[0m\u001b[1;33m\u001b[0m\u001b[0m\n\u001b[0;32m    861\u001b[0m \u001b[1;33m\u001b[0m\u001b[0m\n",
      "\u001b[1;32m~\\anaconda3\\lib\\site-packages\\joblib\\parallel.py\u001b[0m in \u001b[0;36m_dispatch\u001b[1;34m(self, batch)\u001b[0m\n\u001b[0;32m    775\u001b[0m         \u001b[1;32mwith\u001b[0m \u001b[0mself\u001b[0m\u001b[1;33m.\u001b[0m\u001b[0m_lock\u001b[0m\u001b[1;33m:\u001b[0m\u001b[1;33m\u001b[0m\u001b[1;33m\u001b[0m\u001b[0m\n\u001b[0;32m    776\u001b[0m             \u001b[0mjob_idx\u001b[0m \u001b[1;33m=\u001b[0m \u001b[0mlen\u001b[0m\u001b[1;33m(\u001b[0m\u001b[0mself\u001b[0m\u001b[1;33m.\u001b[0m\u001b[0m_jobs\u001b[0m\u001b[1;33m)\u001b[0m\u001b[1;33m\u001b[0m\u001b[1;33m\u001b[0m\u001b[0m\n\u001b[1;32m--> 777\u001b[1;33m             \u001b[0mjob\u001b[0m \u001b[1;33m=\u001b[0m \u001b[0mself\u001b[0m\u001b[1;33m.\u001b[0m\u001b[0m_backend\u001b[0m\u001b[1;33m.\u001b[0m\u001b[0mapply_async\u001b[0m\u001b[1;33m(\u001b[0m\u001b[0mbatch\u001b[0m\u001b[1;33m,\u001b[0m \u001b[0mcallback\u001b[0m\u001b[1;33m=\u001b[0m\u001b[0mcb\u001b[0m\u001b[1;33m)\u001b[0m\u001b[1;33m\u001b[0m\u001b[1;33m\u001b[0m\u001b[0m\n\u001b[0m\u001b[0;32m    778\u001b[0m             \u001b[1;31m# A job can complete so quickly than its callback is\u001b[0m\u001b[1;33m\u001b[0m\u001b[1;33m\u001b[0m\u001b[1;33m\u001b[0m\u001b[0m\n\u001b[0;32m    779\u001b[0m             \u001b[1;31m# called before we get here, causing self._jobs to\u001b[0m\u001b[1;33m\u001b[0m\u001b[1;33m\u001b[0m\u001b[1;33m\u001b[0m\u001b[0m\n",
      "\u001b[1;32m~\\anaconda3\\lib\\site-packages\\joblib\\_parallel_backends.py\u001b[0m in \u001b[0;36mapply_async\u001b[1;34m(self, func, callback)\u001b[0m\n\u001b[0;32m    206\u001b[0m     \u001b[1;32mdef\u001b[0m \u001b[0mapply_async\u001b[0m\u001b[1;33m(\u001b[0m\u001b[0mself\u001b[0m\u001b[1;33m,\u001b[0m \u001b[0mfunc\u001b[0m\u001b[1;33m,\u001b[0m \u001b[0mcallback\u001b[0m\u001b[1;33m=\u001b[0m\u001b[1;32mNone\u001b[0m\u001b[1;33m)\u001b[0m\u001b[1;33m:\u001b[0m\u001b[1;33m\u001b[0m\u001b[1;33m\u001b[0m\u001b[0m\n\u001b[0;32m    207\u001b[0m         \u001b[1;34m\"\"\"Schedule a func to be run\"\"\"\u001b[0m\u001b[1;33m\u001b[0m\u001b[1;33m\u001b[0m\u001b[0m\n\u001b[1;32m--> 208\u001b[1;33m         \u001b[0mresult\u001b[0m \u001b[1;33m=\u001b[0m \u001b[0mImmediateResult\u001b[0m\u001b[1;33m(\u001b[0m\u001b[0mfunc\u001b[0m\u001b[1;33m)\u001b[0m\u001b[1;33m\u001b[0m\u001b[1;33m\u001b[0m\u001b[0m\n\u001b[0m\u001b[0;32m    209\u001b[0m         \u001b[1;32mif\u001b[0m \u001b[0mcallback\u001b[0m\u001b[1;33m:\u001b[0m\u001b[1;33m\u001b[0m\u001b[1;33m\u001b[0m\u001b[0m\n\u001b[0;32m    210\u001b[0m             \u001b[0mcallback\u001b[0m\u001b[1;33m(\u001b[0m\u001b[0mresult\u001b[0m\u001b[1;33m)\u001b[0m\u001b[1;33m\u001b[0m\u001b[1;33m\u001b[0m\u001b[0m\n",
      "\u001b[1;32m~\\anaconda3\\lib\\site-packages\\joblib\\_parallel_backends.py\u001b[0m in \u001b[0;36m__init__\u001b[1;34m(self, batch)\u001b[0m\n\u001b[0;32m    570\u001b[0m         \u001b[1;31m# Don't delay the application, to avoid keeping the input\u001b[0m\u001b[1;33m\u001b[0m\u001b[1;33m\u001b[0m\u001b[1;33m\u001b[0m\u001b[0m\n\u001b[0;32m    571\u001b[0m         \u001b[1;31m# arguments in memory\u001b[0m\u001b[1;33m\u001b[0m\u001b[1;33m\u001b[0m\u001b[1;33m\u001b[0m\u001b[0m\n\u001b[1;32m--> 572\u001b[1;33m         \u001b[0mself\u001b[0m\u001b[1;33m.\u001b[0m\u001b[0mresults\u001b[0m \u001b[1;33m=\u001b[0m \u001b[0mbatch\u001b[0m\u001b[1;33m(\u001b[0m\u001b[1;33m)\u001b[0m\u001b[1;33m\u001b[0m\u001b[1;33m\u001b[0m\u001b[0m\n\u001b[0m\u001b[0;32m    573\u001b[0m \u001b[1;33m\u001b[0m\u001b[0m\n\u001b[0;32m    574\u001b[0m     \u001b[1;32mdef\u001b[0m \u001b[0mget\u001b[0m\u001b[1;33m(\u001b[0m\u001b[0mself\u001b[0m\u001b[1;33m)\u001b[0m\u001b[1;33m:\u001b[0m\u001b[1;33m\u001b[0m\u001b[1;33m\u001b[0m\u001b[0m\n",
      "\u001b[1;32m~\\anaconda3\\lib\\site-packages\\joblib\\parallel.py\u001b[0m in \u001b[0;36m__call__\u001b[1;34m(self)\u001b[0m\n\u001b[0;32m    260\u001b[0m         \u001b[1;31m# change the default number of processes to -1\u001b[0m\u001b[1;33m\u001b[0m\u001b[1;33m\u001b[0m\u001b[1;33m\u001b[0m\u001b[0m\n\u001b[0;32m    261\u001b[0m         \u001b[1;32mwith\u001b[0m \u001b[0mparallel_backend\u001b[0m\u001b[1;33m(\u001b[0m\u001b[0mself\u001b[0m\u001b[1;33m.\u001b[0m\u001b[0m_backend\u001b[0m\u001b[1;33m,\u001b[0m \u001b[0mn_jobs\u001b[0m\u001b[1;33m=\u001b[0m\u001b[0mself\u001b[0m\u001b[1;33m.\u001b[0m\u001b[0m_n_jobs\u001b[0m\u001b[1;33m)\u001b[0m\u001b[1;33m:\u001b[0m\u001b[1;33m\u001b[0m\u001b[1;33m\u001b[0m\u001b[0m\n\u001b[1;32m--> 262\u001b[1;33m             return [func(*args, **kwargs)\n\u001b[0m\u001b[0;32m    263\u001b[0m                     for func, args, kwargs in self.items]\n\u001b[0;32m    264\u001b[0m \u001b[1;33m\u001b[0m\u001b[0m\n",
      "\u001b[1;32m~\\anaconda3\\lib\\site-packages\\joblib\\parallel.py\u001b[0m in \u001b[0;36m<listcomp>\u001b[1;34m(.0)\u001b[0m\n\u001b[0;32m    260\u001b[0m         \u001b[1;31m# change the default number of processes to -1\u001b[0m\u001b[1;33m\u001b[0m\u001b[1;33m\u001b[0m\u001b[1;33m\u001b[0m\u001b[0m\n\u001b[0;32m    261\u001b[0m         \u001b[1;32mwith\u001b[0m \u001b[0mparallel_backend\u001b[0m\u001b[1;33m(\u001b[0m\u001b[0mself\u001b[0m\u001b[1;33m.\u001b[0m\u001b[0m_backend\u001b[0m\u001b[1;33m,\u001b[0m \u001b[0mn_jobs\u001b[0m\u001b[1;33m=\u001b[0m\u001b[0mself\u001b[0m\u001b[1;33m.\u001b[0m\u001b[0m_n_jobs\u001b[0m\u001b[1;33m)\u001b[0m\u001b[1;33m:\u001b[0m\u001b[1;33m\u001b[0m\u001b[1;33m\u001b[0m\u001b[0m\n\u001b[1;32m--> 262\u001b[1;33m             return [func(*args, **kwargs)\n\u001b[0m\u001b[0;32m    263\u001b[0m                     for func, args, kwargs in self.items]\n\u001b[0;32m    264\u001b[0m \u001b[1;33m\u001b[0m\u001b[0m\n",
      "\u001b[1;32m~\\anaconda3\\lib\\site-packages\\sklearn\\utils\\fixes.py\u001b[0m in \u001b[0;36m__call__\u001b[1;34m(self, *args, **kwargs)\u001b[0m\n\u001b[0;32m    220\u001b[0m     \u001b[1;32mdef\u001b[0m \u001b[0m__call__\u001b[0m\u001b[1;33m(\u001b[0m\u001b[0mself\u001b[0m\u001b[1;33m,\u001b[0m \u001b[1;33m*\u001b[0m\u001b[0margs\u001b[0m\u001b[1;33m,\u001b[0m \u001b[1;33m**\u001b[0m\u001b[0mkwargs\u001b[0m\u001b[1;33m)\u001b[0m\u001b[1;33m:\u001b[0m\u001b[1;33m\u001b[0m\u001b[1;33m\u001b[0m\u001b[0m\n\u001b[0;32m    221\u001b[0m         \u001b[1;32mwith\u001b[0m \u001b[0mconfig_context\u001b[0m\u001b[1;33m(\u001b[0m\u001b[1;33m**\u001b[0m\u001b[0mself\u001b[0m\u001b[1;33m.\u001b[0m\u001b[0mconfig\u001b[0m\u001b[1;33m)\u001b[0m\u001b[1;33m:\u001b[0m\u001b[1;33m\u001b[0m\u001b[1;33m\u001b[0m\u001b[0m\n\u001b[1;32m--> 222\u001b[1;33m             \u001b[1;32mreturn\u001b[0m \u001b[0mself\u001b[0m\u001b[1;33m.\u001b[0m\u001b[0mfunction\u001b[0m\u001b[1;33m(\u001b[0m\u001b[1;33m*\u001b[0m\u001b[0margs\u001b[0m\u001b[1;33m,\u001b[0m \u001b[1;33m**\u001b[0m\u001b[0mkwargs\u001b[0m\u001b[1;33m)\u001b[0m\u001b[1;33m\u001b[0m\u001b[1;33m\u001b[0m\u001b[0m\n\u001b[0m",
      "\u001b[1;32m~\\anaconda3\\lib\\site-packages\\sklearn\\neighbors\\_base.py\u001b[0m in \u001b[0;36m_tree_query_parallel_helper\u001b[1;34m(tree, *args, **kwargs)\u001b[0m\n\u001b[0;32m    545\u001b[0m     \u001b[0munder\u001b[0m \u001b[0mPyPy\u001b[0m\u001b[1;33m.\u001b[0m\u001b[1;33m\u001b[0m\u001b[1;33m\u001b[0m\u001b[0m\n\u001b[0;32m    546\u001b[0m     \"\"\"\n\u001b[1;32m--> 547\u001b[1;33m     \u001b[1;32mreturn\u001b[0m \u001b[0mtree\u001b[0m\u001b[1;33m.\u001b[0m\u001b[0mquery\u001b[0m\u001b[1;33m(\u001b[0m\u001b[1;33m*\u001b[0m\u001b[0margs\u001b[0m\u001b[1;33m,\u001b[0m \u001b[1;33m**\u001b[0m\u001b[0mkwargs\u001b[0m\u001b[1;33m)\u001b[0m\u001b[1;33m\u001b[0m\u001b[1;33m\u001b[0m\u001b[0m\n\u001b[0m\u001b[0;32m    548\u001b[0m \u001b[1;33m\u001b[0m\u001b[0m\n\u001b[0;32m    549\u001b[0m \u001b[1;33m\u001b[0m\u001b[0m\n",
      "\u001b[1;31mKeyboardInterrupt\u001b[0m: "
     ]
    }
   ],
   "source": [
    "# 출력을 위한 max_iter_num 계산\n",
    "max_iter_num = len(range(30, 4, -5)) * len(model_parameter_dict) * len(XL_parameter_grid) ** 2\n",
    "           \n",
    "from sklearn.metrics import mean_absolute_error as MAE\n",
    "best_score = 9999999999 # 작을수록 좋은 값\n",
    "iteration_num = 0\n",
    "# 상호관련성 기반: mutual_info_regression , k: 특징의 개수\n",
    "for k in tqdm(range(30, 4, -5)): \n",
    "    selector = SelectKBest(mutual_info_regression, k = k).fit(Train_X, Train_Y)\n",
    "    s_Train_X = selector.transform(Train_X)\n",
    "    s_Test_X = selector.transform(Test_X)\n",
    "    # lgm: nd.array로 입력하는 것이 오류 줄임.\n",
    "    \n",
    "    for model_func in tqdm(model_parameter_dict.keys()):\n",
    "        for parameter in model_parameter_dict[model_func]:\n",
    "            model = model_func(**parameter).fit(s_Train_X, Train_Y) # Light GBM은 DataFrame의 컬럼 이름에 대한 제약이 있어, ndarray를 입력으로 사용\n",
    "            pred_Y = model.predict(s_Test_X)\n",
    "            score = MAE(Test_Y, pred_Y)\n",
    "            \n",
    "            if score < best_score:\n",
    "                print(k, model_func, parameter, score)\n",
    "                best_score = score\n",
    "                best_model_func = model_func\n",
    "                best_parameter = parameter\n",
    "                best_selector = selector\n",
    "\n",
    "            iteration_num += 1\n",
    "            print(\"iter_num:{}/{}, score: {}, best_score: {}\".format(iteration_num, max_iter_num, round(score, 2), round(best_score, 2)))"
   ]
  },
  {
   "cell_type": "code",
   "execution_count": 137,
   "metadata": {
    "ExecuteTime": {
     "end_time": "2021-12-06T02:58:21.010335Z",
     "start_time": "2021-12-06T02:58:20.995053Z"
    }
   },
   "outputs": [
    {
     "data": {
      "text/plain": [
       "XGBRegressor(base_score=0.5, booster='gbtree', colsample_bylevel=1,\n",
       "             colsample_bynode=1, colsample_bytree=1, enable_categorical=False,\n",
       "             gamma=0, gpu_id=-1, importance_type=None,\n",
       "             interaction_constraints='', learning_rate=0.2, max_delta_step=0,\n",
       "             max_depth=5, min_child_weight=1, missing=nan,\n",
       "             monotone_constraints='()', n_estimators=200, n_jobs=8,\n",
       "             num_parallel_tree=1, predictor='auto', random_state=0, reg_alpha=0,\n",
       "             reg_lambda=1, scale_pos_weight=1, subsample=1, tree_method='exact',\n",
       "             validate_parameters=1, verbosity=None)"
      ]
     },
     "execution_count": 137,
     "metadata": {},
     "output_type": "execute_result"
    }
   ],
   "source": [
    "model"
   ]
  },
  {
   "cell_type": "code",
   "execution_count": 88,
   "metadata": {
    "ExecuteTime": {
     "end_time": "2021-12-06T02:50:31.424907Z",
     "start_time": "2021-12-06T02:50:20.691443Z"
    },
    "executionInfo": {
     "elapsed": 3489,
     "status": "ok",
     "timestamp": 1638434382773,
     "user": {
      "displayName": "이구미",
      "photoUrl": "https://lh3.googleusercontent.com/a/default-user=s64",
      "userId": "08177866432571939523"
     },
     "user_tz": -540
    },
    "id": "8PF_mrr3-BwB"
   },
   "outputs": [],
   "source": [
    "final_X = pd.concat([Train_X, Test_X], axis = 0, ignore_index = True)\n",
    "final_Y = pd.concat([Train_Y, Test_Y], axis = 0, ignore_index = True)\n",
    "\n",
    "final_model = best_model_func(**best_parameter).fit(best_selector.transform(final_X), final_Y)"
   ]
  },
  {
   "cell_type": "markdown",
   "metadata": {
    "id": "z5XXXvXp-BwB"
   },
   "source": [
    "### 파이프라인 구축"
   ]
  },
  {
   "cell_type": "code",
   "execution_count": 66,
   "metadata": {
    "ExecuteTime": {
     "end_time": "2021-12-02T03:30:56.337449Z",
     "start_time": "2021-12-02T03:30:56.324313Z"
    },
    "executionInfo": {
     "elapsed": 388,
     "status": "ok",
     "timestamp": 1638430736709,
     "user": {
      "displayName": "이구미",
      "photoUrl": "https://lh3.googleusercontent.com/a/default-user=s64",
      "userId": "08177866432571939523"
     },
     "user_tz": -540
    },
    "id": "-CIEfgre-BwB"
   },
   "outputs": [],
   "source": [
    "# df: 새로운 데이터 셋\n",
    "# 일련의 전처리 과정\n",
    "# "
   ]
  },
  {
   "cell_type": "code",
   "execution_count": 117,
   "metadata": {
    "ExecuteTime": {
     "end_time": "2021-12-06T02:56:03.636863Z",
     "start_time": "2021-12-06T02:56:03.607911Z"
    },
    "executionInfo": {
     "elapsed": 359,
     "status": "ok",
     "timestamp": 1638434391450,
     "user": {
      "displayName": "이구미",
      "photoUrl": "https://lh3.googleusercontent.com/a/default-user=s64",
      "userId": "08177866432571939523"
     },
     "user_tz": -540
    },
    "id": "kPwst7wo-BwC"
   },
   "outputs": [],
   "source": [
    "def pipeline(df, model, selector, mean_price_per_gu, amenity,course, imputer, dummy_model):\n",
    "    \n",
    "    # 첫 열 삭제\n",
    "    del df['Unnamed: 0']\n",
    "    \n",
    "    # 결측치 처리\n",
    "    df.drop(df[df.isnull().any(axis=1)].index, axis=0 , inplace=True)\n",
    "    df.reset_index(drop=True, inplace=True)\n",
    "    \n",
    "    #아파트top10 브랜드 추가하기\n",
    "    df['apt_nm'] = 'apt_name'\n",
    "    for i in tqdm(range(len(df))):\n",
    "       df.at[i, 'apt_nm'] = re.sub('\\(.*\\)|\\s-\\s.*', '', df.at[i,'apt'])\n",
    "    \n",
    "    top10 = ['자이', '푸르지오', '더샵', '롯데캐슬', '이편한|e편한|e-편한',\n",
    "         '힐스테이트', '아이파크|I\\'PARK|I-Park|IPARK|I-PARK', '래미안', 'sk|SK|Sk|sK|에스케이', '플래티넘']\n",
    "    \n",
    "    df['top10_apt'] = 0\n",
    "    for brand in tqdm(top10):\n",
    "        df.loc[df['apt_nm'].str.contains(brand),'top10_apt'] = 1\n",
    "    \n",
    "    \n",
    "    # 시-구-동 나누기\n",
    "    city_name = df['city'].str.split(' ',expand=True)\n",
    "    city_name.rename(columns = {0 : 'city_nm', 1: '시군구', 2 : 'dong' }, inplace=True)\n",
    "    df = pd.concat([df,city_name],axis = 1)\n",
    "    del df['city']\n",
    "    df.rename(columns = {'city_nm':'city'}, inplace=True)\n",
    "    \n",
    "    # 'addr_kr'로 col명 변경\n",
    "    df.rename(columns = {'addr':'addr_kr'}, inplace=True)\n",
    "    df.drop([ 'addr_kr'], axis = 1, inplace = True)\n",
    "    \n",
    "    # age 변수 부착\n",
    "    df['age'] = 2021 - df['year_of_completion']\n",
    "    df.drop('year_of_completion', axis = 1, inplace = True)    \n",
    "    \n",
    "    # 거래 년월 부착\n",
    "    df['transaction_year_month'] = df['transaction_year_month'].astype(int) \n",
    "    df['transaction_year_month'] = df['transaction_year_month'].astype(str)\n",
    "    df['transaction_year'] = df['transaction_year_month'].str[:4].astype(int)\n",
    "    df['transaction_month'] = df['transaction_year_month'].str[4:].astype(int)\n",
    "    del df['transaction_year_month']\n",
    "    \n",
    "    # floor_level 변수 생성\n",
    "    \n",
    "    df['floor_level'] = df['floor'].apply(floor_level_converter)\n",
    "    df.drop('floor', axis = 1, inplace = True)    \n",
    "    \n",
    "    # 시세 관련 변수 추가\n",
    "    df = pd.merge(df, mean_price_per_gu, on = ['city', '시군구'])\n",
    "    df = pd.merge(df, price_per_gu_and_year, on = ['city', '시군구', 'transaction_year'], how = 'left')\n",
    "    df['구별_작년_거래량'].fillna(0, inplace = True) # 구별 작년 거래 데이터가 없다는 것은, 구별 작년 거래량이 0이라는 이야기이므로 fillna(0)을 수행\n",
    "    \n",
    "    # 편의시설통합 정보 합치기\n",
    "    df = pd.merge(df, amenity,left_on='시군구',right_on='구',how='left')\n",
    "    df.drop('구', axis=1,inplace=True)\n",
    "    \n",
    "    # 공원 데이터 부착\n",
    "    df = pd.merge(df, num_park_per_dong, left_on = ['city', '시군구', 'dong'], right_on = ['city', 'gu', 'dong'], how = 'left')\n",
    "    df['공원수'].fillna(0, inplace = True)\n",
    "    df.drop('gu', axis = 1, inplace = True)\n",
    "\n",
    "    df = pd.merge(df, num_facilty_per_dong, left_on = ['city', '시군구', 'dong'], right_on = ['city', 'gu', 'dong'], how = 'left')\n",
    "    \n",
    "    facility_cols = ['park_exercise_facility', 'park_entertainment_facility', 'park_benefit_facility', 'park_cultural_facitiy', 'park_facility_other']\n",
    "    df[facility_cols].fillna(0, inplace = True)\n",
    "    df.drop('gu', axis = 1, inplace = True)    \n",
    "    \n",
    "    # 어린이집 데이터 부착\n",
    "    df = pd.merge(df, aggregated_day_care_center_df, left_on = ['city', '시군구'], right_on = ['city', 'gu'], how = 'left')\n",
    "    df[aggregated_day_care_center_df.columns].fillna(0, inplace = True)\n",
    "    df.drop('gu', axis = 1, inplace = True)\n",
    "    \n",
    "    # 불필요한 변수 삭제\n",
    "    df.drop('apt_nm', axis = 1, inplace = True) \n",
    "    # 산책로 데이터 부착\n",
    "    df=pd.merge(df, course, left_on='시군구',right_on='gu', how='left')\n",
    "    df=df.drop('course_count', axis=1)\n",
    "    # 특징 추출 ('transaction_real_price'는 drop 대상에서 제외)\n",
    "    X = df.drop(['gu','city', 'dong', 'apt', 'transaction_date','시군구', 'transaction_real_price','transaction_year', 'transaction_month'], axis = 1)\n",
    "    \n",
    "    # 더미화\n",
    "    X = dummy_model.transform(X)\n",
    "    \n",
    "    # 결측 대체\n",
    "    X = imputer.transform(X)\n",
    "            \n",
    "    # 특징 선택\n",
    "    X = selector.transform(X)\n",
    "    \n",
    "    return  model.predict(X)"
   ]
  },
  {
   "cell_type": "code",
   "execution_count": 118,
   "metadata": {
    "ExecuteTime": {
     "end_time": "2021-12-06T02:56:07.513942Z",
     "start_time": "2021-12-06T02:56:07.460049Z"
    },
    "executionInfo": {
     "elapsed": 371,
     "status": "ok",
     "timestamp": 1638434401708,
     "user": {
      "displayName": "이구미",
      "photoUrl": "https://lh3.googleusercontent.com/a/default-user=s64",
      "userId": "08177866432571939523"
     },
     "user_tz": -540
    },
    "id": "2-K9Xmj7-BwC"
   },
   "outputs": [],
   "source": [
    "# 모델 저장\n",
    "import pickle\n",
    "pipeline_element = {\n",
    "                   \"model\":final_model,\n",
    "                   \"selector\":best_selector,\n",
    "                   \"mean_price_per_gu\":mean_price_per_gu,\n",
    "                   \"amenity\":amenity,\n",
    "                   \"imputer\":imputer,\n",
    "                    \"course\" : course,\n",
    "                   \"dummy_model\":dummy_model,\n",
    "                   \"pipeline\":pipeline}\n",
    "\n",
    "# write binary: write pickle file \n",
    "with open(\"아파트실거래가예측모델.pckl\", \"wb\") as f:\n",
    "    pickle.dump(pipeline_element, f)"
   ]
  },
  {
   "cell_type": "code",
   "execution_count": 119,
   "metadata": {
    "ExecuteTime": {
     "end_time": "2021-12-06T02:56:08.456765Z",
     "start_time": "2021-12-06T02:56:08.397815Z"
    },
    "executionInfo": {
     "elapsed": 504,
     "status": "ok",
     "timestamp": 1638434406407,
     "user": {
      "displayName": "이구미",
      "photoUrl": "https://lh3.googleusercontent.com/a/default-user=s64",
      "userId": "08177866432571939523"
     },
     "user_tz": -540
    },
    "id": "BkBsqnsm-BwC"
   },
   "outputs": [],
   "source": [
    "# 모델 불러오기\n",
    "with open(\"아파트실거래가예측모델.pckl\", \"rb\") as f:\n",
    "    pipeline_element = pickle.load(f)\n",
    "\n",
    "\n",
    "model = pipeline_element[\"model\"]\n",
    "selector = pipeline_element[\"selector\"]                 \n",
    "mean_price_per_gu = pipeline_element[\"mean_price_per_gu\"]\n",
    "amenity = pipeline_element[\"amenity\"]\n",
    "imputer = pipeline_element[\"imputer\"]\n",
    "course = pipeline_element['course']\n",
    "dummy_model = pipeline_element[\"dummy_model\"]\n",
    "pipeline = pipeline_element[\"pipeline\"]"
   ]
  },
  {
   "cell_type": "code",
   "execution_count": 122,
   "metadata": {
    "ExecuteTime": {
     "end_time": "2021-12-06T02:56:26.775401Z",
     "start_time": "2021-12-06T02:56:26.476245Z"
    },
    "colab": {
     "base_uri": "https://localhost:8080/",
     "height": 133
    },
    "executionInfo": {
     "elapsed": 518,
     "status": "ok",
     "timestamp": 1638434416078,
     "user": {
      "displayName": "이구미",
      "photoUrl": "https://lh3.googleusercontent.com/a/default-user=s64",
      "userId": "08177866432571939523"
     },
     "user_tz": -540
    },
    "id": "3g2v3-Ld-BwD",
    "outputId": "0a986290-df97-4e72-c7b8-1f4b7bdd993c",
    "scrolled": true
   },
   "outputs": [
    {
     "data": {
      "text/html": [
       "<div>\n",
       "<style scoped>\n",
       "    .dataframe tbody tr th:only-of-type {\n",
       "        vertical-align: middle;\n",
       "    }\n",
       "\n",
       "    .dataframe tbody tr th {\n",
       "        vertical-align: top;\n",
       "    }\n",
       "\n",
       "    .dataframe thead th {\n",
       "        text-align: right;\n",
       "    }\n",
       "</style>\n",
       "<table border=\"1\" class=\"dataframe\">\n",
       "  <thead>\n",
       "    <tr style=\"text-align: right;\">\n",
       "      <th></th>\n",
       "      <th>Unnamed: 0</th>\n",
       "      <th>city</th>\n",
       "      <th>apt</th>\n",
       "      <th>exclusive_use_area</th>\n",
       "      <th>transaction_year_month</th>\n",
       "      <th>transaction_date</th>\n",
       "      <th>transaction_real_price</th>\n",
       "      <th>floor</th>\n",
       "      <th>year_of_completion</th>\n",
       "      <th>addr</th>\n",
       "    </tr>\n",
       "  </thead>\n",
       "  <tbody>\n",
       "    <tr>\n",
       "      <th>0</th>\n",
       "      <td>0</td>\n",
       "      <td>서울특별시 강남구 개포동</td>\n",
       "      <td>개포2차현대아파트(220)</td>\n",
       "      <td>77.75</td>\n",
       "      <td>202104.0</td>\n",
       "      <td>15.0</td>\n",
       "      <td>174000.0</td>\n",
       "      <td>9.0</td>\n",
       "      <td>1988.0</td>\n",
       "      <td>언주로 103</td>\n",
       "    </tr>\n",
       "  </tbody>\n",
       "</table>\n",
       "</div>"
      ],
      "text/plain": [
       "   Unnamed: 0           city             apt  exclusive_use_area  \\\n",
       "0           0  서울특별시 강남구 개포동  개포2차현대아파트(220)               77.75   \n",
       "\n",
       "   transaction_year_month  transaction_date  transaction_real_price  floor  \\\n",
       "0                202104.0              15.0                174000.0    9.0   \n",
       "\n",
       "   year_of_completion     addr  \n",
       "0              1988.0  언주로 103  "
      ]
     },
     "execution_count": 122,
     "metadata": {},
     "output_type": "execute_result"
    }
   ],
   "source": [
    "test_df = pd.read_csv(r\"C:\\Users\\user\\Desktop\\SSAC\\price_project\\data\\test_seoul_2021.csv\",engine = \"python\", encoding = \"utf8\")\n",
    "test_df.head(1)"
   ]
  },
  {
   "cell_type": "code",
   "execution_count": 123,
   "metadata": {
    "ExecuteTime": {
     "end_time": "2021-12-06T02:56:27.687265Z",
     "start_time": "2021-12-06T02:56:27.671300Z"
    },
    "colab": {
     "base_uri": "https://localhost:8080/"
    },
    "executionInfo": {
     "elapsed": 9,
     "status": "ok",
     "timestamp": 1638430764583,
     "user": {
      "displayName": "이구미",
      "photoUrl": "https://lh3.googleusercontent.com/a/default-user=s64",
      "userId": "08177866432571939523"
     },
     "user_tz": -540
    },
    "id": "r1O_Lh43-BwD",
    "outputId": "071fbc7f-8d16-4289-fbec-09b98aabbb51"
   },
   "outputs": [
    {
     "data": {
      "text/plain": [
       "(41166, 10)"
      ]
     },
     "execution_count": 123,
     "metadata": {},
     "output_type": "execute_result"
    }
   ],
   "source": [
    "test_df.shape"
   ]
  },
  {
   "cell_type": "code",
   "execution_count": 124,
   "metadata": {
    "ExecuteTime": {
     "end_time": "2021-12-06T02:56:28.488717Z",
     "start_time": "2021-12-06T02:56:28.467788Z"
    },
    "colab": {
     "base_uri": "https://localhost:8080/"
    },
    "executionInfo": {
     "elapsed": 362,
     "status": "ok",
     "timestamp": 1638430766777,
     "user": {
      "displayName": "이구미",
      "photoUrl": "https://lh3.googleusercontent.com/a/default-user=s64",
      "userId": "08177866432571939523"
     },
     "user_tz": -540
    },
    "id": "9XlB35i3-BwD",
    "outputId": "9be271e4-44fd-4d37-e8e2-79f157c9d686"
   },
   "outputs": [
    {
     "name": "stdout",
     "output_type": "stream",
     "text": [
      "<class 'pandas.core.frame.DataFrame'>\n",
      "RangeIndex: 41166 entries, 0 to 41165\n",
      "Data columns (total 10 columns):\n",
      " #   Column                  Non-Null Count  Dtype  \n",
      "---  ------                  --------------  -----  \n",
      " 0   Unnamed: 0              41166 non-null  int64  \n",
      " 1   city                    41151 non-null  object \n",
      " 2   apt                     41151 non-null  object \n",
      " 3   exclusive_use_area      41151 non-null  float64\n",
      " 4   transaction_year_month  41151 non-null  float64\n",
      " 5   transaction_date        41151 non-null  float64\n",
      " 6   transaction_real_price  41151 non-null  float64\n",
      " 7   floor                   41151 non-null  float64\n",
      " 8   year_of_completion      41151 non-null  float64\n",
      " 9   addr                    41151 non-null  object \n",
      "dtypes: float64(6), int64(1), object(3)\n",
      "memory usage: 3.1+ MB\n"
     ]
    }
   ],
   "source": [
    "test_df.info()"
   ]
  },
  {
   "cell_type": "markdown",
   "metadata": {
    "id": "w0QBcc37-BwD"
   },
   "source": [
    "- test data를 결측값이 없도록 전처리하며 reindexing해줌"
   ]
  },
  {
   "cell_type": "code",
   "execution_count": 125,
   "metadata": {
    "ExecuteTime": {
     "end_time": "2021-12-06T02:56:29.851357Z",
     "start_time": "2021-12-06T02:56:29.821438Z"
    },
    "executionInfo": {
     "elapsed": 358,
     "status": "ok",
     "timestamp": 1638434427083,
     "user": {
      "displayName": "이구미",
      "photoUrl": "https://lh3.googleusercontent.com/a/default-user=s64",
      "userId": "08177866432571939523"
     },
     "user_tz": -540
    },
    "id": "JBg2BzZT-BwD"
   },
   "outputs": [],
   "source": [
    "no_null = test_df.drop(test_df[test_df.isnull().any(axis=1)].index, axis=0)"
   ]
  },
  {
   "cell_type": "code",
   "execution_count": 126,
   "metadata": {
    "ExecuteTime": {
     "end_time": "2021-12-06T02:56:30.605018Z",
     "start_time": "2021-12-06T02:56:30.593445Z"
    },
    "executionInfo": {
     "elapsed": 360,
     "status": "ok",
     "timestamp": 1638434430177,
     "user": {
      "displayName": "이구미",
      "photoUrl": "https://lh3.googleusercontent.com/a/default-user=s64",
      "userId": "08177866432571939523"
     },
     "user_tz": -540
    },
    "id": "Tu6vVNr9-BwE"
   },
   "outputs": [],
   "source": [
    "no_null.reset_index(drop=True, inplace=True)"
   ]
  },
  {
   "cell_type": "code",
   "execution_count": 127,
   "metadata": {
    "ExecuteTime": {
     "end_time": "2021-12-06T02:56:31.327348Z",
     "start_time": "2021-12-06T02:56:31.323359Z"
    },
    "executionInfo": {
     "elapsed": 480,
     "status": "ok",
     "timestamp": 1638434433213,
     "user": {
      "displayName": "이구미",
      "photoUrl": "https://lh3.googleusercontent.com/a/default-user=s64",
      "userId": "08177866432571939523"
     },
     "user_tz": -540
    },
    "id": "zDqBqux2-BwE"
   },
   "outputs": [],
   "source": [
    "test_real_price = no_null['transaction_real_price']"
   ]
  },
  {
   "cell_type": "code",
   "execution_count": 128,
   "metadata": {
    "ExecuteTime": {
     "end_time": "2021-12-06T02:56:32.061655Z",
     "start_time": "2021-12-06T02:56:32.038194Z"
    },
    "colab": {
     "base_uri": "https://localhost:8080/"
    },
    "executionInfo": {
     "elapsed": 361,
     "status": "ok",
     "timestamp": 1638430778900,
     "user": {
      "displayName": "이구미",
      "photoUrl": "https://lh3.googleusercontent.com/a/default-user=s64",
      "userId": "08177866432571939523"
     },
     "user_tz": -540
    },
    "id": "Hcz-DzRm-BwE",
    "outputId": "8cc9ed00-739f-4baf-ae91-768111e4a87b"
   },
   "outputs": [
    {
     "data": {
      "text/plain": [
       "0        174000.0\n",
       "1        195000.0\n",
       "2        200000.0\n",
       "3        220000.0\n",
       "4        245000.0\n",
       "           ...   \n",
       "41146     88000.0\n",
       "41147     30500.0\n",
       "41148     49500.0\n",
       "41149     30000.0\n",
       "41150     61500.0\n",
       "Name: transaction_real_price, Length: 41151, dtype: float64"
      ]
     },
     "execution_count": 128,
     "metadata": {},
     "output_type": "execute_result"
    }
   ],
   "source": [
    "test_real_price"
   ]
  },
  {
   "cell_type": "code",
   "execution_count": 113,
   "metadata": {
    "ExecuteTime": {
     "end_time": "2021-12-06T02:54:14.707190Z",
     "start_time": "2021-12-06T02:54:14.696220Z"
    },
    "colab": {
     "base_uri": "https://localhost:8080/"
    },
    "executionInfo": {
     "elapsed": 15,
     "status": "ok",
     "timestamp": 1638434443210,
     "user": {
      "displayName": "이구미",
      "photoUrl": "https://lh3.googleusercontent.com/a/default-user=s64",
      "userId": "08177866432571939523"
     },
     "user_tz": -540
    },
    "id": "brCfzsBw-BwE",
    "outputId": "ef5c09b4-868d-4b5c-92fc-c26e5b21adcb"
   },
   "outputs": [
    {
     "data": {
      "text/plain": [
       "array([174000., 195000., 200000., ...,  49500.,  30000.,  61500.])"
      ]
     },
     "execution_count": 113,
     "metadata": {},
     "output_type": "execute_result"
    }
   ],
   "source": [
    "test_real_price.values"
   ]
  },
  {
   "cell_type": "code",
   "execution_count": 114,
   "metadata": {
    "ExecuteTime": {
     "end_time": "2021-12-06T02:54:15.873515Z",
     "start_time": "2021-12-06T02:54:15.854522Z"
    },
    "colab": {
     "base_uri": "https://localhost:8080/"
    },
    "executionInfo": {
     "elapsed": 381,
     "status": "ok",
     "timestamp": 1638430785132,
     "user": {
      "displayName": "이구미",
      "photoUrl": "https://lh3.googleusercontent.com/a/default-user=s64",
      "userId": "08177866432571939523"
     },
     "user_tz": -540
    },
    "id": "tMJFGH_k-BwE",
    "outputId": "291f76e9-5181-488f-faf3-8c7b0d278bbf"
   },
   "outputs": [
    {
     "data": {
      "text/plain": [
       "61500.0"
      ]
     },
     "execution_count": 114,
     "metadata": {},
     "output_type": "execute_result"
    }
   ],
   "source": [
    "test_real_price[41150]"
   ]
  },
  {
   "cell_type": "code",
   "execution_count": 121,
   "metadata": {
    "ExecuteTime": {
     "end_time": "2021-12-06T02:56:21.832649Z",
     "start_time": "2021-12-06T02:56:21.821680Z"
    },
    "colab": {
     "base_uri": "https://localhost:8080/"
    },
    "executionInfo": {
     "elapsed": 600,
     "status": "ok",
     "timestamp": 1638430787427,
     "user": {
      "displayName": "이구미",
      "photoUrl": "https://lh3.googleusercontent.com/a/default-user=s64",
      "userId": "08177866432571939523"
     },
     "user_tz": -540
    },
    "id": "UOwOAXz1-BwF",
    "outputId": "dc1db55c-a473-4181-feb0-77912d61158d"
   },
   "outputs": [
    {
     "data": {
      "text/plain": [
       "41151"
      ]
     },
     "execution_count": 121,
     "metadata": {},
     "output_type": "execute_result"
    }
   ],
   "source": [
    "len(test_real_price)"
   ]
  },
  {
   "cell_type": "code",
   "execution_count": 130,
   "metadata": {
    "ExecuteTime": {
     "end_time": "2021-12-06T02:57:46.010329Z",
     "start_time": "2021-12-06T02:57:44.179215Z"
    },
    "colab": {
     "base_uri": "https://localhost:8080/",
     "height": 246,
     "referenced_widgets": [
      "3a749a1567b64a50a1487eca63d996cc",
      "39ac781b0fbc4f73b1c72e0086a0bd0a",
      "91dfaa7718f94aeea377c237c34d64bf",
      "e55b7a695b5549cba42d8fa6c61143f6",
      "9c2ce4548f974172bb0a36e6e3ea1b3a",
      "666b8d668b3f40adb49cd28a8614ac45",
      "560cb266d3094f7e971c06fe351149bf",
      "f0dedf227d1c4499b517e0ddee5509ba",
      "91b831ee9fd549739fffd2728322a387",
      "294565619736480d9b1c2a8dc92d6834",
      "d9fa84464c9a4d58ba614ee3d6897a0b",
      "828e350bb6d1452a8a5f5bbefa8a83d6",
      "8a388b475bd04c84b99a8c13d62eea9a",
      "e4c01efac4834cb7bbf8b7e541182335",
      "34429f0b79524cf58313691e77a9e460",
      "695567a431b240c2a68885d9244ad2c9",
      "4d885fefe0b84b4d9700a3be069f50ae",
      "a5899ef22c644b66b746f36476aa43f7",
      "d6d2ea1634444a4a8dac710dc163548c",
      "55072d092df64e69a1082d782ea1ce17",
      "30278c3a0b8c41f28e26f3936f70ac73",
      "2f37784b86e94c2f8119f206a7bbe8d3"
     ]
    },
    "executionInfo": {
     "elapsed": 2768,
     "status": "ok",
     "timestamp": 1638434450629,
     "user": {
      "displayName": "이구미",
      "photoUrl": "https://lh3.googleusercontent.com/a/default-user=s64",
      "userId": "08177866432571939523"
     },
     "user_tz": -540
    },
    "id": "Yy6AZaRD-BwF",
    "outputId": "6b0adf8c-b725-4a84-89ad-cd91a2972695",
    "scrolled": true
   },
   "outputs": [
    {
     "data": {
      "application/vnd.jupyter.widget-view+json": {
       "model_id": "ece37149eb5445f5b429ad45c8a5ecb1",
       "version_major": 2,
       "version_minor": 0
      },
      "text/plain": [
       "  0%|          | 0/41151 [00:00<?, ?it/s]"
      ]
     },
     "metadata": {},
     "output_type": "display_data"
    },
    {
     "data": {
      "application/vnd.jupyter.widget-view+json": {
       "model_id": "09507951a2594d29a974906c6dbc3446",
       "version_major": 2,
       "version_minor": 0
      },
      "text/plain": [
       "  0%|          | 0/10 [00:00<?, ?it/s]"
      ]
     },
     "metadata": {},
     "output_type": "display_data"
    },
    {
     "name": "stderr",
     "output_type": "stream",
     "text": [
      "C:\\Users\\user\\anaconda3\\lib\\site-packages\\pandas\\core\\frame.py:4462: SettingWithCopyWarning: \n",
      "A value is trying to be set on a copy of a slice from a DataFrame\n",
      "\n",
      "See the caveats in the documentation: https://pandas.pydata.org/pandas-docs/stable/user_guide/indexing.html#returning-a-view-versus-a-copy\n",
      "  return super().fillna(\n"
     ]
    },
    {
     "data": {
      "text/plain": [
       "41151"
      ]
     },
     "execution_count": 130,
     "metadata": {},
     "output_type": "execute_result"
    }
   ],
   "source": [
    "output = pipeline(test_df, model, selector, mean_price_per_gu,amenity, course, imputer, dummy_model)\n",
    "len(output)"
   ]
  },
  {
   "cell_type": "code",
   "execution_count": 131,
   "metadata": {
    "ExecuteTime": {
     "end_time": "2021-12-06T02:57:49.040187Z",
     "start_time": "2021-12-06T02:57:49.028217Z"
    },
    "colab": {
     "base_uri": "https://localhost:8080/"
    },
    "executionInfo": {
     "elapsed": 361,
     "status": "ok",
     "timestamp": 1638434455973,
     "user": {
      "displayName": "이구미",
      "photoUrl": "https://lh3.googleusercontent.com/a/default-user=s64",
      "userId": "08177866432571939523"
     },
     "user_tz": -540
    },
    "id": "1s7R-L6p-BwF",
    "outputId": "cc22ea5c-1662-4ae6-e252-292bacd4a65b"
   },
   "outputs": [
    {
     "data": {
      "text/plain": [
       "array([173857.02 , 183925.23 , 183925.23 , ...,  48386.902,  47926.996,\n",
       "        67789.375], dtype=float32)"
      ]
     },
     "execution_count": 131,
     "metadata": {},
     "output_type": "execute_result"
    }
   ],
   "source": [
    "output"
   ]
  },
  {
   "cell_type": "code",
   "execution_count": 132,
   "metadata": {
    "ExecuteTime": {
     "end_time": "2021-12-06T02:57:50.762719Z",
     "start_time": "2021-12-06T02:57:50.724295Z"
    },
    "colab": {
     "base_uri": "https://localhost:8080/",
     "height": 206
    },
    "executionInfo": {
     "elapsed": 366,
     "status": "ok",
     "timestamp": 1638434459908,
     "user": {
      "displayName": "이구미",
      "photoUrl": "https://lh3.googleusercontent.com/a/default-user=s64",
      "userId": "08177866432571939523"
     },
     "user_tz": -540
    },
    "id": "RcQlWZK6-BwF",
    "outputId": "2c097e68-2d79-48e0-e115-fcc66689e3fe"
   },
   "outputs": [
    {
     "data": {
      "text/html": [
       "<div>\n",
       "<style scoped>\n",
       "    .dataframe tbody tr th:only-of-type {\n",
       "        vertical-align: middle;\n",
       "    }\n",
       "\n",
       "    .dataframe tbody tr th {\n",
       "        vertical-align: top;\n",
       "    }\n",
       "\n",
       "    .dataframe thead th {\n",
       "        text-align: right;\n",
       "    }\n",
       "</style>\n",
       "<table border=\"1\" class=\"dataframe\">\n",
       "  <thead>\n",
       "    <tr style=\"text-align: right;\">\n",
       "      <th></th>\n",
       "      <th>predicted_price</th>\n",
       "      <th>transaction_real_price</th>\n",
       "    </tr>\n",
       "  </thead>\n",
       "  <tbody>\n",
       "    <tr>\n",
       "      <th>0</th>\n",
       "      <td>173857.015625</td>\n",
       "      <td>174000.0</td>\n",
       "    </tr>\n",
       "    <tr>\n",
       "      <th>1</th>\n",
       "      <td>183925.234375</td>\n",
       "      <td>195000.0</td>\n",
       "    </tr>\n",
       "    <tr>\n",
       "      <th>2</th>\n",
       "      <td>183925.234375</td>\n",
       "      <td>200000.0</td>\n",
       "    </tr>\n",
       "    <tr>\n",
       "      <th>3</th>\n",
       "      <td>183925.234375</td>\n",
       "      <td>220000.0</td>\n",
       "    </tr>\n",
       "    <tr>\n",
       "      <th>4</th>\n",
       "      <td>214521.109375</td>\n",
       "      <td>245000.0</td>\n",
       "    </tr>\n",
       "  </tbody>\n",
       "</table>\n",
       "</div>"
      ],
      "text/plain": [
       "   predicted_price  transaction_real_price\n",
       "0    173857.015625                174000.0\n",
       "1    183925.234375                195000.0\n",
       "2    183925.234375                200000.0\n",
       "3    183925.234375                220000.0\n",
       "4    214521.109375                245000.0"
      ]
     },
     "execution_count": 132,
     "metadata": {},
     "output_type": "execute_result"
    }
   ],
   "source": [
    "result_df = pd.DataFrame({'predicted_price': output,'transaction_real_price':test_real_price.values})\n",
    "result_df.head()"
   ]
  },
  {
   "cell_type": "code",
   "execution_count": 139,
   "metadata": {
    "ExecuteTime": {
     "end_time": "2021-12-06T02:59:01.660594Z",
     "start_time": "2021-12-06T02:59:01.641646Z"
    },
    "colab": {
     "base_uri": "https://localhost:8080/"
    },
    "executionInfo": {
     "elapsed": 490,
     "status": "ok",
     "timestamp": 1638434464141,
     "user": {
      "displayName": "이구미",
      "photoUrl": "https://lh3.googleusercontent.com/a/default-user=s64",
      "userId": "08177866432571939523"
     },
     "user_tz": -540
    },
    "id": "DuA_cAoA-BwG",
    "outputId": "f8c7b63b-4ca4-471a-9719-ab9736ef5995"
   },
   "outputs": [
    {
     "data": {
      "text/plain": [
       "28632.566678765153"
      ]
     },
     "execution_count": 139,
     "metadata": {},
     "output_type": "execute_result"
    }
   ],
   "source": [
    "from sklearn.metrics import mean_squared_error \n",
    "MSE = mean_squared_error(result_df['predicted_price'], result_df['transaction_real_price']) \n",
    "np.sqrt(MSE)"
   ]
  },
  {
   "cell_type": "code",
   "execution_count": 140,
   "metadata": {
    "ExecuteTime": {
     "end_time": "2021-12-06T02:59:02.700207Z",
     "start_time": "2021-12-06T02:59:02.690192Z"
    },
    "colab": {
     "base_uri": "https://localhost:8080/"
    },
    "executionInfo": {
     "elapsed": 497,
     "status": "ok",
     "timestamp": 1638434498876,
     "user": {
      "displayName": "이구미",
      "photoUrl": "https://lh3.googleusercontent.com/a/default-user=s64",
      "userId": "08177866432571939523"
     },
     "user_tz": -540
    },
    "id": "J8-oh274-BwG",
    "outputId": "c0a3d4f6-aae2-48a2-ebb8-a176a305f89f"
   },
   "outputs": [
    {
     "data": {
      "text/plain": [
       "array([ True,  True,  True,  True,  True,  True,  True,  True,  True,\n",
       "        True,  True,  True,  True,  True,  True, False,  True,  True,\n",
       "        True,  True,  True,  True,  True,  True,  True,  True, False,\n",
       "       False, False, False])"
      ]
     },
     "execution_count": 140,
     "metadata": {},
     "output_type": "execute_result"
    }
   ],
   "source": [
    "selector.get_support()"
   ]
  },
  {
   "cell_type": "code",
   "execution_count": 141,
   "metadata": {
    "ExecuteTime": {
     "end_time": "2021-12-06T02:59:11.592620Z",
     "start_time": "2021-12-06T02:59:11.579362Z"
    }
   },
   "outputs": [
    {
     "data": {
      "text/plain": [
       "Index(['exclusive_use_area', 'top10_apt', 'age', '구별_전체_평균_시세', '구별_작년_평균_시세',\n",
       "       '구별_작년_거래량', 'stud_per_elementary', 'stud_per_middle', 'stud_per_high',\n",
       "       '인구당합계쇼핑수', '인구당병원수', '공원수', 'park_exercise_facility',\n",
       "       'park_entertainment_facility', 'park_benefit_facility',\n",
       "       'park_cultural_facitiy', 'park_facility_other', 'day_care_baby_num',\n",
       "       '어린이집유형_가정', '어린이집유형_국공립', '어린이집유형_민간', '어린이집유형_법인·단체', '어린이집유형_사회복지법인',\n",
       "       '어린이집유형_직장', '어린이집유형_협동', 'course_mean', 'floor_level_low',\n",
       "       'floor_level_middle', 'floor_level_high', 'floor_level_very_high'],\n",
       "      dtype='object')"
      ]
     },
     "execution_count": 141,
     "metadata": {},
     "output_type": "execute_result"
    }
   ],
   "source": [
    "# 전체컬럼\n",
    "Train_X.columns"
   ]
  },
  {
   "cell_type": "code",
   "execution_count": 142,
   "metadata": {
    "ExecuteTime": {
     "end_time": "2021-12-06T02:59:13.964235Z",
     "start_time": "2021-12-06T02:59:13.952756Z"
    },
    "colab": {
     "base_uri": "https://localhost:8080/"
    },
    "executionInfo": {
     "elapsed": 453,
     "status": "ok",
     "timestamp": 1638434521899,
     "user": {
      "displayName": "이구미",
      "photoUrl": "https://lh3.googleusercontent.com/a/default-user=s64",
      "userId": "08177866432571939523"
     },
     "user_tz": -540
    },
    "id": "YVZMzL-Q-BwG",
    "outputId": "2b761686-7ab9-4398-b411-b245608e6abc"
   },
   "outputs": [
    {
     "data": {
      "text/plain": [
       "Index(['exclusive_use_area', 'top10_apt', 'age', '구별_전체_평균_시세', '구별_작년_평균_시세',\n",
       "       '구별_작년_거래량', 'stud_per_elementary', 'stud_per_middle', 'stud_per_high',\n",
       "       '인구당합계쇼핑수', '인구당병원수', '공원수', 'park_exercise_facility',\n",
       "       'park_entertainment_facility', 'park_benefit_facility',\n",
       "       'park_facility_other', 'day_care_baby_num', '어린이집유형_가정', '어린이집유형_국공립',\n",
       "       '어린이집유형_민간', '어린이집유형_법인·단체', '어린이집유형_사회복지법인', '어린이집유형_직장', '어린이집유형_협동',\n",
       "       'course_mean'],\n",
       "      dtype='object')"
      ]
     },
     "execution_count": 142,
     "metadata": {},
     "output_type": "execute_result"
    }
   ],
   "source": [
    "# 사용컬럼\n",
    "Train_X.columns[selector.get_support()]"
   ]
  },
  {
   "cell_type": "code",
   "execution_count": 143,
   "metadata": {
    "ExecuteTime": {
     "end_time": "2021-12-06T02:59:15.396778Z",
     "start_time": "2021-12-06T02:59:15.378699Z"
    },
    "colab": {
     "base_uri": "https://localhost:8080/"
    },
    "executionInfo": {
     "elapsed": 374,
     "status": "ok",
     "timestamp": 1638434582493,
     "user": {
      "displayName": "이구미",
      "photoUrl": "https://lh3.googleusercontent.com/a/default-user=s64",
      "userId": "08177866432571939523"
     },
     "user_tz": -540
    },
    "id": "FKb5Yw2K-BwG",
    "outputId": "406a8e2a-da26-4179-bd5e-a6b763e6c3fc"
   },
   "outputs": [
    {
     "data": {
      "text/plain": [
       "XGBRegressor(base_score=0.5, booster='gbtree', colsample_bylevel=1,\n",
       "             colsample_bynode=1, colsample_bytree=1, enable_categorical=False,\n",
       "             gamma=0, gpu_id=-1, importance_type=None,\n",
       "             interaction_constraints='', learning_rate=0.2, max_delta_step=0,\n",
       "             max_depth=5, min_child_weight=1, missing=nan,\n",
       "             monotone_constraints='()', n_estimators=200, n_jobs=8,\n",
       "             num_parallel_tree=1, predictor='auto', random_state=0, reg_alpha=0,\n",
       "             reg_lambda=1, scale_pos_weight=1, subsample=1, tree_method='exact',\n",
       "             validate_parameters=1, verbosity=None)"
      ]
     },
     "execution_count": 143,
     "metadata": {},
     "output_type": "execute_result"
    }
   ],
   "source": [
    "model"
   ]
  }
 ],
 "metadata": {
  "colab": {
   "name": "실거래가_변수추가_3year.ipynb",
   "provenance": []
  },
  "kernelspec": {
   "display_name": "Python 3",
   "language": "python",
   "name": "python3"
  },
  "language_info": {
   "codemirror_mode": {
    "name": "ipython",
    "version": 3
   },
   "file_extension": ".py",
   "mimetype": "text/x-python",
   "name": "python",
   "nbconvert_exporter": "python",
   "pygments_lexer": "ipython3",
   "version": "3.8.8"
  },
  "toc": {
   "base_numbering": 1,
   "nav_menu": {},
   "number_sections": true,
   "sideBar": true,
   "skip_h1_title": false,
   "title_cell": "Table of Contents",
   "title_sidebar": "Contents",
   "toc_cell": false,
   "toc_position": {
    "height": "calc(100% - 180px)",
    "left": "10px",
    "top": "150px",
    "width": "307.188px"
   },
   "toc_section_display": true,
   "toc_window_display": false
  },
  "varInspector": {
   "cols": {
    "lenName": 16,
    "lenType": 16,
    "lenVar": 40
   },
   "kernels_config": {
    "python": {
     "delete_cmd_postfix": "",
     "delete_cmd_prefix": "del ",
     "library": "var_list.py",
     "varRefreshCmd": "print(var_dic_list())"
    },
    "r": {
     "delete_cmd_postfix": ") ",
     "delete_cmd_prefix": "rm(",
     "library": "var_list.r",
     "varRefreshCmd": "cat(var_dic_list()) "
    }
   },
   "types_to_exclude": [
    "module",
    "function",
    "builtin_function_or_method",
    "instance",
    "_Feature"
   ],
   "window_display": false
  },
  "widgets": {
   "application/vnd.jupyter.widget-state+json": {
    "00cb6772efe54f8794abe3988cd14655": {
     "model_module": "@jupyter-widgets/controls",
     "model_module_version": "1.5.0",
     "model_name": "HBoxModel",
     "state": {
      "_dom_classes": [],
      "_model_module": "@jupyter-widgets/controls",
      "_model_module_version": "1.5.0",
      "_model_name": "HBoxModel",
      "_view_count": null,
      "_view_module": "@jupyter-widgets/controls",
      "_view_module_version": "1.5.0",
      "_view_name": "HBoxView",
      "box_style": "",
      "children": [
       "IPY_MODEL_10a882f5e5fe46038bb43665e87962cf",
       "IPY_MODEL_7d048edf0e64408dabf891d7c4af5723",
       "IPY_MODEL_875ce7d26c0a4ecaa4e13148774996fc"
      ],
      "layout": "IPY_MODEL_0f7cb442b89d4931a37990d7f9288b2c"
     }
    },
    "0233a9f4b5a84055af30b27f673e2bee": {
     "model_module": "@jupyter-widgets/controls",
     "model_module_version": "1.5.0",
     "model_name": "DescriptionStyleModel",
     "state": {
      "_model_module": "@jupyter-widgets/controls",
      "_model_module_version": "1.5.0",
      "_model_name": "DescriptionStyleModel",
      "_view_count": null,
      "_view_module": "@jupyter-widgets/base",
      "_view_module_version": "1.2.0",
      "_view_name": "StyleView",
      "description_width": ""
     }
    },
    "026d615faf464764804ef95548873243": {
     "model_module": "@jupyter-widgets/base",
     "model_module_version": "1.2.0",
     "model_name": "LayoutModel",
     "state": {
      "_model_module": "@jupyter-widgets/base",
      "_model_module_version": "1.2.0",
      "_model_name": "LayoutModel",
      "_view_count": null,
      "_view_module": "@jupyter-widgets/base",
      "_view_module_version": "1.2.0",
      "_view_name": "LayoutView",
      "align_content": null,
      "align_items": null,
      "align_self": null,
      "border": null,
      "bottom": null,
      "display": null,
      "flex": null,
      "flex_flow": null,
      "grid_area": null,
      "grid_auto_columns": null,
      "grid_auto_flow": null,
      "grid_auto_rows": null,
      "grid_column": null,
      "grid_gap": null,
      "grid_row": null,
      "grid_template_areas": null,
      "grid_template_columns": null,
      "grid_template_rows": null,
      "height": null,
      "justify_content": null,
      "justify_items": null,
      "left": null,
      "margin": null,
      "max_height": null,
      "max_width": null,
      "min_height": null,
      "min_width": null,
      "object_fit": null,
      "object_position": null,
      "order": null,
      "overflow": null,
      "overflow_x": null,
      "overflow_y": null,
      "padding": null,
      "right": null,
      "top": null,
      "visibility": null,
      "width": null
     }
    },
    "047cbdf346d04f8598928024282bcb59": {
     "model_module": "@jupyter-widgets/base",
     "model_module_version": "1.2.0",
     "model_name": "LayoutModel",
     "state": {
      "_model_module": "@jupyter-widgets/base",
      "_model_module_version": "1.2.0",
      "_model_name": "LayoutModel",
      "_view_count": null,
      "_view_module": "@jupyter-widgets/base",
      "_view_module_version": "1.2.0",
      "_view_name": "LayoutView",
      "align_content": null,
      "align_items": null,
      "align_self": null,
      "border": null,
      "bottom": null,
      "display": null,
      "flex": null,
      "flex_flow": null,
      "grid_area": null,
      "grid_auto_columns": null,
      "grid_auto_flow": null,
      "grid_auto_rows": null,
      "grid_column": null,
      "grid_gap": null,
      "grid_row": null,
      "grid_template_areas": null,
      "grid_template_columns": null,
      "grid_template_rows": null,
      "height": null,
      "justify_content": null,
      "justify_items": null,
      "left": null,
      "margin": null,
      "max_height": null,
      "max_width": null,
      "min_height": null,
      "min_width": null,
      "object_fit": null,
      "object_position": null,
      "order": null,
      "overflow": null,
      "overflow_x": null,
      "overflow_y": null,
      "padding": null,
      "right": null,
      "top": null,
      "visibility": null,
      "width": null
     }
    },
    "07b88e6c7d434554bcb822fc23e1b3c9": {
     "model_module": "@jupyter-widgets/controls",
     "model_module_version": "1.5.0",
     "model_name": "HTMLModel",
     "state": {
      "_dom_classes": [],
      "_model_module": "@jupyter-widgets/controls",
      "_model_module_version": "1.5.0",
      "_model_name": "HTMLModel",
      "_view_count": null,
      "_view_module": "@jupyter-widgets/controls",
      "_view_module_version": "1.5.0",
      "_view_name": "HTMLView",
      "description": "",
      "description_tooltip": null,
      "layout": "IPY_MODEL_9fe3bf34121f4c549031583ba646e9a3",
      "placeholder": "​",
      "style": "IPY_MODEL_0233a9f4b5a84055af30b27f673e2bee",
      "value": "100%"
     }
    },
    "0d5c7cb2fad04cde9f3ddc3d58993124": {
     "model_module": "@jupyter-widgets/controls",
     "model_module_version": "1.5.0",
     "model_name": "FloatProgressModel",
     "state": {
      "_dom_classes": [],
      "_model_module": "@jupyter-widgets/controls",
      "_model_module_version": "1.5.0",
      "_model_name": "FloatProgressModel",
      "_view_count": null,
      "_view_module": "@jupyter-widgets/controls",
      "_view_module_version": "1.5.0",
      "_view_name": "ProgressView",
      "bar_style": "success",
      "description": "",
      "description_tooltip": null,
      "layout": "IPY_MODEL_c284f4202be04b74be746527fdf2fdca",
      "max": 3,
      "min": 0,
      "orientation": "horizontal",
      "style": "IPY_MODEL_a1c024c4540842cfb2987db246e94ebe",
      "value": 3
     }
    },
    "0f7cb442b89d4931a37990d7f9288b2c": {
     "model_module": "@jupyter-widgets/base",
     "model_module_version": "1.2.0",
     "model_name": "LayoutModel",
     "state": {
      "_model_module": "@jupyter-widgets/base",
      "_model_module_version": "1.2.0",
      "_model_name": "LayoutModel",
      "_view_count": null,
      "_view_module": "@jupyter-widgets/base",
      "_view_module_version": "1.2.0",
      "_view_name": "LayoutView",
      "align_content": null,
      "align_items": null,
      "align_self": null,
      "border": null,
      "bottom": null,
      "display": null,
      "flex": null,
      "flex_flow": null,
      "grid_area": null,
      "grid_auto_columns": null,
      "grid_auto_flow": null,
      "grid_auto_rows": null,
      "grid_column": null,
      "grid_gap": null,
      "grid_row": null,
      "grid_template_areas": null,
      "grid_template_columns": null,
      "grid_template_rows": null,
      "height": null,
      "justify_content": null,
      "justify_items": null,
      "left": null,
      "margin": null,
      "max_height": null,
      "max_width": null,
      "min_height": null,
      "min_width": null,
      "object_fit": null,
      "object_position": null,
      "order": null,
      "overflow": null,
      "overflow_x": null,
      "overflow_y": null,
      "padding": null,
      "right": null,
      "top": null,
      "visibility": null,
      "width": null
     }
    },
    "10a882f5e5fe46038bb43665e87962cf": {
     "model_module": "@jupyter-widgets/controls",
     "model_module_version": "1.5.0",
     "model_name": "HTMLModel",
     "state": {
      "_dom_classes": [],
      "_model_module": "@jupyter-widgets/controls",
      "_model_module_version": "1.5.0",
      "_model_name": "HTMLModel",
      "_view_count": null,
      "_view_module": "@jupyter-widgets/controls",
      "_view_module_version": "1.5.0",
      "_view_name": "HTMLView",
      "description": "",
      "description_tooltip": null,
      "layout": "IPY_MODEL_026d615faf464764804ef95548873243",
      "placeholder": "​",
      "style": "IPY_MODEL_89c48dc26d4d4e79a0cab6bb6be34be4",
      "value": "100%"
     }
    },
    "1398f50ded11470ab5beed56198e5728": {
     "model_module": "@jupyter-widgets/controls",
     "model_module_version": "1.5.0",
     "model_name": "HBoxModel",
     "state": {
      "_dom_classes": [],
      "_model_module": "@jupyter-widgets/controls",
      "_model_module_version": "1.5.0",
      "_model_name": "HBoxModel",
      "_view_count": null,
      "_view_module": "@jupyter-widgets/controls",
      "_view_module_version": "1.5.0",
      "_view_name": "HBoxView",
      "box_style": "",
      "children": [
       "IPY_MODEL_642f9d02c9b24ddda6b326ee79624c00",
       "IPY_MODEL_7f4cc27fdff14d7aacdd80e7396601a0",
       "IPY_MODEL_1c97b18cf69442ddaf97f07fb9e96575"
      ],
      "layout": "IPY_MODEL_664bbb642f8c4b189321464141f42e4d"
     }
    },
    "15ed52ea92944994a868057f1536c0cf": {
     "model_module": "@jupyter-widgets/controls",
     "model_module_version": "1.5.0",
     "model_name": "HBoxModel",
     "state": {
      "_dom_classes": [],
      "_model_module": "@jupyter-widgets/controls",
      "_model_module_version": "1.5.0",
      "_model_name": "HBoxModel",
      "_view_count": null,
      "_view_module": "@jupyter-widgets/controls",
      "_view_module_version": "1.5.0",
      "_view_name": "HBoxView",
      "box_style": "",
      "children": [
       "IPY_MODEL_9f8dc80964a54297b26979c7e933377a",
       "IPY_MODEL_3b7256379cb04f05a31469cd0b5bee90",
       "IPY_MODEL_d23383f6d89a481eae8d658a91b489f2"
      ],
      "layout": "IPY_MODEL_e45935cc01384638b3e51f618a710649"
     }
    },
    "1c97b18cf69442ddaf97f07fb9e96575": {
     "model_module": "@jupyter-widgets/controls",
     "model_module_version": "1.5.0",
     "model_name": "HTMLModel",
     "state": {
      "_dom_classes": [],
      "_model_module": "@jupyter-widgets/controls",
      "_model_module_version": "1.5.0",
      "_model_name": "HTMLModel",
      "_view_count": null,
      "_view_module": "@jupyter-widgets/controls",
      "_view_module_version": "1.5.0",
      "_view_name": "HTMLView",
      "description": "",
      "description_tooltip": null,
      "layout": "IPY_MODEL_ebd8fb75adda4a85be855290c40438d0",
      "placeholder": "​",
      "style": "IPY_MODEL_7b1bed1f6cc44c9fb102fd4ca53ddf6f",
      "value": " 10/10 [00:00&lt;00:00, 12.72it/s]"
     }
    },
    "1d6c59d46e63477b8827251691c50a1e": {
     "model_module": "@jupyter-widgets/base",
     "model_module_version": "1.2.0",
     "model_name": "LayoutModel",
     "state": {
      "_model_module": "@jupyter-widgets/base",
      "_model_module_version": "1.2.0",
      "_model_name": "LayoutModel",
      "_view_count": null,
      "_view_module": "@jupyter-widgets/base",
      "_view_module_version": "1.2.0",
      "_view_name": "LayoutView",
      "align_content": null,
      "align_items": null,
      "align_self": null,
      "border": null,
      "bottom": null,
      "display": null,
      "flex": null,
      "flex_flow": null,
      "grid_area": null,
      "grid_auto_columns": null,
      "grid_auto_flow": null,
      "grid_auto_rows": null,
      "grid_column": null,
      "grid_gap": null,
      "grid_row": null,
      "grid_template_areas": null,
      "grid_template_columns": null,
      "grid_template_rows": null,
      "height": null,
      "justify_content": null,
      "justify_items": null,
      "left": null,
      "margin": null,
      "max_height": null,
      "max_width": null,
      "min_height": null,
      "min_width": null,
      "object_fit": null,
      "object_position": null,
      "order": null,
      "overflow": null,
      "overflow_x": null,
      "overflow_y": null,
      "padding": null,
      "right": null,
      "top": null,
      "visibility": null,
      "width": null
     }
    },
    "2508937cc3fc472399b9e8ea84179c39": {
     "model_module": "@jupyter-widgets/base",
     "model_module_version": "1.2.0",
     "model_name": "LayoutModel",
     "state": {
      "_model_module": "@jupyter-widgets/base",
      "_model_module_version": "1.2.0",
      "_model_name": "LayoutModel",
      "_view_count": null,
      "_view_module": "@jupyter-widgets/base",
      "_view_module_version": "1.2.0",
      "_view_name": "LayoutView",
      "align_content": null,
      "align_items": null,
      "align_self": null,
      "border": null,
      "bottom": null,
      "display": null,
      "flex": null,
      "flex_flow": null,
      "grid_area": null,
      "grid_auto_columns": null,
      "grid_auto_flow": null,
      "grid_auto_rows": null,
      "grid_column": null,
      "grid_gap": null,
      "grid_row": null,
      "grid_template_areas": null,
      "grid_template_columns": null,
      "grid_template_rows": null,
      "height": null,
      "justify_content": null,
      "justify_items": null,
      "left": null,
      "margin": null,
      "max_height": null,
      "max_width": null,
      "min_height": null,
      "min_width": null,
      "object_fit": null,
      "object_position": null,
      "order": null,
      "overflow": null,
      "overflow_x": null,
      "overflow_y": null,
      "padding": null,
      "right": null,
      "top": null,
      "visibility": null,
      "width": null
     }
    },
    "2694790e12af42938c64487d9ab623c6": {
     "model_module": "@jupyter-widgets/base",
     "model_module_version": "1.2.0",
     "model_name": "LayoutModel",
     "state": {
      "_model_module": "@jupyter-widgets/base",
      "_model_module_version": "1.2.0",
      "_model_name": "LayoutModel",
      "_view_count": null,
      "_view_module": "@jupyter-widgets/base",
      "_view_module_version": "1.2.0",
      "_view_name": "LayoutView",
      "align_content": null,
      "align_items": null,
      "align_self": null,
      "border": null,
      "bottom": null,
      "display": null,
      "flex": null,
      "flex_flow": null,
      "grid_area": null,
      "grid_auto_columns": null,
      "grid_auto_flow": null,
      "grid_auto_rows": null,
      "grid_column": null,
      "grid_gap": null,
      "grid_row": null,
      "grid_template_areas": null,
      "grid_template_columns": null,
      "grid_template_rows": null,
      "height": null,
      "justify_content": null,
      "justify_items": null,
      "left": null,
      "margin": null,
      "max_height": null,
      "max_width": null,
      "min_height": null,
      "min_width": null,
      "object_fit": null,
      "object_position": null,
      "order": null,
      "overflow": null,
      "overflow_x": null,
      "overflow_y": null,
      "padding": null,
      "right": null,
      "top": null,
      "visibility": null,
      "width": null
     }
    },
    "271364604fbb4e689094755ac585f8ac": {
     "model_module": "@jupyter-widgets/controls",
     "model_module_version": "1.5.0",
     "model_name": "ProgressStyleModel",
     "state": {
      "_model_module": "@jupyter-widgets/controls",
      "_model_module_version": "1.5.0",
      "_model_name": "ProgressStyleModel",
      "_view_count": null,
      "_view_module": "@jupyter-widgets/base",
      "_view_module_version": "1.2.0",
      "_view_name": "StyleView",
      "bar_color": null,
      "description_width": ""
     }
    },
    "294565619736480d9b1c2a8dc92d6834": {
     "model_module": "@jupyter-widgets/controls",
     "model_module_version": "1.5.0",
     "model_name": "DescriptionStyleModel",
     "state": {
      "_model_module": "@jupyter-widgets/controls",
      "_model_module_version": "1.5.0",
      "_model_name": "DescriptionStyleModel",
      "_view_count": null,
      "_view_module": "@jupyter-widgets/base",
      "_view_module_version": "1.2.0",
      "_view_name": "StyleView",
      "description_width": ""
     }
    },
    "2c65b68e28464b369f4954b8f784cfb0": {
     "model_module": "@jupyter-widgets/controls",
     "model_module_version": "1.5.0",
     "model_name": "HTMLModel",
     "state": {
      "_dom_classes": [],
      "_model_module": "@jupyter-widgets/controls",
      "_model_module_version": "1.5.0",
      "_model_name": "HTMLModel",
      "_view_count": null,
      "_view_module": "@jupyter-widgets/controls",
      "_view_module_version": "1.5.0",
      "_view_name": "HTMLView",
      "description": "",
      "description_tooltip": null,
      "layout": "IPY_MODEL_94d8d1976ee34239bf83eef52dca1627",
      "placeholder": "​",
      "style": "IPY_MODEL_ba562e5e6137437fa055e71d0e8af4dc",
      "value": " 3/3 [03:11&lt;00:00, 58.56s/it]"
     }
    },
    "2f37784b86e94c2f8119f206a7bbe8d3": {
     "model_module": "@jupyter-widgets/base",
     "model_module_version": "1.2.0",
     "model_name": "LayoutModel",
     "state": {
      "_model_module": "@jupyter-widgets/base",
      "_model_module_version": "1.2.0",
      "_model_name": "LayoutModel",
      "_view_count": null,
      "_view_module": "@jupyter-widgets/base",
      "_view_module_version": "1.2.0",
      "_view_name": "LayoutView",
      "align_content": null,
      "align_items": null,
      "align_self": null,
      "border": null,
      "bottom": null,
      "display": null,
      "flex": null,
      "flex_flow": null,
      "grid_area": null,
      "grid_auto_columns": null,
      "grid_auto_flow": null,
      "grid_auto_rows": null,
      "grid_column": null,
      "grid_gap": null,
      "grid_row": null,
      "grid_template_areas": null,
      "grid_template_columns": null,
      "grid_template_rows": null,
      "height": null,
      "justify_content": null,
      "justify_items": null,
      "left": null,
      "margin": null,
      "max_height": null,
      "max_width": null,
      "min_height": null,
      "min_width": null,
      "object_fit": null,
      "object_position": null,
      "order": null,
      "overflow": null,
      "overflow_x": null,
      "overflow_y": null,
      "padding": null,
      "right": null,
      "top": null,
      "visibility": null,
      "width": null
     }
    },
    "30278c3a0b8c41f28e26f3936f70ac73": {
     "model_module": "@jupyter-widgets/controls",
     "model_module_version": "1.5.0",
     "model_name": "DescriptionStyleModel",
     "state": {
      "_model_module": "@jupyter-widgets/controls",
      "_model_module_version": "1.5.0",
      "_model_name": "DescriptionStyleModel",
      "_view_count": null,
      "_view_module": "@jupyter-widgets/base",
      "_view_module_version": "1.2.0",
      "_view_name": "StyleView",
      "description_width": ""
     }
    },
    "34429f0b79524cf58313691e77a9e460": {
     "model_module": "@jupyter-widgets/controls",
     "model_module_version": "1.5.0",
     "model_name": "FloatProgressModel",
     "state": {
      "_dom_classes": [],
      "_model_module": "@jupyter-widgets/controls",
      "_model_module_version": "1.5.0",
      "_model_name": "FloatProgressModel",
      "_view_count": null,
      "_view_module": "@jupyter-widgets/controls",
      "_view_module_version": "1.5.0",
      "_view_name": "ProgressView",
      "bar_style": "success",
      "description": "",
      "description_tooltip": null,
      "layout": "IPY_MODEL_55072d092df64e69a1082d782ea1ce17",
      "max": 10,
      "min": 0,
      "orientation": "horizontal",
      "style": "IPY_MODEL_d6d2ea1634444a4a8dac710dc163548c",
      "value": 10
     }
    },
    "39ac781b0fbc4f73b1c72e0086a0bd0a": {
     "model_module": "@jupyter-widgets/base",
     "model_module_version": "1.2.0",
     "model_name": "LayoutModel",
     "state": {
      "_model_module": "@jupyter-widgets/base",
      "_model_module_version": "1.2.0",
      "_model_name": "LayoutModel",
      "_view_count": null,
      "_view_module": "@jupyter-widgets/base",
      "_view_module_version": "1.2.0",
      "_view_name": "LayoutView",
      "align_content": null,
      "align_items": null,
      "align_self": null,
      "border": null,
      "bottom": null,
      "display": null,
      "flex": null,
      "flex_flow": null,
      "grid_area": null,
      "grid_auto_columns": null,
      "grid_auto_flow": null,
      "grid_auto_rows": null,
      "grid_column": null,
      "grid_gap": null,
      "grid_row": null,
      "grid_template_areas": null,
      "grid_template_columns": null,
      "grid_template_rows": null,
      "height": null,
      "justify_content": null,
      "justify_items": null,
      "left": null,
      "margin": null,
      "max_height": null,
      "max_width": null,
      "min_height": null,
      "min_width": null,
      "object_fit": null,
      "object_position": null,
      "order": null,
      "overflow": null,
      "overflow_x": null,
      "overflow_y": null,
      "padding": null,
      "right": null,
      "top": null,
      "visibility": null,
      "width": null
     }
    },
    "3a749a1567b64a50a1487eca63d996cc": {
     "model_module": "@jupyter-widgets/controls",
     "model_module_version": "1.5.0",
     "model_name": "HBoxModel",
     "state": {
      "_dom_classes": [],
      "_model_module": "@jupyter-widgets/controls",
      "_model_module_version": "1.5.0",
      "_model_name": "HBoxModel",
      "_view_count": null,
      "_view_module": "@jupyter-widgets/controls",
      "_view_module_version": "1.5.0",
      "_view_name": "HBoxView",
      "box_style": "",
      "children": [
       "IPY_MODEL_91dfaa7718f94aeea377c237c34d64bf",
       "IPY_MODEL_e55b7a695b5549cba42d8fa6c61143f6",
       "IPY_MODEL_9c2ce4548f974172bb0a36e6e3ea1b3a"
      ],
      "layout": "IPY_MODEL_39ac781b0fbc4f73b1c72e0086a0bd0a"
     }
    },
    "3b7256379cb04f05a31469cd0b5bee90": {
     "model_module": "@jupyter-widgets/controls",
     "model_module_version": "1.5.0",
     "model_name": "FloatProgressModel",
     "state": {
      "_dom_classes": [],
      "_model_module": "@jupyter-widgets/controls",
      "_model_module_version": "1.5.0",
      "_model_name": "FloatProgressModel",
      "_view_count": null,
      "_view_module": "@jupyter-widgets/controls",
      "_view_module_version": "1.5.0",
      "_view_name": "ProgressView",
      "bar_style": "success",
      "description": "",
      "description_tooltip": null,
      "layout": "IPY_MODEL_86b198a4fff244e281f40fa2427e4cca",
      "max": 3,
      "min": 0,
      "orientation": "horizontal",
      "style": "IPY_MODEL_271364604fbb4e689094755ac585f8ac",
      "value": 3
     }
    },
    "3c8c16a99d524ab9ae242f345a9f98b0": {
     "model_module": "@jupyter-widgets/controls",
     "model_module_version": "1.5.0",
     "model_name": "FloatProgressModel",
     "state": {
      "_dom_classes": [],
      "_model_module": "@jupyter-widgets/controls",
      "_model_module_version": "1.5.0",
      "_model_name": "FloatProgressModel",
      "_view_count": null,
      "_view_module": "@jupyter-widgets/controls",
      "_view_module_version": "1.5.0",
      "_view_name": "ProgressView",
      "bar_style": "success",
      "description": "",
      "description_tooltip": null,
      "layout": "IPY_MODEL_41e7703fe0db49278d3780e7fc09a249",
      "max": 3,
      "min": 0,
      "orientation": "horizontal",
      "style": "IPY_MODEL_6bfb9264057c431eb35c2b54f01d042e",
      "value": 3
     }
    },
    "3c964b2e0d3040e08460e4d105b008a8": {
     "model_module": "@jupyter-widgets/controls",
     "model_module_version": "1.5.0",
     "model_name": "HBoxModel",
     "state": {
      "_dom_classes": [],
      "_model_module": "@jupyter-widgets/controls",
      "_model_module_version": "1.5.0",
      "_model_name": "HBoxModel",
      "_view_count": null,
      "_view_module": "@jupyter-widgets/controls",
      "_view_module_version": "1.5.0",
      "_view_name": "HBoxView",
      "box_style": "",
      "children": [
       "IPY_MODEL_88c0c0e4f7c6466490d0a557e12ef865",
       "IPY_MODEL_0d5c7cb2fad04cde9f3ddc3d58993124",
       "IPY_MODEL_e0ba5fe6838d4b2b900901fb89abc7ff"
      ],
      "layout": "IPY_MODEL_5d30f238b3d1452bae4e42c23fda4698"
     }
    },
    "3f37eeb2ca9b4d84889486049010a362": {
     "model_module": "@jupyter-widgets/base",
     "model_module_version": "1.2.0",
     "model_name": "LayoutModel",
     "state": {
      "_model_module": "@jupyter-widgets/base",
      "_model_module_version": "1.2.0",
      "_model_name": "LayoutModel",
      "_view_count": null,
      "_view_module": "@jupyter-widgets/base",
      "_view_module_version": "1.2.0",
      "_view_name": "LayoutView",
      "align_content": null,
      "align_items": null,
      "align_self": null,
      "border": null,
      "bottom": null,
      "display": null,
      "flex": null,
      "flex_flow": null,
      "grid_area": null,
      "grid_auto_columns": null,
      "grid_auto_flow": null,
      "grid_auto_rows": null,
      "grid_column": null,
      "grid_gap": null,
      "grid_row": null,
      "grid_template_areas": null,
      "grid_template_columns": null,
      "grid_template_rows": null,
      "height": null,
      "justify_content": null,
      "justify_items": null,
      "left": null,
      "margin": null,
      "max_height": null,
      "max_width": null,
      "min_height": null,
      "min_width": null,
      "object_fit": null,
      "object_position": null,
      "order": null,
      "overflow": null,
      "overflow_x": null,
      "overflow_y": null,
      "padding": null,
      "right": null,
      "top": null,
      "visibility": null,
      "width": null
     }
    },
    "41e7703fe0db49278d3780e7fc09a249": {
     "model_module": "@jupyter-widgets/base",
     "model_module_version": "1.2.0",
     "model_name": "LayoutModel",
     "state": {
      "_model_module": "@jupyter-widgets/base",
      "_model_module_version": "1.2.0",
      "_model_name": "LayoutModel",
      "_view_count": null,
      "_view_module": "@jupyter-widgets/base",
      "_view_module_version": "1.2.0",
      "_view_name": "LayoutView",
      "align_content": null,
      "align_items": null,
      "align_self": null,
      "border": null,
      "bottom": null,
      "display": null,
      "flex": null,
      "flex_flow": null,
      "grid_area": null,
      "grid_auto_columns": null,
      "grid_auto_flow": null,
      "grid_auto_rows": null,
      "grid_column": null,
      "grid_gap": null,
      "grid_row": null,
      "grid_template_areas": null,
      "grid_template_columns": null,
      "grid_template_rows": null,
      "height": null,
      "justify_content": null,
      "justify_items": null,
      "left": null,
      "margin": null,
      "max_height": null,
      "max_width": null,
      "min_height": null,
      "min_width": null,
      "object_fit": null,
      "object_position": null,
      "order": null,
      "overflow": null,
      "overflow_x": null,
      "overflow_y": null,
      "padding": null,
      "right": null,
      "top": null,
      "visibility": null,
      "width": null
     }
    },
    "437fc64d95b3409aa136ee33bef9dcab": {
     "model_module": "@jupyter-widgets/base",
     "model_module_version": "1.2.0",
     "model_name": "LayoutModel",
     "state": {
      "_model_module": "@jupyter-widgets/base",
      "_model_module_version": "1.2.0",
      "_model_name": "LayoutModel",
      "_view_count": null,
      "_view_module": "@jupyter-widgets/base",
      "_view_module_version": "1.2.0",
      "_view_name": "LayoutView",
      "align_content": null,
      "align_items": null,
      "align_self": null,
      "border": null,
      "bottom": null,
      "display": null,
      "flex": null,
      "flex_flow": null,
      "grid_area": null,
      "grid_auto_columns": null,
      "grid_auto_flow": null,
      "grid_auto_rows": null,
      "grid_column": null,
      "grid_gap": null,
      "grid_row": null,
      "grid_template_areas": null,
      "grid_template_columns": null,
      "grid_template_rows": null,
      "height": null,
      "justify_content": null,
      "justify_items": null,
      "left": null,
      "margin": null,
      "max_height": null,
      "max_width": null,
      "min_height": null,
      "min_width": null,
      "object_fit": null,
      "object_position": null,
      "order": null,
      "overflow": null,
      "overflow_x": null,
      "overflow_y": null,
      "padding": null,
      "right": null,
      "top": null,
      "visibility": null,
      "width": null
     }
    },
    "4aac2216925a4e9c8c392dca8b977a1b": {
     "model_module": "@jupyter-widgets/controls",
     "model_module_version": "1.5.0",
     "model_name": "ProgressStyleModel",
     "state": {
      "_model_module": "@jupyter-widgets/controls",
      "_model_module_version": "1.5.0",
      "_model_name": "ProgressStyleModel",
      "_view_count": null,
      "_view_module": "@jupyter-widgets/base",
      "_view_module_version": "1.2.0",
      "_view_name": "StyleView",
      "bar_color": null,
      "description_width": ""
     }
    },
    "4ac7c2a3f40a49398dcdfa6f66ba1141": {
     "model_module": "@jupyter-widgets/base",
     "model_module_version": "1.2.0",
     "model_name": "LayoutModel",
     "state": {
      "_model_module": "@jupyter-widgets/base",
      "_model_module_version": "1.2.0",
      "_model_name": "LayoutModel",
      "_view_count": null,
      "_view_module": "@jupyter-widgets/base",
      "_view_module_version": "1.2.0",
      "_view_name": "LayoutView",
      "align_content": null,
      "align_items": null,
      "align_self": null,
      "border": null,
      "bottom": null,
      "display": null,
      "flex": null,
      "flex_flow": null,
      "grid_area": null,
      "grid_auto_columns": null,
      "grid_auto_flow": null,
      "grid_auto_rows": null,
      "grid_column": null,
      "grid_gap": null,
      "grid_row": null,
      "grid_template_areas": null,
      "grid_template_columns": null,
      "grid_template_rows": null,
      "height": null,
      "justify_content": null,
      "justify_items": null,
      "left": null,
      "margin": null,
      "max_height": null,
      "max_width": null,
      "min_height": null,
      "min_width": null,
      "object_fit": null,
      "object_position": null,
      "order": null,
      "overflow": null,
      "overflow_x": null,
      "overflow_y": null,
      "padding": null,
      "right": null,
      "top": null,
      "visibility": null,
      "width": null
     }
    },
    "4ce69a65161244ba9a8cf14ee750fa3a": {
     "model_module": "@jupyter-widgets/controls",
     "model_module_version": "1.5.0",
     "model_name": "HTMLModel",
     "state": {
      "_dom_classes": [],
      "_model_module": "@jupyter-widgets/controls",
      "_model_module_version": "1.5.0",
      "_model_name": "HTMLModel",
      "_view_count": null,
      "_view_module": "@jupyter-widgets/controls",
      "_view_module_version": "1.5.0",
      "_view_name": "HTMLView",
      "description": "",
      "description_tooltip": null,
      "layout": "IPY_MODEL_79384976c66348ab831a98f3cfdaad83",
      "placeholder": "​",
      "style": "IPY_MODEL_d3c0561d4b1e4ace86472227c4d5d560",
      "value": " 3/3 [05:50&lt;00:00, 107.20s/it]"
     }
    },
    "4d885fefe0b84b4d9700a3be069f50ae": {
     "model_module": "@jupyter-widgets/controls",
     "model_module_version": "1.5.0",
     "model_name": "DescriptionStyleModel",
     "state": {
      "_model_module": "@jupyter-widgets/controls",
      "_model_module_version": "1.5.0",
      "_model_name": "DescriptionStyleModel",
      "_view_count": null,
      "_view_module": "@jupyter-widgets/base",
      "_view_module_version": "1.2.0",
      "_view_name": "StyleView",
      "description_width": ""
     }
    },
    "5421f12d69084f9b9fb539214b914b61": {
     "model_module": "@jupyter-widgets/controls",
     "model_module_version": "1.5.0",
     "model_name": "HTMLModel",
     "state": {
      "_dom_classes": [],
      "_model_module": "@jupyter-widgets/controls",
      "_model_module_version": "1.5.0",
      "_model_name": "HTMLModel",
      "_view_count": null,
      "_view_module": "@jupyter-widgets/controls",
      "_view_module_version": "1.5.0",
      "_view_name": "HTMLView",
      "description": "",
      "description_tooltip": null,
      "layout": "IPY_MODEL_2508937cc3fc472399b9e8ea84179c39",
      "placeholder": "​",
      "style": "IPY_MODEL_a35b323c277c44d5b0cf5c5de7b852bf",
      "value": "100%"
     }
    },
    "55072d092df64e69a1082d782ea1ce17": {
     "model_module": "@jupyter-widgets/base",
     "model_module_version": "1.2.0",
     "model_name": "LayoutModel",
     "state": {
      "_model_module": "@jupyter-widgets/base",
      "_model_module_version": "1.2.0",
      "_model_name": "LayoutModel",
      "_view_count": null,
      "_view_module": "@jupyter-widgets/base",
      "_view_module_version": "1.2.0",
      "_view_name": "LayoutView",
      "align_content": null,
      "align_items": null,
      "align_self": null,
      "border": null,
      "bottom": null,
      "display": null,
      "flex": null,
      "flex_flow": null,
      "grid_area": null,
      "grid_auto_columns": null,
      "grid_auto_flow": null,
      "grid_auto_rows": null,
      "grid_column": null,
      "grid_gap": null,
      "grid_row": null,
      "grid_template_areas": null,
      "grid_template_columns": null,
      "grid_template_rows": null,
      "height": null,
      "justify_content": null,
      "justify_items": null,
      "left": null,
      "margin": null,
      "max_height": null,
      "max_width": null,
      "min_height": null,
      "min_width": null,
      "object_fit": null,
      "object_position": null,
      "order": null,
      "overflow": null,
      "overflow_x": null,
      "overflow_y": null,
      "padding": null,
      "right": null,
      "top": null,
      "visibility": null,
      "width": null
     }
    },
    "560cb266d3094f7e971c06fe351149bf": {
     "model_module": "@jupyter-widgets/base",
     "model_module_version": "1.2.0",
     "model_name": "LayoutModel",
     "state": {
      "_model_module": "@jupyter-widgets/base",
      "_model_module_version": "1.2.0",
      "_model_name": "LayoutModel",
      "_view_count": null,
      "_view_module": "@jupyter-widgets/base",
      "_view_module_version": "1.2.0",
      "_view_name": "LayoutView",
      "align_content": null,
      "align_items": null,
      "align_self": null,
      "border": null,
      "bottom": null,
      "display": null,
      "flex": null,
      "flex_flow": null,
      "grid_area": null,
      "grid_auto_columns": null,
      "grid_auto_flow": null,
      "grid_auto_rows": null,
      "grid_column": null,
      "grid_gap": null,
      "grid_row": null,
      "grid_template_areas": null,
      "grid_template_columns": null,
      "grid_template_rows": null,
      "height": null,
      "justify_content": null,
      "justify_items": null,
      "left": null,
      "margin": null,
      "max_height": null,
      "max_width": null,
      "min_height": null,
      "min_width": null,
      "object_fit": null,
      "object_position": null,
      "order": null,
      "overflow": null,
      "overflow_x": null,
      "overflow_y": null,
      "padding": null,
      "right": null,
      "top": null,
      "visibility": null,
      "width": null
     }
    },
    "57f05d2e743d493d8d8ff1087aea788b": {
     "model_module": "@jupyter-widgets/base",
     "model_module_version": "1.2.0",
     "model_name": "LayoutModel",
     "state": {
      "_model_module": "@jupyter-widgets/base",
      "_model_module_version": "1.2.0",
      "_model_name": "LayoutModel",
      "_view_count": null,
      "_view_module": "@jupyter-widgets/base",
      "_view_module_version": "1.2.0",
      "_view_name": "LayoutView",
      "align_content": null,
      "align_items": null,
      "align_self": null,
      "border": null,
      "bottom": null,
      "display": null,
      "flex": null,
      "flex_flow": null,
      "grid_area": null,
      "grid_auto_columns": null,
      "grid_auto_flow": null,
      "grid_auto_rows": null,
      "grid_column": null,
      "grid_gap": null,
      "grid_row": null,
      "grid_template_areas": null,
      "grid_template_columns": null,
      "grid_template_rows": null,
      "height": null,
      "justify_content": null,
      "justify_items": null,
      "left": null,
      "margin": null,
      "max_height": null,
      "max_width": null,
      "min_height": null,
      "min_width": null,
      "object_fit": null,
      "object_position": null,
      "order": null,
      "overflow": null,
      "overflow_x": null,
      "overflow_y": null,
      "padding": null,
      "right": null,
      "top": null,
      "visibility": null,
      "width": null
     }
    },
    "5d30f238b3d1452bae4e42c23fda4698": {
     "model_module": "@jupyter-widgets/base",
     "model_module_version": "1.2.0",
     "model_name": "LayoutModel",
     "state": {
      "_model_module": "@jupyter-widgets/base",
      "_model_module_version": "1.2.0",
      "_model_name": "LayoutModel",
      "_view_count": null,
      "_view_module": "@jupyter-widgets/base",
      "_view_module_version": "1.2.0",
      "_view_name": "LayoutView",
      "align_content": null,
      "align_items": null,
      "align_self": null,
      "border": null,
      "bottom": null,
      "display": null,
      "flex": null,
      "flex_flow": null,
      "grid_area": null,
      "grid_auto_columns": null,
      "grid_auto_flow": null,
      "grid_auto_rows": null,
      "grid_column": null,
      "grid_gap": null,
      "grid_row": null,
      "grid_template_areas": null,
      "grid_template_columns": null,
      "grid_template_rows": null,
      "height": null,
      "justify_content": null,
      "justify_items": null,
      "left": null,
      "margin": null,
      "max_height": null,
      "max_width": null,
      "min_height": null,
      "min_width": null,
      "object_fit": null,
      "object_position": null,
      "order": null,
      "overflow": null,
      "overflow_x": null,
      "overflow_y": null,
      "padding": null,
      "right": null,
      "top": null,
      "visibility": null,
      "width": null
     }
    },
    "62052d4515e04392887be3126de3fbe0": {
     "model_module": "@jupyter-widgets/controls",
     "model_module_version": "1.5.0",
     "model_name": "DescriptionStyleModel",
     "state": {
      "_model_module": "@jupyter-widgets/controls",
      "_model_module_version": "1.5.0",
      "_model_name": "DescriptionStyleModel",
      "_view_count": null,
      "_view_module": "@jupyter-widgets/base",
      "_view_module_version": "1.2.0",
      "_view_name": "StyleView",
      "description_width": ""
     }
    },
    "642f9d02c9b24ddda6b326ee79624c00": {
     "model_module": "@jupyter-widgets/controls",
     "model_module_version": "1.5.0",
     "model_name": "HTMLModel",
     "state": {
      "_dom_classes": [],
      "_model_module": "@jupyter-widgets/controls",
      "_model_module_version": "1.5.0",
      "_model_name": "HTMLModel",
      "_view_count": null,
      "_view_module": "@jupyter-widgets/controls",
      "_view_module_version": "1.5.0",
      "_view_name": "HTMLView",
      "description": "",
      "description_tooltip": null,
      "layout": "IPY_MODEL_7a51d317fca44181bf86b6f6a8b6daa3",
      "placeholder": "​",
      "style": "IPY_MODEL_e9df6e742d0d49a0b8ce19d89cc048a1",
      "value": "100%"
     }
    },
    "6462e281a95e487cb7450d5c28429d30": {
     "model_module": "@jupyter-widgets/base",
     "model_module_version": "1.2.0",
     "model_name": "LayoutModel",
     "state": {
      "_model_module": "@jupyter-widgets/base",
      "_model_module_version": "1.2.0",
      "_model_name": "LayoutModel",
      "_view_count": null,
      "_view_module": "@jupyter-widgets/base",
      "_view_module_version": "1.2.0",
      "_view_name": "LayoutView",
      "align_content": null,
      "align_items": null,
      "align_self": null,
      "border": null,
      "bottom": null,
      "display": null,
      "flex": null,
      "flex_flow": null,
      "grid_area": null,
      "grid_auto_columns": null,
      "grid_auto_flow": null,
      "grid_auto_rows": null,
      "grid_column": null,
      "grid_gap": null,
      "grid_row": null,
      "grid_template_areas": null,
      "grid_template_columns": null,
      "grid_template_rows": null,
      "height": null,
      "justify_content": null,
      "justify_items": null,
      "left": null,
      "margin": null,
      "max_height": null,
      "max_width": null,
      "min_height": null,
      "min_width": null,
      "object_fit": null,
      "object_position": null,
      "order": null,
      "overflow": null,
      "overflow_x": null,
      "overflow_y": null,
      "padding": null,
      "right": null,
      "top": null,
      "visibility": null,
      "width": null
     }
    },
    "664bbb642f8c4b189321464141f42e4d": {
     "model_module": "@jupyter-widgets/base",
     "model_module_version": "1.2.0",
     "model_name": "LayoutModel",
     "state": {
      "_model_module": "@jupyter-widgets/base",
      "_model_module_version": "1.2.0",
      "_model_name": "LayoutModel",
      "_view_count": null,
      "_view_module": "@jupyter-widgets/base",
      "_view_module_version": "1.2.0",
      "_view_name": "LayoutView",
      "align_content": null,
      "align_items": null,
      "align_self": null,
      "border": null,
      "bottom": null,
      "display": null,
      "flex": null,
      "flex_flow": null,
      "grid_area": null,
      "grid_auto_columns": null,
      "grid_auto_flow": null,
      "grid_auto_rows": null,
      "grid_column": null,
      "grid_gap": null,
      "grid_row": null,
      "grid_template_areas": null,
      "grid_template_columns": null,
      "grid_template_rows": null,
      "height": null,
      "justify_content": null,
      "justify_items": null,
      "left": null,
      "margin": null,
      "max_height": null,
      "max_width": null,
      "min_height": null,
      "min_width": null,
      "object_fit": null,
      "object_position": null,
      "order": null,
      "overflow": null,
      "overflow_x": null,
      "overflow_y": null,
      "padding": null,
      "right": null,
      "top": null,
      "visibility": null,
      "width": null
     }
    },
    "666b8d668b3f40adb49cd28a8614ac45": {
     "model_module": "@jupyter-widgets/controls",
     "model_module_version": "1.5.0",
     "model_name": "DescriptionStyleModel",
     "state": {
      "_model_module": "@jupyter-widgets/controls",
      "_model_module_version": "1.5.0",
      "_model_name": "DescriptionStyleModel",
      "_view_count": null,
      "_view_module": "@jupyter-widgets/base",
      "_view_module_version": "1.2.0",
      "_view_name": "StyleView",
      "description_width": ""
     }
    },
    "695567a431b240c2a68885d9244ad2c9": {
     "model_module": "@jupyter-widgets/controls",
     "model_module_version": "1.5.0",
     "model_name": "HTMLModel",
     "state": {
      "_dom_classes": [],
      "_model_module": "@jupyter-widgets/controls",
      "_model_module_version": "1.5.0",
      "_model_name": "HTMLModel",
      "_view_count": null,
      "_view_module": "@jupyter-widgets/controls",
      "_view_module_version": "1.5.0",
      "_view_name": "HTMLView",
      "description": "",
      "description_tooltip": null,
      "layout": "IPY_MODEL_2f37784b86e94c2f8119f206a7bbe8d3",
      "placeholder": "​",
      "style": "IPY_MODEL_30278c3a0b8c41f28e26f3936f70ac73",
      "value": " 10/10 [00:00&lt;00:00, 32.74it/s]"
     }
    },
    "6bfb9264057c431eb35c2b54f01d042e": {
     "model_module": "@jupyter-widgets/controls",
     "model_module_version": "1.5.0",
     "model_name": "ProgressStyleModel",
     "state": {
      "_model_module": "@jupyter-widgets/controls",
      "_model_module_version": "1.5.0",
      "_model_name": "ProgressStyleModel",
      "_view_count": null,
      "_view_module": "@jupyter-widgets/base",
      "_view_module_version": "1.2.0",
      "_view_name": "StyleView",
      "bar_color": null,
      "description_width": ""
     }
    },
    "7417221a905b460e926cfa077d453c92": {
     "model_module": "@jupyter-widgets/controls",
     "model_module_version": "1.5.0",
     "model_name": "ProgressStyleModel",
     "state": {
      "_model_module": "@jupyter-widgets/controls",
      "_model_module_version": "1.5.0",
      "_model_name": "ProgressStyleModel",
      "_view_count": null,
      "_view_module": "@jupyter-widgets/base",
      "_view_module_version": "1.2.0",
      "_view_name": "StyleView",
      "bar_color": null,
      "description_width": ""
     }
    },
    "76ee748a466a4a33875a0b9139c38e01": {
     "model_module": "@jupyter-widgets/controls",
     "model_module_version": "1.5.0",
     "model_name": "HTMLModel",
     "state": {
      "_dom_classes": [],
      "_model_module": "@jupyter-widgets/controls",
      "_model_module_version": "1.5.0",
      "_model_name": "HTMLModel",
      "_view_count": null,
      "_view_module": "@jupyter-widgets/controls",
      "_view_module_version": "1.5.0",
      "_view_name": "HTMLView",
      "description": "",
      "description_tooltip": null,
      "layout": "IPY_MODEL_4ac7c2a3f40a49398dcdfa6f66ba1141",
      "placeholder": "​",
      "style": "IPY_MODEL_e400e3946eda40b29728d8ad6891051d",
      "value": "100%"
     }
    },
    "78c2f9d2aa8c4aa588116c0a4a16b92f": {
     "model_module": "@jupyter-widgets/controls",
     "model_module_version": "1.5.0",
     "model_name": "HBoxModel",
     "state": {
      "_dom_classes": [],
      "_model_module": "@jupyter-widgets/controls",
      "_model_module_version": "1.5.0",
      "_model_name": "HBoxModel",
      "_view_count": null,
      "_view_module": "@jupyter-widgets/controls",
      "_view_module_version": "1.5.0",
      "_view_name": "HBoxView",
      "box_style": "",
      "children": [
       "IPY_MODEL_d5278b7fffcf4af88dcf1e5eea67ee0f",
       "IPY_MODEL_9aeebf9dbe214ca4a167a109692bb0b4",
       "IPY_MODEL_2c65b68e28464b369f4954b8f784cfb0"
      ],
      "layout": "IPY_MODEL_ef3ee887b7af4598a6037c499c3902b9"
     }
    },
    "79384976c66348ab831a98f3cfdaad83": {
     "model_module": "@jupyter-widgets/base",
     "model_module_version": "1.2.0",
     "model_name": "LayoutModel",
     "state": {
      "_model_module": "@jupyter-widgets/base",
      "_model_module_version": "1.2.0",
      "_model_name": "LayoutModel",
      "_view_count": null,
      "_view_module": "@jupyter-widgets/base",
      "_view_module_version": "1.2.0",
      "_view_name": "LayoutView",
      "align_content": null,
      "align_items": null,
      "align_self": null,
      "border": null,
      "bottom": null,
      "display": null,
      "flex": null,
      "flex_flow": null,
      "grid_area": null,
      "grid_auto_columns": null,
      "grid_auto_flow": null,
      "grid_auto_rows": null,
      "grid_column": null,
      "grid_gap": null,
      "grid_row": null,
      "grid_template_areas": null,
      "grid_template_columns": null,
      "grid_template_rows": null,
      "height": null,
      "justify_content": null,
      "justify_items": null,
      "left": null,
      "margin": null,
      "max_height": null,
      "max_width": null,
      "min_height": null,
      "min_width": null,
      "object_fit": null,
      "object_position": null,
      "order": null,
      "overflow": null,
      "overflow_x": null,
      "overflow_y": null,
      "padding": null,
      "right": null,
      "top": null,
      "visibility": null,
      "width": null
     }
    },
    "7a51d317fca44181bf86b6f6a8b6daa3": {
     "model_module": "@jupyter-widgets/base",
     "model_module_version": "1.2.0",
     "model_name": "LayoutModel",
     "state": {
      "_model_module": "@jupyter-widgets/base",
      "_model_module_version": "1.2.0",
      "_model_name": "LayoutModel",
      "_view_count": null,
      "_view_module": "@jupyter-widgets/base",
      "_view_module_version": "1.2.0",
      "_view_name": "LayoutView",
      "align_content": null,
      "align_items": null,
      "align_self": null,
      "border": null,
      "bottom": null,
      "display": null,
      "flex": null,
      "flex_flow": null,
      "grid_area": null,
      "grid_auto_columns": null,
      "grid_auto_flow": null,
      "grid_auto_rows": null,
      "grid_column": null,
      "grid_gap": null,
      "grid_row": null,
      "grid_template_areas": null,
      "grid_template_columns": null,
      "grid_template_rows": null,
      "height": null,
      "justify_content": null,
      "justify_items": null,
      "left": null,
      "margin": null,
      "max_height": null,
      "max_width": null,
      "min_height": null,
      "min_width": null,
      "object_fit": null,
      "object_position": null,
      "order": null,
      "overflow": null,
      "overflow_x": null,
      "overflow_y": null,
      "padding": null,
      "right": null,
      "top": null,
      "visibility": null,
      "width": null
     }
    },
    "7b1bed1f6cc44c9fb102fd4ca53ddf6f": {
     "model_module": "@jupyter-widgets/controls",
     "model_module_version": "1.5.0",
     "model_name": "DescriptionStyleModel",
     "state": {
      "_model_module": "@jupyter-widgets/controls",
      "_model_module_version": "1.5.0",
      "_model_name": "DescriptionStyleModel",
      "_view_count": null,
      "_view_module": "@jupyter-widgets/base",
      "_view_module_version": "1.2.0",
      "_view_name": "StyleView",
      "description_width": ""
     }
    },
    "7d048edf0e64408dabf891d7c4af5723": {
     "model_module": "@jupyter-widgets/controls",
     "model_module_version": "1.5.0",
     "model_name": "FloatProgressModel",
     "state": {
      "_dom_classes": [],
      "_model_module": "@jupyter-widgets/controls",
      "_model_module_version": "1.5.0",
      "_model_name": "FloatProgressModel",
      "_view_count": null,
      "_view_module": "@jupyter-widgets/controls",
      "_view_module_version": "1.5.0",
      "_view_name": "ProgressView",
      "bar_style": "success",
      "description": "",
      "description_tooltip": null,
      "layout": "IPY_MODEL_047cbdf346d04f8598928024282bcb59",
      "max": 115446,
      "min": 0,
      "orientation": "horizontal",
      "style": "IPY_MODEL_c4d04ac1aef148cea3010f2fc6c44dc8",
      "value": 115446
     }
    },
    "7d6ea0fb8c054163857387339d55a93e": {
     "model_module": "@jupyter-widgets/controls",
     "model_module_version": "1.5.0",
     "model_name": "DescriptionStyleModel",
     "state": {
      "_model_module": "@jupyter-widgets/controls",
      "_model_module_version": "1.5.0",
      "_model_name": "DescriptionStyleModel",
      "_view_count": null,
      "_view_module": "@jupyter-widgets/base",
      "_view_module_version": "1.2.0",
      "_view_name": "StyleView",
      "description_width": ""
     }
    },
    "7f4cc27fdff14d7aacdd80e7396601a0": {
     "model_module": "@jupyter-widgets/controls",
     "model_module_version": "1.5.0",
     "model_name": "FloatProgressModel",
     "state": {
      "_dom_classes": [],
      "_model_module": "@jupyter-widgets/controls",
      "_model_module_version": "1.5.0",
      "_model_name": "FloatProgressModel",
      "_view_count": null,
      "_view_module": "@jupyter-widgets/controls",
      "_view_module_version": "1.5.0",
      "_view_name": "ProgressView",
      "bar_style": "success",
      "description": "",
      "description_tooltip": null,
      "layout": "IPY_MODEL_e550df2b2f24488f94c6464633a018e6",
      "max": 10,
      "min": 0,
      "orientation": "horizontal",
      "style": "IPY_MODEL_7417221a905b460e926cfa077d453c92",
      "value": 10
     }
    },
    "8254653f6a17468ab25a5f00748a8027": {
     "model_module": "@jupyter-widgets/controls",
     "model_module_version": "1.5.0",
     "model_name": "DescriptionStyleModel",
     "state": {
      "_model_module": "@jupyter-widgets/controls",
      "_model_module_version": "1.5.0",
      "_model_name": "DescriptionStyleModel",
      "_view_count": null,
      "_view_module": "@jupyter-widgets/base",
      "_view_module_version": "1.2.0",
      "_view_name": "StyleView",
      "description_width": ""
     }
    },
    "82765fc33b0d402e85d54c5bd6d9c13f": {
     "model_module": "@jupyter-widgets/controls",
     "model_module_version": "1.5.0",
     "model_name": "HTMLModel",
     "state": {
      "_dom_classes": [],
      "_model_module": "@jupyter-widgets/controls",
      "_model_module_version": "1.5.0",
      "_model_name": "HTMLModel",
      "_view_count": null,
      "_view_module": "@jupyter-widgets/controls",
      "_view_module_version": "1.5.0",
      "_view_name": "HTMLView",
      "description": "",
      "description_tooltip": null,
      "layout": "IPY_MODEL_f73682702d7e41bf9d9f2e25c3bd3bb6",
      "placeholder": "​",
      "style": "IPY_MODEL_b9f00c29671741098029084c765f271e",
      "value": " 5/5 [26:19&lt;00:00, 282.06s/it]"
     }
    },
    "828e350bb6d1452a8a5f5bbefa8a83d6": {
     "model_module": "@jupyter-widgets/controls",
     "model_module_version": "1.5.0",
     "model_name": "HBoxModel",
     "state": {
      "_dom_classes": [],
      "_model_module": "@jupyter-widgets/controls",
      "_model_module_version": "1.5.0",
      "_model_name": "HBoxModel",
      "_view_count": null,
      "_view_module": "@jupyter-widgets/controls",
      "_view_module_version": "1.5.0",
      "_view_name": "HBoxView",
      "box_style": "",
      "children": [
       "IPY_MODEL_e4c01efac4834cb7bbf8b7e541182335",
       "IPY_MODEL_34429f0b79524cf58313691e77a9e460",
       "IPY_MODEL_695567a431b240c2a68885d9244ad2c9"
      ],
      "layout": "IPY_MODEL_8a388b475bd04c84b99a8c13d62eea9a"
     }
    },
    "82f0cd71005646b6a11e66ad71cdca11": {
     "model_module": "@jupyter-widgets/controls",
     "model_module_version": "1.5.0",
     "model_name": "DescriptionStyleModel",
     "state": {
      "_model_module": "@jupyter-widgets/controls",
      "_model_module_version": "1.5.0",
      "_model_name": "DescriptionStyleModel",
      "_view_count": null,
      "_view_module": "@jupyter-widgets/base",
      "_view_module_version": "1.2.0",
      "_view_name": "StyleView",
      "description_width": ""
     }
    },
    "8695d58086aa4462b2aeca25b67b574c": {
     "model_module": "@jupyter-widgets/controls",
     "model_module_version": "1.5.0",
     "model_name": "ProgressStyleModel",
     "state": {
      "_model_module": "@jupyter-widgets/controls",
      "_model_module_version": "1.5.0",
      "_model_name": "ProgressStyleModel",
      "_view_count": null,
      "_view_module": "@jupyter-widgets/base",
      "_view_module_version": "1.2.0",
      "_view_name": "StyleView",
      "bar_color": null,
      "description_width": ""
     }
    },
    "86b198a4fff244e281f40fa2427e4cca": {
     "model_module": "@jupyter-widgets/base",
     "model_module_version": "1.2.0",
     "model_name": "LayoutModel",
     "state": {
      "_model_module": "@jupyter-widgets/base",
      "_model_module_version": "1.2.0",
      "_model_name": "LayoutModel",
      "_view_count": null,
      "_view_module": "@jupyter-widgets/base",
      "_view_module_version": "1.2.0",
      "_view_name": "LayoutView",
      "align_content": null,
      "align_items": null,
      "align_self": null,
      "border": null,
      "bottom": null,
      "display": null,
      "flex": null,
      "flex_flow": null,
      "grid_area": null,
      "grid_auto_columns": null,
      "grid_auto_flow": null,
      "grid_auto_rows": null,
      "grid_column": null,
      "grid_gap": null,
      "grid_row": null,
      "grid_template_areas": null,
      "grid_template_columns": null,
      "grid_template_rows": null,
      "height": null,
      "justify_content": null,
      "justify_items": null,
      "left": null,
      "margin": null,
      "max_height": null,
      "max_width": null,
      "min_height": null,
      "min_width": null,
      "object_fit": null,
      "object_position": null,
      "order": null,
      "overflow": null,
      "overflow_x": null,
      "overflow_y": null,
      "padding": null,
      "right": null,
      "top": null,
      "visibility": null,
      "width": null
     }
    },
    "875ce7d26c0a4ecaa4e13148774996fc": {
     "model_module": "@jupyter-widgets/controls",
     "model_module_version": "1.5.0",
     "model_name": "HTMLModel",
     "state": {
      "_dom_classes": [],
      "_model_module": "@jupyter-widgets/controls",
      "_model_module_version": "1.5.0",
      "_model_name": "HTMLModel",
      "_view_count": null,
      "_view_module": "@jupyter-widgets/controls",
      "_view_module_version": "1.5.0",
      "_view_name": "HTMLView",
      "description": "",
      "description_tooltip": null,
      "layout": "IPY_MODEL_ffa77cc7e792405d91b61e5a93e0f579",
      "placeholder": "​",
      "style": "IPY_MODEL_62052d4515e04392887be3126de3fbe0",
      "value": " 115446/115446 [00:02&lt;00:00, 50685.27it/s]"
     }
    },
    "88c0c0e4f7c6466490d0a557e12ef865": {
     "model_module": "@jupyter-widgets/controls",
     "model_module_version": "1.5.0",
     "model_name": "HTMLModel",
     "state": {
      "_dom_classes": [],
      "_model_module": "@jupyter-widgets/controls",
      "_model_module_version": "1.5.0",
      "_model_name": "HTMLModel",
      "_view_count": null,
      "_view_module": "@jupyter-widgets/controls",
      "_view_module_version": "1.5.0",
      "_view_name": "HTMLView",
      "description": "",
      "description_tooltip": null,
      "layout": "IPY_MODEL_1d6c59d46e63477b8827251691c50a1e",
      "placeholder": "​",
      "style": "IPY_MODEL_7d6ea0fb8c054163857387339d55a93e",
      "value": "100%"
     }
    },
    "89c48dc26d4d4e79a0cab6bb6be34be4": {
     "model_module": "@jupyter-widgets/controls",
     "model_module_version": "1.5.0",
     "model_name": "DescriptionStyleModel",
     "state": {
      "_model_module": "@jupyter-widgets/controls",
      "_model_module_version": "1.5.0",
      "_model_name": "DescriptionStyleModel",
      "_view_count": null,
      "_view_module": "@jupyter-widgets/base",
      "_view_module_version": "1.2.0",
      "_view_name": "StyleView",
      "description_width": ""
     }
    },
    "8a388b475bd04c84b99a8c13d62eea9a": {
     "model_module": "@jupyter-widgets/base",
     "model_module_version": "1.2.0",
     "model_name": "LayoutModel",
     "state": {
      "_model_module": "@jupyter-widgets/base",
      "_model_module_version": "1.2.0",
      "_model_name": "LayoutModel",
      "_view_count": null,
      "_view_module": "@jupyter-widgets/base",
      "_view_module_version": "1.2.0",
      "_view_name": "LayoutView",
      "align_content": null,
      "align_items": null,
      "align_self": null,
      "border": null,
      "bottom": null,
      "display": null,
      "flex": null,
      "flex_flow": null,
      "grid_area": null,
      "grid_auto_columns": null,
      "grid_auto_flow": null,
      "grid_auto_rows": null,
      "grid_column": null,
      "grid_gap": null,
      "grid_row": null,
      "grid_template_areas": null,
      "grid_template_columns": null,
      "grid_template_rows": null,
      "height": null,
      "justify_content": null,
      "justify_items": null,
      "left": null,
      "margin": null,
      "max_height": null,
      "max_width": null,
      "min_height": null,
      "min_width": null,
      "object_fit": null,
      "object_position": null,
      "order": null,
      "overflow": null,
      "overflow_x": null,
      "overflow_y": null,
      "padding": null,
      "right": null,
      "top": null,
      "visibility": null,
      "width": null
     }
    },
    "8a6a748fd3ed49c080cd9cf865d3fceb": {
     "model_module": "@jupyter-widgets/controls",
     "model_module_version": "1.5.0",
     "model_name": "FloatProgressModel",
     "state": {
      "_dom_classes": [],
      "_model_module": "@jupyter-widgets/controls",
      "_model_module_version": "1.5.0",
      "_model_name": "FloatProgressModel",
      "_view_count": null,
      "_view_module": "@jupyter-widgets/controls",
      "_view_module_version": "1.5.0",
      "_view_name": "ProgressView",
      "bar_style": "success",
      "description": "",
      "description_tooltip": null,
      "layout": "IPY_MODEL_57f05d2e743d493d8d8ff1087aea788b",
      "max": 5,
      "min": 0,
      "orientation": "horizontal",
      "style": "IPY_MODEL_4aac2216925a4e9c8c392dca8b977a1b",
      "value": 5
     }
    },
    "91b831ee9fd549739fffd2728322a387": {
     "model_module": "@jupyter-widgets/base",
     "model_module_version": "1.2.0",
     "model_name": "LayoutModel",
     "state": {
      "_model_module": "@jupyter-widgets/base",
      "_model_module_version": "1.2.0",
      "_model_name": "LayoutModel",
      "_view_count": null,
      "_view_module": "@jupyter-widgets/base",
      "_view_module_version": "1.2.0",
      "_view_name": "LayoutView",
      "align_content": null,
      "align_items": null,
      "align_self": null,
      "border": null,
      "bottom": null,
      "display": null,
      "flex": null,
      "flex_flow": null,
      "grid_area": null,
      "grid_auto_columns": null,
      "grid_auto_flow": null,
      "grid_auto_rows": null,
      "grid_column": null,
      "grid_gap": null,
      "grid_row": null,
      "grid_template_areas": null,
      "grid_template_columns": null,
      "grid_template_rows": null,
      "height": null,
      "justify_content": null,
      "justify_items": null,
      "left": null,
      "margin": null,
      "max_height": null,
      "max_width": null,
      "min_height": null,
      "min_width": null,
      "object_fit": null,
      "object_position": null,
      "order": null,
      "overflow": null,
      "overflow_x": null,
      "overflow_y": null,
      "padding": null,
      "right": null,
      "top": null,
      "visibility": null,
      "width": null
     }
    },
    "91dfaa7718f94aeea377c237c34d64bf": {
     "model_module": "@jupyter-widgets/controls",
     "model_module_version": "1.5.0",
     "model_name": "HTMLModel",
     "state": {
      "_dom_classes": [],
      "_model_module": "@jupyter-widgets/controls",
      "_model_module_version": "1.5.0",
      "_model_name": "HTMLModel",
      "_view_count": null,
      "_view_module": "@jupyter-widgets/controls",
      "_view_module_version": "1.5.0",
      "_view_name": "HTMLView",
      "description": "",
      "description_tooltip": null,
      "layout": "IPY_MODEL_560cb266d3094f7e971c06fe351149bf",
      "placeholder": "​",
      "style": "IPY_MODEL_666b8d668b3f40adb49cd28a8614ac45",
      "value": "100%"
     }
    },
    "93f5cdb237f64716ac6f3ccf651f248f": {
     "model_module": "@jupyter-widgets/controls",
     "model_module_version": "1.5.0",
     "model_name": "FloatProgressModel",
     "state": {
      "_dom_classes": [],
      "_model_module": "@jupyter-widgets/controls",
      "_model_module_version": "1.5.0",
      "_model_name": "FloatProgressModel",
      "_view_count": null,
      "_view_module": "@jupyter-widgets/controls",
      "_view_module_version": "1.5.0",
      "_view_name": "ProgressView",
      "bar_style": "success",
      "description": "",
      "description_tooltip": null,
      "layout": "IPY_MODEL_b414c37a5b3043708ff82ac53e191178",
      "max": 3,
      "min": 0,
      "orientation": "horizontal",
      "style": "IPY_MODEL_d9891d0299d54274bf312eebdf8cbab6",
      "value": 3
     }
    },
    "94d8d1976ee34239bf83eef52dca1627": {
     "model_module": "@jupyter-widgets/base",
     "model_module_version": "1.2.0",
     "model_name": "LayoutModel",
     "state": {
      "_model_module": "@jupyter-widgets/base",
      "_model_module_version": "1.2.0",
      "_model_name": "LayoutModel",
      "_view_count": null,
      "_view_module": "@jupyter-widgets/base",
      "_view_module_version": "1.2.0",
      "_view_name": "LayoutView",
      "align_content": null,
      "align_items": null,
      "align_self": null,
      "border": null,
      "bottom": null,
      "display": null,
      "flex": null,
      "flex_flow": null,
      "grid_area": null,
      "grid_auto_columns": null,
      "grid_auto_flow": null,
      "grid_auto_rows": null,
      "grid_column": null,
      "grid_gap": null,
      "grid_row": null,
      "grid_template_areas": null,
      "grid_template_columns": null,
      "grid_template_rows": null,
      "height": null,
      "justify_content": null,
      "justify_items": null,
      "left": null,
      "margin": null,
      "max_height": null,
      "max_width": null,
      "min_height": null,
      "min_width": null,
      "object_fit": null,
      "object_position": null,
      "order": null,
      "overflow": null,
      "overflow_x": null,
      "overflow_y": null,
      "padding": null,
      "right": null,
      "top": null,
      "visibility": null,
      "width": null
     }
    },
    "97ce94ffa8ba43c9a45c7f3f4dc1f232": {
     "model_module": "@jupyter-widgets/controls",
     "model_module_version": "1.5.0",
     "model_name": "HBoxModel",
     "state": {
      "_dom_classes": [],
      "_model_module": "@jupyter-widgets/controls",
      "_model_module_version": "1.5.0",
      "_model_name": "HBoxModel",
      "_view_count": null,
      "_view_module": "@jupyter-widgets/controls",
      "_view_module_version": "1.5.0",
      "_view_name": "HBoxView",
      "box_style": "",
      "children": [
       "IPY_MODEL_76ee748a466a4a33875a0b9139c38e01",
       "IPY_MODEL_3c8c16a99d524ab9ae242f345a9f98b0",
       "IPY_MODEL_4ce69a65161244ba9a8cf14ee750fa3a"
      ],
      "layout": "IPY_MODEL_e784c9bd49f346ab9b5434e53b399267"
     }
    },
    "9aeebf9dbe214ca4a167a109692bb0b4": {
     "model_module": "@jupyter-widgets/controls",
     "model_module_version": "1.5.0",
     "model_name": "FloatProgressModel",
     "state": {
      "_dom_classes": [],
      "_model_module": "@jupyter-widgets/controls",
      "_model_module_version": "1.5.0",
      "_model_name": "FloatProgressModel",
      "_view_count": null,
      "_view_module": "@jupyter-widgets/controls",
      "_view_module_version": "1.5.0",
      "_view_name": "ProgressView",
      "bar_style": "success",
      "description": "",
      "description_tooltip": null,
      "layout": "IPY_MODEL_cb362a7bfe254898a88f0bcbdfe7292d",
      "max": 3,
      "min": 0,
      "orientation": "horizontal",
      "style": "IPY_MODEL_8695d58086aa4462b2aeca25b67b574c",
      "value": 3
     }
    },
    "9c2ce4548f974172bb0a36e6e3ea1b3a": {
     "model_module": "@jupyter-widgets/controls",
     "model_module_version": "1.5.0",
     "model_name": "HTMLModel",
     "state": {
      "_dom_classes": [],
      "_model_module": "@jupyter-widgets/controls",
      "_model_module_version": "1.5.0",
      "_model_name": "HTMLModel",
      "_view_count": null,
      "_view_module": "@jupyter-widgets/controls",
      "_view_module_version": "1.5.0",
      "_view_name": "HTMLView",
      "description": "",
      "description_tooltip": null,
      "layout": "IPY_MODEL_d9fa84464c9a4d58ba614ee3d6897a0b",
      "placeholder": "​",
      "style": "IPY_MODEL_294565619736480d9b1c2a8dc92d6834",
      "value": " 41151/41151 [00:00&lt;00:00, 50758.57it/s]"
     }
    },
    "9f8dc80964a54297b26979c7e933377a": {
     "model_module": "@jupyter-widgets/controls",
     "model_module_version": "1.5.0",
     "model_name": "HTMLModel",
     "state": {
      "_dom_classes": [],
      "_model_module": "@jupyter-widgets/controls",
      "_model_module_version": "1.5.0",
      "_model_name": "HTMLModel",
      "_view_count": null,
      "_view_module": "@jupyter-widgets/controls",
      "_view_module_version": "1.5.0",
      "_view_name": "HTMLView",
      "description": "",
      "description_tooltip": null,
      "layout": "IPY_MODEL_2694790e12af42938c64487d9ab623c6",
      "placeholder": "​",
      "style": "IPY_MODEL_8254653f6a17468ab25a5f00748a8027",
      "value": "100%"
     }
    },
    "9fe3bf34121f4c549031583ba646e9a3": {
     "model_module": "@jupyter-widgets/base",
     "model_module_version": "1.2.0",
     "model_name": "LayoutModel",
     "state": {
      "_model_module": "@jupyter-widgets/base",
      "_model_module_version": "1.2.0",
      "_model_name": "LayoutModel",
      "_view_count": null,
      "_view_module": "@jupyter-widgets/base",
      "_view_module_version": "1.2.0",
      "_view_name": "LayoutView",
      "align_content": null,
      "align_items": null,
      "align_self": null,
      "border": null,
      "bottom": null,
      "display": null,
      "flex": null,
      "flex_flow": null,
      "grid_area": null,
      "grid_auto_columns": null,
      "grid_auto_flow": null,
      "grid_auto_rows": null,
      "grid_column": null,
      "grid_gap": null,
      "grid_row": null,
      "grid_template_areas": null,
      "grid_template_columns": null,
      "grid_template_rows": null,
      "height": null,
      "justify_content": null,
      "justify_items": null,
      "left": null,
      "margin": null,
      "max_height": null,
      "max_width": null,
      "min_height": null,
      "min_width": null,
      "object_fit": null,
      "object_position": null,
      "order": null,
      "overflow": null,
      "overflow_x": null,
      "overflow_y": null,
      "padding": null,
      "right": null,
      "top": null,
      "visibility": null,
      "width": null
     }
    },
    "a1c024c4540842cfb2987db246e94ebe": {
     "model_module": "@jupyter-widgets/controls",
     "model_module_version": "1.5.0",
     "model_name": "ProgressStyleModel",
     "state": {
      "_model_module": "@jupyter-widgets/controls",
      "_model_module_version": "1.5.0",
      "_model_name": "ProgressStyleModel",
      "_view_count": null,
      "_view_module": "@jupyter-widgets/base",
      "_view_module_version": "1.2.0",
      "_view_name": "StyleView",
      "bar_color": null,
      "description_width": ""
     }
    },
    "a35b323c277c44d5b0cf5c5de7b852bf": {
     "model_module": "@jupyter-widgets/controls",
     "model_module_version": "1.5.0",
     "model_name": "DescriptionStyleModel",
     "state": {
      "_model_module": "@jupyter-widgets/controls",
      "_model_module_version": "1.5.0",
      "_model_name": "DescriptionStyleModel",
      "_view_count": null,
      "_view_module": "@jupyter-widgets/base",
      "_view_module_version": "1.2.0",
      "_view_name": "StyleView",
      "description_width": ""
     }
    },
    "a5899ef22c644b66b746f36476aa43f7": {
     "model_module": "@jupyter-widgets/base",
     "model_module_version": "1.2.0",
     "model_name": "LayoutModel",
     "state": {
      "_model_module": "@jupyter-widgets/base",
      "_model_module_version": "1.2.0",
      "_model_name": "LayoutModel",
      "_view_count": null,
      "_view_module": "@jupyter-widgets/base",
      "_view_module_version": "1.2.0",
      "_view_name": "LayoutView",
      "align_content": null,
      "align_items": null,
      "align_self": null,
      "border": null,
      "bottom": null,
      "display": null,
      "flex": null,
      "flex_flow": null,
      "grid_area": null,
      "grid_auto_columns": null,
      "grid_auto_flow": null,
      "grid_auto_rows": null,
      "grid_column": null,
      "grid_gap": null,
      "grid_row": null,
      "grid_template_areas": null,
      "grid_template_columns": null,
      "grid_template_rows": null,
      "height": null,
      "justify_content": null,
      "justify_items": null,
      "left": null,
      "margin": null,
      "max_height": null,
      "max_width": null,
      "min_height": null,
      "min_width": null,
      "object_fit": null,
      "object_position": null,
      "order": null,
      "overflow": null,
      "overflow_x": null,
      "overflow_y": null,
      "padding": null,
      "right": null,
      "top": null,
      "visibility": null,
      "width": null
     }
    },
    "a783e05b1c0248d9a8f5f5c75716619c": {
     "model_module": "@jupyter-widgets/controls",
     "model_module_version": "1.5.0",
     "model_name": "HBoxModel",
     "state": {
      "_dom_classes": [],
      "_model_module": "@jupyter-widgets/controls",
      "_model_module_version": "1.5.0",
      "_model_name": "HBoxModel",
      "_view_count": null,
      "_view_module": "@jupyter-widgets/controls",
      "_view_module_version": "1.5.0",
      "_view_name": "HBoxView",
      "box_style": "",
      "children": [
       "IPY_MODEL_07b88e6c7d434554bcb822fc23e1b3c9",
       "IPY_MODEL_93f5cdb237f64716ac6f3ccf651f248f",
       "IPY_MODEL_dead9d2c9b0649318232c30137483219"
      ],
      "layout": "IPY_MODEL_fb25d5d000634536bcb1acfae7cf2e9d"
     }
    },
    "aa64230b55e746c9b097a14242dff76a": {
     "model_module": "@jupyter-widgets/controls",
     "model_module_version": "1.5.0",
     "model_name": "DescriptionStyleModel",
     "state": {
      "_model_module": "@jupyter-widgets/controls",
      "_model_module_version": "1.5.0",
      "_model_name": "DescriptionStyleModel",
      "_view_count": null,
      "_view_module": "@jupyter-widgets/base",
      "_view_module_version": "1.2.0",
      "_view_name": "StyleView",
      "description_width": ""
     }
    },
    "aeaa4f45c5e8409b91a9943de6f8dabf": {
     "model_module": "@jupyter-widgets/base",
     "model_module_version": "1.2.0",
     "model_name": "LayoutModel",
     "state": {
      "_model_module": "@jupyter-widgets/base",
      "_model_module_version": "1.2.0",
      "_model_name": "LayoutModel",
      "_view_count": null,
      "_view_module": "@jupyter-widgets/base",
      "_view_module_version": "1.2.0",
      "_view_name": "LayoutView",
      "align_content": null,
      "align_items": null,
      "align_self": null,
      "border": null,
      "bottom": null,
      "display": null,
      "flex": null,
      "flex_flow": null,
      "grid_area": null,
      "grid_auto_columns": null,
      "grid_auto_flow": null,
      "grid_auto_rows": null,
      "grid_column": null,
      "grid_gap": null,
      "grid_row": null,
      "grid_template_areas": null,
      "grid_template_columns": null,
      "grid_template_rows": null,
      "height": null,
      "justify_content": null,
      "justify_items": null,
      "left": null,
      "margin": null,
      "max_height": null,
      "max_width": null,
      "min_height": null,
      "min_width": null,
      "object_fit": null,
      "object_position": null,
      "order": null,
      "overflow": null,
      "overflow_x": null,
      "overflow_y": null,
      "padding": null,
      "right": null,
      "top": null,
      "visibility": null,
      "width": null
     }
    },
    "b414c37a5b3043708ff82ac53e191178": {
     "model_module": "@jupyter-widgets/base",
     "model_module_version": "1.2.0",
     "model_name": "LayoutModel",
     "state": {
      "_model_module": "@jupyter-widgets/base",
      "_model_module_version": "1.2.0",
      "_model_name": "LayoutModel",
      "_view_count": null,
      "_view_module": "@jupyter-widgets/base",
      "_view_module_version": "1.2.0",
      "_view_name": "LayoutView",
      "align_content": null,
      "align_items": null,
      "align_self": null,
      "border": null,
      "bottom": null,
      "display": null,
      "flex": null,
      "flex_flow": null,
      "grid_area": null,
      "grid_auto_columns": null,
      "grid_auto_flow": null,
      "grid_auto_rows": null,
      "grid_column": null,
      "grid_gap": null,
      "grid_row": null,
      "grid_template_areas": null,
      "grid_template_columns": null,
      "grid_template_rows": null,
      "height": null,
      "justify_content": null,
      "justify_items": null,
      "left": null,
      "margin": null,
      "max_height": null,
      "max_width": null,
      "min_height": null,
      "min_width": null,
      "object_fit": null,
      "object_position": null,
      "order": null,
      "overflow": null,
      "overflow_x": null,
      "overflow_y": null,
      "padding": null,
      "right": null,
      "top": null,
      "visibility": null,
      "width": null
     }
    },
    "b9f00c29671741098029084c765f271e": {
     "model_module": "@jupyter-widgets/controls",
     "model_module_version": "1.5.0",
     "model_name": "DescriptionStyleModel",
     "state": {
      "_model_module": "@jupyter-widgets/controls",
      "_model_module_version": "1.5.0",
      "_model_name": "DescriptionStyleModel",
      "_view_count": null,
      "_view_module": "@jupyter-widgets/base",
      "_view_module_version": "1.2.0",
      "_view_name": "StyleView",
      "description_width": ""
     }
    },
    "ba562e5e6137437fa055e71d0e8af4dc": {
     "model_module": "@jupyter-widgets/controls",
     "model_module_version": "1.5.0",
     "model_name": "DescriptionStyleModel",
     "state": {
      "_model_module": "@jupyter-widgets/controls",
      "_model_module_version": "1.5.0",
      "_model_name": "DescriptionStyleModel",
      "_view_count": null,
      "_view_module": "@jupyter-widgets/base",
      "_view_module_version": "1.2.0",
      "_view_name": "StyleView",
      "description_width": ""
     }
    },
    "be7d75cdc0254873b3ece4c7af8d1152": {
     "model_module": "@jupyter-widgets/controls",
     "model_module_version": "1.5.0",
     "model_name": "DescriptionStyleModel",
     "state": {
      "_model_module": "@jupyter-widgets/controls",
      "_model_module_version": "1.5.0",
      "_model_name": "DescriptionStyleModel",
      "_view_count": null,
      "_view_module": "@jupyter-widgets/base",
      "_view_module_version": "1.2.0",
      "_view_name": "StyleView",
      "description_width": ""
     }
    },
    "c284f4202be04b74be746527fdf2fdca": {
     "model_module": "@jupyter-widgets/base",
     "model_module_version": "1.2.0",
     "model_name": "LayoutModel",
     "state": {
      "_model_module": "@jupyter-widgets/base",
      "_model_module_version": "1.2.0",
      "_model_name": "LayoutModel",
      "_view_count": null,
      "_view_module": "@jupyter-widgets/base",
      "_view_module_version": "1.2.0",
      "_view_name": "LayoutView",
      "align_content": null,
      "align_items": null,
      "align_self": null,
      "border": null,
      "bottom": null,
      "display": null,
      "flex": null,
      "flex_flow": null,
      "grid_area": null,
      "grid_auto_columns": null,
      "grid_auto_flow": null,
      "grid_auto_rows": null,
      "grid_column": null,
      "grid_gap": null,
      "grid_row": null,
      "grid_template_areas": null,
      "grid_template_columns": null,
      "grid_template_rows": null,
      "height": null,
      "justify_content": null,
      "justify_items": null,
      "left": null,
      "margin": null,
      "max_height": null,
      "max_width": null,
      "min_height": null,
      "min_width": null,
      "object_fit": null,
      "object_position": null,
      "order": null,
      "overflow": null,
      "overflow_x": null,
      "overflow_y": null,
      "padding": null,
      "right": null,
      "top": null,
      "visibility": null,
      "width": null
     }
    },
    "c3bff95334644ce2bf2803d71a2c005b": {
     "model_module": "@jupyter-widgets/controls",
     "model_module_version": "1.5.0",
     "model_name": "HBoxModel",
     "state": {
      "_dom_classes": [],
      "_model_module": "@jupyter-widgets/controls",
      "_model_module_version": "1.5.0",
      "_model_name": "HBoxModel",
      "_view_count": null,
      "_view_module": "@jupyter-widgets/controls",
      "_view_module_version": "1.5.0",
      "_view_name": "HBoxView",
      "box_style": "",
      "children": [
       "IPY_MODEL_5421f12d69084f9b9fb539214b914b61",
       "IPY_MODEL_8a6a748fd3ed49c080cd9cf865d3fceb",
       "IPY_MODEL_82765fc33b0d402e85d54c5bd6d9c13f"
      ],
      "layout": "IPY_MODEL_437fc64d95b3409aa136ee33bef9dcab"
     }
    },
    "c4d04ac1aef148cea3010f2fc6c44dc8": {
     "model_module": "@jupyter-widgets/controls",
     "model_module_version": "1.5.0",
     "model_name": "ProgressStyleModel",
     "state": {
      "_model_module": "@jupyter-widgets/controls",
      "_model_module_version": "1.5.0",
      "_model_name": "ProgressStyleModel",
      "_view_count": null,
      "_view_module": "@jupyter-widgets/base",
      "_view_module_version": "1.2.0",
      "_view_name": "StyleView",
      "bar_color": null,
      "description_width": ""
     }
    },
    "cb362a7bfe254898a88f0bcbdfe7292d": {
     "model_module": "@jupyter-widgets/base",
     "model_module_version": "1.2.0",
     "model_name": "LayoutModel",
     "state": {
      "_model_module": "@jupyter-widgets/base",
      "_model_module_version": "1.2.0",
      "_model_name": "LayoutModel",
      "_view_count": null,
      "_view_module": "@jupyter-widgets/base",
      "_view_module_version": "1.2.0",
      "_view_name": "LayoutView",
      "align_content": null,
      "align_items": null,
      "align_self": null,
      "border": null,
      "bottom": null,
      "display": null,
      "flex": null,
      "flex_flow": null,
      "grid_area": null,
      "grid_auto_columns": null,
      "grid_auto_flow": null,
      "grid_auto_rows": null,
      "grid_column": null,
      "grid_gap": null,
      "grid_row": null,
      "grid_template_areas": null,
      "grid_template_columns": null,
      "grid_template_rows": null,
      "height": null,
      "justify_content": null,
      "justify_items": null,
      "left": null,
      "margin": null,
      "max_height": null,
      "max_width": null,
      "min_height": null,
      "min_width": null,
      "object_fit": null,
      "object_position": null,
      "order": null,
      "overflow": null,
      "overflow_x": null,
      "overflow_y": null,
      "padding": null,
      "right": null,
      "top": null,
      "visibility": null,
      "width": null
     }
    },
    "d23383f6d89a481eae8d658a91b489f2": {
     "model_module": "@jupyter-widgets/controls",
     "model_module_version": "1.5.0",
     "model_name": "HTMLModel",
     "state": {
      "_dom_classes": [],
      "_model_module": "@jupyter-widgets/controls",
      "_model_module_version": "1.5.0",
      "_model_name": "HTMLModel",
      "_view_count": null,
      "_view_module": "@jupyter-widgets/controls",
      "_view_module_version": "1.5.0",
      "_view_name": "HTMLView",
      "description": "",
      "description_tooltip": null,
      "layout": "IPY_MODEL_6462e281a95e487cb7450d5c28429d30",
      "placeholder": "​",
      "style": "IPY_MODEL_82f0cd71005646b6a11e66ad71cdca11",
      "value": " 3/3 [05:02&lt;00:00, 92.19s/it]"
     }
    },
    "d2caeee1da4b47f6bc7d81566a68d91b": {
     "model_module": "@jupyter-widgets/controls",
     "model_module_version": "1.5.0",
     "model_name": "DescriptionStyleModel",
     "state": {
      "_model_module": "@jupyter-widgets/controls",
      "_model_module_version": "1.5.0",
      "_model_name": "DescriptionStyleModel",
      "_view_count": null,
      "_view_module": "@jupyter-widgets/base",
      "_view_module_version": "1.2.0",
      "_view_name": "StyleView",
      "description_width": ""
     }
    },
    "d3c0561d4b1e4ace86472227c4d5d560": {
     "model_module": "@jupyter-widgets/controls",
     "model_module_version": "1.5.0",
     "model_name": "DescriptionStyleModel",
     "state": {
      "_model_module": "@jupyter-widgets/controls",
      "_model_module_version": "1.5.0",
      "_model_name": "DescriptionStyleModel",
      "_view_count": null,
      "_view_module": "@jupyter-widgets/base",
      "_view_module_version": "1.2.0",
      "_view_name": "StyleView",
      "description_width": ""
     }
    },
    "d5278b7fffcf4af88dcf1e5eea67ee0f": {
     "model_module": "@jupyter-widgets/controls",
     "model_module_version": "1.5.0",
     "model_name": "HTMLModel",
     "state": {
      "_dom_classes": [],
      "_model_module": "@jupyter-widgets/controls",
      "_model_module_version": "1.5.0",
      "_model_name": "HTMLModel",
      "_view_count": null,
      "_view_module": "@jupyter-widgets/controls",
      "_view_module_version": "1.5.0",
      "_view_name": "HTMLView",
      "description": "",
      "description_tooltip": null,
      "layout": "IPY_MODEL_dc6a9397287548aeb00f8d41425d411e",
      "placeholder": "​",
      "style": "IPY_MODEL_aa64230b55e746c9b097a14242dff76a",
      "value": "100%"
     }
    },
    "d6d2ea1634444a4a8dac710dc163548c": {
     "model_module": "@jupyter-widgets/controls",
     "model_module_version": "1.5.0",
     "model_name": "ProgressStyleModel",
     "state": {
      "_model_module": "@jupyter-widgets/controls",
      "_model_module_version": "1.5.0",
      "_model_name": "ProgressStyleModel",
      "_view_count": null,
      "_view_module": "@jupyter-widgets/base",
      "_view_module_version": "1.2.0",
      "_view_name": "StyleView",
      "bar_color": null,
      "description_width": ""
     }
    },
    "d9891d0299d54274bf312eebdf8cbab6": {
     "model_module": "@jupyter-widgets/controls",
     "model_module_version": "1.5.0",
     "model_name": "ProgressStyleModel",
     "state": {
      "_model_module": "@jupyter-widgets/controls",
      "_model_module_version": "1.5.0",
      "_model_name": "ProgressStyleModel",
      "_view_count": null,
      "_view_module": "@jupyter-widgets/base",
      "_view_module_version": "1.2.0",
      "_view_name": "StyleView",
      "bar_color": null,
      "description_width": ""
     }
    },
    "d9fa84464c9a4d58ba614ee3d6897a0b": {
     "model_module": "@jupyter-widgets/base",
     "model_module_version": "1.2.0",
     "model_name": "LayoutModel",
     "state": {
      "_model_module": "@jupyter-widgets/base",
      "_model_module_version": "1.2.0",
      "_model_name": "LayoutModel",
      "_view_count": null,
      "_view_module": "@jupyter-widgets/base",
      "_view_module_version": "1.2.0",
      "_view_name": "LayoutView",
      "align_content": null,
      "align_items": null,
      "align_self": null,
      "border": null,
      "bottom": null,
      "display": null,
      "flex": null,
      "flex_flow": null,
      "grid_area": null,
      "grid_auto_columns": null,
      "grid_auto_flow": null,
      "grid_auto_rows": null,
      "grid_column": null,
      "grid_gap": null,
      "grid_row": null,
      "grid_template_areas": null,
      "grid_template_columns": null,
      "grid_template_rows": null,
      "height": null,
      "justify_content": null,
      "justify_items": null,
      "left": null,
      "margin": null,
      "max_height": null,
      "max_width": null,
      "min_height": null,
      "min_width": null,
      "object_fit": null,
      "object_position": null,
      "order": null,
      "overflow": null,
      "overflow_x": null,
      "overflow_y": null,
      "padding": null,
      "right": null,
      "top": null,
      "visibility": null,
      "width": null
     }
    },
    "dc6a9397287548aeb00f8d41425d411e": {
     "model_module": "@jupyter-widgets/base",
     "model_module_version": "1.2.0",
     "model_name": "LayoutModel",
     "state": {
      "_model_module": "@jupyter-widgets/base",
      "_model_module_version": "1.2.0",
      "_model_name": "LayoutModel",
      "_view_count": null,
      "_view_module": "@jupyter-widgets/base",
      "_view_module_version": "1.2.0",
      "_view_name": "LayoutView",
      "align_content": null,
      "align_items": null,
      "align_self": null,
      "border": null,
      "bottom": null,
      "display": null,
      "flex": null,
      "flex_flow": null,
      "grid_area": null,
      "grid_auto_columns": null,
      "grid_auto_flow": null,
      "grid_auto_rows": null,
      "grid_column": null,
      "grid_gap": null,
      "grid_row": null,
      "grid_template_areas": null,
      "grid_template_columns": null,
      "grid_template_rows": null,
      "height": null,
      "justify_content": null,
      "justify_items": null,
      "left": null,
      "margin": null,
      "max_height": null,
      "max_width": null,
      "min_height": null,
      "min_width": null,
      "object_fit": null,
      "object_position": null,
      "order": null,
      "overflow": null,
      "overflow_x": null,
      "overflow_y": null,
      "padding": null,
      "right": null,
      "top": null,
      "visibility": null,
      "width": null
     }
    },
    "dead9d2c9b0649318232c30137483219": {
     "model_module": "@jupyter-widgets/controls",
     "model_module_version": "1.5.0",
     "model_name": "HTMLModel",
     "state": {
      "_dom_classes": [],
      "_model_module": "@jupyter-widgets/controls",
      "_model_module_version": "1.5.0",
      "_model_name": "HTMLModel",
      "_view_count": null,
      "_view_module": "@jupyter-widgets/controls",
      "_view_module_version": "1.5.0",
      "_view_name": "HTMLView",
      "description": "",
      "description_tooltip": null,
      "layout": "IPY_MODEL_3f37eeb2ca9b4d84889486049010a362",
      "placeholder": "​",
      "style": "IPY_MODEL_d2caeee1da4b47f6bc7d81566a68d91b",
      "value": " 3/3 [04:10&lt;00:00, 76.53s/it]"
     }
    },
    "e0ba5fe6838d4b2b900901fb89abc7ff": {
     "model_module": "@jupyter-widgets/controls",
     "model_module_version": "1.5.0",
     "model_name": "HTMLModel",
     "state": {
      "_dom_classes": [],
      "_model_module": "@jupyter-widgets/controls",
      "_model_module_version": "1.5.0",
      "_model_name": "HTMLModel",
      "_view_count": null,
      "_view_module": "@jupyter-widgets/controls",
      "_view_module_version": "1.5.0",
      "_view_name": "HTMLView",
      "description": "",
      "description_tooltip": null,
      "layout": "IPY_MODEL_aeaa4f45c5e8409b91a9943de6f8dabf",
      "placeholder": "​",
      "style": "IPY_MODEL_be7d75cdc0254873b3ece4c7af8d1152",
      "value": " 3/3 [06:28&lt;00:00, 118.70s/it]"
     }
    },
    "e400e3946eda40b29728d8ad6891051d": {
     "model_module": "@jupyter-widgets/controls",
     "model_module_version": "1.5.0",
     "model_name": "DescriptionStyleModel",
     "state": {
      "_model_module": "@jupyter-widgets/controls",
      "_model_module_version": "1.5.0",
      "_model_name": "DescriptionStyleModel",
      "_view_count": null,
      "_view_module": "@jupyter-widgets/base",
      "_view_module_version": "1.2.0",
      "_view_name": "StyleView",
      "description_width": ""
     }
    },
    "e45935cc01384638b3e51f618a710649": {
     "model_module": "@jupyter-widgets/base",
     "model_module_version": "1.2.0",
     "model_name": "LayoutModel",
     "state": {
      "_model_module": "@jupyter-widgets/base",
      "_model_module_version": "1.2.0",
      "_model_name": "LayoutModel",
      "_view_count": null,
      "_view_module": "@jupyter-widgets/base",
      "_view_module_version": "1.2.0",
      "_view_name": "LayoutView",
      "align_content": null,
      "align_items": null,
      "align_self": null,
      "border": null,
      "bottom": null,
      "display": null,
      "flex": null,
      "flex_flow": null,
      "grid_area": null,
      "grid_auto_columns": null,
      "grid_auto_flow": null,
      "grid_auto_rows": null,
      "grid_column": null,
      "grid_gap": null,
      "grid_row": null,
      "grid_template_areas": null,
      "grid_template_columns": null,
      "grid_template_rows": null,
      "height": null,
      "justify_content": null,
      "justify_items": null,
      "left": null,
      "margin": null,
      "max_height": null,
      "max_width": null,
      "min_height": null,
      "min_width": null,
      "object_fit": null,
      "object_position": null,
      "order": null,
      "overflow": null,
      "overflow_x": null,
      "overflow_y": null,
      "padding": null,
      "right": null,
      "top": null,
      "visibility": null,
      "width": null
     }
    },
    "e4c01efac4834cb7bbf8b7e541182335": {
     "model_module": "@jupyter-widgets/controls",
     "model_module_version": "1.5.0",
     "model_name": "HTMLModel",
     "state": {
      "_dom_classes": [],
      "_model_module": "@jupyter-widgets/controls",
      "_model_module_version": "1.5.0",
      "_model_name": "HTMLModel",
      "_view_count": null,
      "_view_module": "@jupyter-widgets/controls",
      "_view_module_version": "1.5.0",
      "_view_name": "HTMLView",
      "description": "",
      "description_tooltip": null,
      "layout": "IPY_MODEL_a5899ef22c644b66b746f36476aa43f7",
      "placeholder": "​",
      "style": "IPY_MODEL_4d885fefe0b84b4d9700a3be069f50ae",
      "value": "100%"
     }
    },
    "e550df2b2f24488f94c6464633a018e6": {
     "model_module": "@jupyter-widgets/base",
     "model_module_version": "1.2.0",
     "model_name": "LayoutModel",
     "state": {
      "_model_module": "@jupyter-widgets/base",
      "_model_module_version": "1.2.0",
      "_model_name": "LayoutModel",
      "_view_count": null,
      "_view_module": "@jupyter-widgets/base",
      "_view_module_version": "1.2.0",
      "_view_name": "LayoutView",
      "align_content": null,
      "align_items": null,
      "align_self": null,
      "border": null,
      "bottom": null,
      "display": null,
      "flex": null,
      "flex_flow": null,
      "grid_area": null,
      "grid_auto_columns": null,
      "grid_auto_flow": null,
      "grid_auto_rows": null,
      "grid_column": null,
      "grid_gap": null,
      "grid_row": null,
      "grid_template_areas": null,
      "grid_template_columns": null,
      "grid_template_rows": null,
      "height": null,
      "justify_content": null,
      "justify_items": null,
      "left": null,
      "margin": null,
      "max_height": null,
      "max_width": null,
      "min_height": null,
      "min_width": null,
      "object_fit": null,
      "object_position": null,
      "order": null,
      "overflow": null,
      "overflow_x": null,
      "overflow_y": null,
      "padding": null,
      "right": null,
      "top": null,
      "visibility": null,
      "width": null
     }
    },
    "e55b7a695b5549cba42d8fa6c61143f6": {
     "model_module": "@jupyter-widgets/controls",
     "model_module_version": "1.5.0",
     "model_name": "FloatProgressModel",
     "state": {
      "_dom_classes": [],
      "_model_module": "@jupyter-widgets/controls",
      "_model_module_version": "1.5.0",
      "_model_name": "FloatProgressModel",
      "_view_count": null,
      "_view_module": "@jupyter-widgets/controls",
      "_view_module_version": "1.5.0",
      "_view_name": "ProgressView",
      "bar_style": "success",
      "description": "",
      "description_tooltip": null,
      "layout": "IPY_MODEL_91b831ee9fd549739fffd2728322a387",
      "max": 41151,
      "min": 0,
      "orientation": "horizontal",
      "style": "IPY_MODEL_f0dedf227d1c4499b517e0ddee5509ba",
      "value": 41151
     }
    },
    "e784c9bd49f346ab9b5434e53b399267": {
     "model_module": "@jupyter-widgets/base",
     "model_module_version": "1.2.0",
     "model_name": "LayoutModel",
     "state": {
      "_model_module": "@jupyter-widgets/base",
      "_model_module_version": "1.2.0",
      "_model_name": "LayoutModel",
      "_view_count": null,
      "_view_module": "@jupyter-widgets/base",
      "_view_module_version": "1.2.0",
      "_view_name": "LayoutView",
      "align_content": null,
      "align_items": null,
      "align_self": null,
      "border": null,
      "bottom": null,
      "display": null,
      "flex": null,
      "flex_flow": null,
      "grid_area": null,
      "grid_auto_columns": null,
      "grid_auto_flow": null,
      "grid_auto_rows": null,
      "grid_column": null,
      "grid_gap": null,
      "grid_row": null,
      "grid_template_areas": null,
      "grid_template_columns": null,
      "grid_template_rows": null,
      "height": null,
      "justify_content": null,
      "justify_items": null,
      "left": null,
      "margin": null,
      "max_height": null,
      "max_width": null,
      "min_height": null,
      "min_width": null,
      "object_fit": null,
      "object_position": null,
      "order": null,
      "overflow": null,
      "overflow_x": null,
      "overflow_y": null,
      "padding": null,
      "right": null,
      "top": null,
      "visibility": null,
      "width": null
     }
    },
    "e9df6e742d0d49a0b8ce19d89cc048a1": {
     "model_module": "@jupyter-widgets/controls",
     "model_module_version": "1.5.0",
     "model_name": "DescriptionStyleModel",
     "state": {
      "_model_module": "@jupyter-widgets/controls",
      "_model_module_version": "1.5.0",
      "_model_name": "DescriptionStyleModel",
      "_view_count": null,
      "_view_module": "@jupyter-widgets/base",
      "_view_module_version": "1.2.0",
      "_view_name": "StyleView",
      "description_width": ""
     }
    },
    "ebd8fb75adda4a85be855290c40438d0": {
     "model_module": "@jupyter-widgets/base",
     "model_module_version": "1.2.0",
     "model_name": "LayoutModel",
     "state": {
      "_model_module": "@jupyter-widgets/base",
      "_model_module_version": "1.2.0",
      "_model_name": "LayoutModel",
      "_view_count": null,
      "_view_module": "@jupyter-widgets/base",
      "_view_module_version": "1.2.0",
      "_view_name": "LayoutView",
      "align_content": null,
      "align_items": null,
      "align_self": null,
      "border": null,
      "bottom": null,
      "display": null,
      "flex": null,
      "flex_flow": null,
      "grid_area": null,
      "grid_auto_columns": null,
      "grid_auto_flow": null,
      "grid_auto_rows": null,
      "grid_column": null,
      "grid_gap": null,
      "grid_row": null,
      "grid_template_areas": null,
      "grid_template_columns": null,
      "grid_template_rows": null,
      "height": null,
      "justify_content": null,
      "justify_items": null,
      "left": null,
      "margin": null,
      "max_height": null,
      "max_width": null,
      "min_height": null,
      "min_width": null,
      "object_fit": null,
      "object_position": null,
      "order": null,
      "overflow": null,
      "overflow_x": null,
      "overflow_y": null,
      "padding": null,
      "right": null,
      "top": null,
      "visibility": null,
      "width": null
     }
    },
    "ef3ee887b7af4598a6037c499c3902b9": {
     "model_module": "@jupyter-widgets/base",
     "model_module_version": "1.2.0",
     "model_name": "LayoutModel",
     "state": {
      "_model_module": "@jupyter-widgets/base",
      "_model_module_version": "1.2.0",
      "_model_name": "LayoutModel",
      "_view_count": null,
      "_view_module": "@jupyter-widgets/base",
      "_view_module_version": "1.2.0",
      "_view_name": "LayoutView",
      "align_content": null,
      "align_items": null,
      "align_self": null,
      "border": null,
      "bottom": null,
      "display": null,
      "flex": null,
      "flex_flow": null,
      "grid_area": null,
      "grid_auto_columns": null,
      "grid_auto_flow": null,
      "grid_auto_rows": null,
      "grid_column": null,
      "grid_gap": null,
      "grid_row": null,
      "grid_template_areas": null,
      "grid_template_columns": null,
      "grid_template_rows": null,
      "height": null,
      "justify_content": null,
      "justify_items": null,
      "left": null,
      "margin": null,
      "max_height": null,
      "max_width": null,
      "min_height": null,
      "min_width": null,
      "object_fit": null,
      "object_position": null,
      "order": null,
      "overflow": null,
      "overflow_x": null,
      "overflow_y": null,
      "padding": null,
      "right": null,
      "top": null,
      "visibility": null,
      "width": null
     }
    },
    "f0dedf227d1c4499b517e0ddee5509ba": {
     "model_module": "@jupyter-widgets/controls",
     "model_module_version": "1.5.0",
     "model_name": "ProgressStyleModel",
     "state": {
      "_model_module": "@jupyter-widgets/controls",
      "_model_module_version": "1.5.0",
      "_model_name": "ProgressStyleModel",
      "_view_count": null,
      "_view_module": "@jupyter-widgets/base",
      "_view_module_version": "1.2.0",
      "_view_name": "StyleView",
      "bar_color": null,
      "description_width": ""
     }
    },
    "f73682702d7e41bf9d9f2e25c3bd3bb6": {
     "model_module": "@jupyter-widgets/base",
     "model_module_version": "1.2.0",
     "model_name": "LayoutModel",
     "state": {
      "_model_module": "@jupyter-widgets/base",
      "_model_module_version": "1.2.0",
      "_model_name": "LayoutModel",
      "_view_count": null,
      "_view_module": "@jupyter-widgets/base",
      "_view_module_version": "1.2.0",
      "_view_name": "LayoutView",
      "align_content": null,
      "align_items": null,
      "align_self": null,
      "border": null,
      "bottom": null,
      "display": null,
      "flex": null,
      "flex_flow": null,
      "grid_area": null,
      "grid_auto_columns": null,
      "grid_auto_flow": null,
      "grid_auto_rows": null,
      "grid_column": null,
      "grid_gap": null,
      "grid_row": null,
      "grid_template_areas": null,
      "grid_template_columns": null,
      "grid_template_rows": null,
      "height": null,
      "justify_content": null,
      "justify_items": null,
      "left": null,
      "margin": null,
      "max_height": null,
      "max_width": null,
      "min_height": null,
      "min_width": null,
      "object_fit": null,
      "object_position": null,
      "order": null,
      "overflow": null,
      "overflow_x": null,
      "overflow_y": null,
      "padding": null,
      "right": null,
      "top": null,
      "visibility": null,
      "width": null
     }
    },
    "fb25d5d000634536bcb1acfae7cf2e9d": {
     "model_module": "@jupyter-widgets/base",
     "model_module_version": "1.2.0",
     "model_name": "LayoutModel",
     "state": {
      "_model_module": "@jupyter-widgets/base",
      "_model_module_version": "1.2.0",
      "_model_name": "LayoutModel",
      "_view_count": null,
      "_view_module": "@jupyter-widgets/base",
      "_view_module_version": "1.2.0",
      "_view_name": "LayoutView",
      "align_content": null,
      "align_items": null,
      "align_self": null,
      "border": null,
      "bottom": null,
      "display": null,
      "flex": null,
      "flex_flow": null,
      "grid_area": null,
      "grid_auto_columns": null,
      "grid_auto_flow": null,
      "grid_auto_rows": null,
      "grid_column": null,
      "grid_gap": null,
      "grid_row": null,
      "grid_template_areas": null,
      "grid_template_columns": null,
      "grid_template_rows": null,
      "height": null,
      "justify_content": null,
      "justify_items": null,
      "left": null,
      "margin": null,
      "max_height": null,
      "max_width": null,
      "min_height": null,
      "min_width": null,
      "object_fit": null,
      "object_position": null,
      "order": null,
      "overflow": null,
      "overflow_x": null,
      "overflow_y": null,
      "padding": null,
      "right": null,
      "top": null,
      "visibility": null,
      "width": null
     }
    },
    "ffa77cc7e792405d91b61e5a93e0f579": {
     "model_module": "@jupyter-widgets/base",
     "model_module_version": "1.2.0",
     "model_name": "LayoutModel",
     "state": {
      "_model_module": "@jupyter-widgets/base",
      "_model_module_version": "1.2.0",
      "_model_name": "LayoutModel",
      "_view_count": null,
      "_view_module": "@jupyter-widgets/base",
      "_view_module_version": "1.2.0",
      "_view_name": "LayoutView",
      "align_content": null,
      "align_items": null,
      "align_self": null,
      "border": null,
      "bottom": null,
      "display": null,
      "flex": null,
      "flex_flow": null,
      "grid_area": null,
      "grid_auto_columns": null,
      "grid_auto_flow": null,
      "grid_auto_rows": null,
      "grid_column": null,
      "grid_gap": null,
      "grid_row": null,
      "grid_template_areas": null,
      "grid_template_columns": null,
      "grid_template_rows": null,
      "height": null,
      "justify_content": null,
      "justify_items": null,
      "left": null,
      "margin": null,
      "max_height": null,
      "max_width": null,
      "min_height": null,
      "min_width": null,
      "object_fit": null,
      "object_position": null,
      "order": null,
      "overflow": null,
      "overflow_x": null,
      "overflow_y": null,
      "padding": null,
      "right": null,
      "top": null,
      "visibility": null,
      "width": null
     }
    }
   }
  }
 },
 "nbformat": 4,
 "nbformat_minor": 1
}
